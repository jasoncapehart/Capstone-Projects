{
 "cells": [
  {
   "cell_type": "code",
   "execution_count": 1,
   "metadata": {
    "collapsed": true
   },
   "outputs": [],
   "source": [
    "import pandas as pd\n",
    "import numpy as np\n",
    "from scipy import stats, integrate\n",
    "import scipy.stats as stats\n",
    "import matplotlib.pyplot as plt\n",
    "import matplotlib.mlab as mlab\n",
    "%matplotlib inline"
   ]
  },
  {
   "cell_type": "code",
   "execution_count": 2,
   "metadata": {
    "collapsed": true
   },
   "outputs": [],
   "source": [
    "def read_loan(path,fn):\n",
    "    df=pd.DataFrame(pd.read_table(path+\"\\\\\"+fn+\".txt\"))\n",
    "    df.columns = ['CUW_APPLICATION_NUM',\n",
    "'Fltr_MI_Eligibility',\n",
    "'LTV_RAT',\n",
    "'ProcessTimeMinutes',\n",
    "'MISMO_Property_Usage_Cd',\n",
    "'INVESTOR_NAM',\n",
    "'mismo_loan_purpose_cd',\n",
    "'Borrower_No',\n",
    "'FICO',\n",
    "'FirstDecisionDocCount']\n",
    "    return df"
   ]
  },
  {
   "cell_type": "code",
   "execution_count": 3,
   "metadata": {
    "collapsed": false,
    "scrolled": true
   },
   "outputs": [
    {
     "data": {
      "text/html": [
       "<div>\n",
       "<table border=\"1\" class=\"dataframe\">\n",
       "  <thead>\n",
       "    <tr style=\"text-align: right;\">\n",
       "      <th></th>\n",
       "      <th>CUW_APPLICATION_NUM</th>\n",
       "      <th>Fltr_MI_Eligibility</th>\n",
       "      <th>LTV_RAT</th>\n",
       "      <th>ProcessTimeMinutes</th>\n",
       "      <th>MISMO_Property_Usage_Cd</th>\n",
       "      <th>INVESTOR_NAM</th>\n",
       "      <th>mismo_loan_purpose_cd</th>\n",
       "      <th>Borrower_No</th>\n",
       "      <th>FICO</th>\n",
       "      <th>FirstDecisionDocCount</th>\n",
       "    </tr>\n",
       "  </thead>\n",
       "  <tbody>\n",
       "    <tr>\n",
       "      <th>0</th>\n",
       "      <td>18009550</td>\n",
       "      <td>0</td>\n",
       "      <td>0.43</td>\n",
       "      <td>152.0</td>\n",
       "      <td>PRI</td>\n",
       "      <td>FANNIE MAE</td>\n",
       "      <td>PUR</td>\n",
       "      <td>1</td>\n",
       "      <td>660</td>\n",
       "      <td>22.0</td>\n",
       "    </tr>\n",
       "    <tr>\n",
       "      <th>1</th>\n",
       "      <td>18009551</td>\n",
       "      <td>1</td>\n",
       "      <td>0.95</td>\n",
       "      <td>51.0</td>\n",
       "      <td>PRI</td>\n",
       "      <td>FANNIE MAE</td>\n",
       "      <td>PUR</td>\n",
       "      <td>1</td>\n",
       "      <td>724</td>\n",
       "      <td>28.0</td>\n",
       "    </tr>\n",
       "    <tr>\n",
       "      <th>2</th>\n",
       "      <td>18009552</td>\n",
       "      <td>0</td>\n",
       "      <td>0.80</td>\n",
       "      <td>114.0</td>\n",
       "      <td>PRI</td>\n",
       "      <td>TBI MORTGAGE COMPANY</td>\n",
       "      <td>PUR</td>\n",
       "      <td>2</td>\n",
       "      <td>808</td>\n",
       "      <td>24.0</td>\n",
       "    </tr>\n",
       "    <tr>\n",
       "      <th>3</th>\n",
       "      <td>18009553</td>\n",
       "      <td>0</td>\n",
       "      <td>0.80</td>\n",
       "      <td>110.0</td>\n",
       "      <td>PRI</td>\n",
       "      <td>FANNIE MAE</td>\n",
       "      <td>PUR</td>\n",
       "      <td>2</td>\n",
       "      <td>781</td>\n",
       "      <td>20.0</td>\n",
       "    </tr>\n",
       "    <tr>\n",
       "      <th>4</th>\n",
       "      <td>18009554</td>\n",
       "      <td>0</td>\n",
       "      <td>0.75</td>\n",
       "      <td>135.0</td>\n",
       "      <td>PRI</td>\n",
       "      <td>TBI MORTGAGE COMPANY</td>\n",
       "      <td>PUR</td>\n",
       "      <td>1</td>\n",
       "      <td>780</td>\n",
       "      <td>33.0</td>\n",
       "    </tr>\n",
       "  </tbody>\n",
       "</table>\n",
       "</div>"
      ],
      "text/plain": [
       "   CUW_APPLICATION_NUM  Fltr_MI_Eligibility  LTV_RAT  ProcessTimeMinutes  \\\n",
       "0             18009550                    0     0.43               152.0   \n",
       "1             18009551                    1     0.95                51.0   \n",
       "2             18009552                    0     0.80               114.0   \n",
       "3             18009553                    0     0.80               110.0   \n",
       "4             18009554                    0     0.75               135.0   \n",
       "\n",
       "  MISMO_Property_Usage_Cd          INVESTOR_NAM mismo_loan_purpose_cd  \\\n",
       "0                     PRI            FANNIE MAE                   PUR   \n",
       "1                     PRI            FANNIE MAE                   PUR   \n",
       "2                     PRI  TBI MORTGAGE COMPANY                   PUR   \n",
       "3                     PRI            FANNIE MAE                   PUR   \n",
       "4                     PRI  TBI MORTGAGE COMPANY                   PUR   \n",
       "\n",
       "   Borrower_No  FICO  FirstDecisionDocCount  \n",
       "0            1   660                   22.0  \n",
       "1            1   724                   28.0  \n",
       "2            2   808                   24.0  \n",
       "3            2   781                   20.0  \n",
       "4            1   780                   33.0  "
      ]
     },
     "execution_count": 3,
     "metadata": {},
     "output_type": "execute_result"
    }
   ],
   "source": [
    "df=read_loan(\"C:\\\\Users\\\\wliu\\\\Desktop\",\"CUW_Data\")\n",
    "df.head()"
   ]
  },
  {
   "cell_type": "code",
   "execution_count": 4,
   "metadata": {
    "collapsed": false
   },
   "outputs": [
    {
     "data": {
      "text/plain": [
       "CUW_APPLICATION_NUM        False\n",
       "Fltr_MI_Eligibility        False\n",
       "LTV_RAT                    False\n",
       "ProcessTimeMinutes          True\n",
       "MISMO_Property_Usage_Cd    False\n",
       "INVESTOR_NAM                True\n",
       "mismo_loan_purpose_cd      False\n",
       "Borrower_No                False\n",
       "FICO                       False\n",
       "FirstDecisionDocCount       True\n",
       "dtype: bool"
      ]
     },
     "execution_count": 4,
     "metadata": {},
     "output_type": "execute_result"
    }
   ],
   "source": [
    "#check any column with NAN value\n",
    "df.isnull().any()"
   ]
  },
  {
   "cell_type": "code",
   "execution_count": 5,
   "metadata": {
    "collapsed": false
   },
   "outputs": [
    {
     "data": {
      "text/plain": [
       "(30241, 10)"
      ]
     },
     "execution_count": 5,
     "metadata": {},
     "output_type": "execute_result"
    }
   ],
   "source": [
    "df.shape"
   ]
  },
  {
   "cell_type": "code",
   "execution_count": 6,
   "metadata": {
    "collapsed": false
   },
   "outputs": [
    {
     "data": {
      "text/plain": [
       "(29561, 10)"
      ]
     },
     "execution_count": 6,
     "metadata": {},
     "output_type": "execute_result"
    }
   ],
   "source": [
    "df = df.dropna(axis=0,subset=['ProcessTimeMinutes','INVESTOR_NAM','FirstDecisionDocCount'])\n",
    "df.shape"
   ]
  },
  {
   "cell_type": "code",
   "execution_count": 7,
   "metadata": {
    "collapsed": false
   },
   "outputs": [
    {
     "data": {
      "text/plain": [
       "CUW_APPLICATION_NUM          int64\n",
       "Fltr_MI_Eligibility          int64\n",
       "LTV_RAT                    float64\n",
       "ProcessTimeMinutes         float64\n",
       "MISMO_Property_Usage_Cd     object\n",
       "INVESTOR_NAM                object\n",
       "mismo_loan_purpose_cd       object\n",
       "Borrower_No                  int64\n",
       "FICO                         int64\n",
       "FirstDecisionDocCount      float64\n",
       "dtype: object"
      ]
     },
     "execution_count": 7,
     "metadata": {},
     "output_type": "execute_result"
    }
   ],
   "source": [
    "df.dtypes"
   ]
  },
  {
   "cell_type": "code",
   "execution_count": 8,
   "metadata": {
    "collapsed": true
   },
   "outputs": [],
   "source": [
    "def f2(row):\n",
    "    if row['FICO'] <=630 :\n",
    "        val = 630\n",
    "    elif 630< row['FICO'] <=650:\n",
    "        val = 650\n",
    "    elif 650< row['FICO'] <=670:\n",
    "        val = 670\n",
    "    elif 670< row['FICO'] <=690:\n",
    "        val = 690\n",
    "    elif 690< row['FICO'] <=710:\n",
    "        val = 710\n",
    "    elif 710< row['FICO'] <=730:\n",
    "        val = 730\n",
    "    elif 730< row['FICO'] <=750:\n",
    "        val = 750\n",
    "    elif 750< row['FICO'] <=770:\n",
    "        val = 770\n",
    "    elif 770< row['FICO'] <=790:\n",
    "        val = 790\n",
    "    else:\n",
    "        val =800\n",
    "    return val\n",
    "\n",
    "df['FICO_new'] = (df.apply(f2, axis=1))"
   ]
  },
  {
   "cell_type": "code",
   "execution_count": 9,
   "metadata": {
    "collapsed": false
   },
   "outputs": [
    {
     "data": {
      "text/plain": [
       "(25292, 11)"
      ]
     },
     "execution_count": 9,
     "metadata": {},
     "output_type": "execute_result"
    }
   ],
   "source": [
    "df = df[(df.ProcessTimeMinutes<=180)]\n",
    "df.shape"
   ]
  },
  {
   "cell_type": "markdown",
   "metadata": {},
   "source": [
    "**FICO**"
   ]
  },
  {
   "cell_type": "code",
   "execution_count": 10,
   "metadata": {
    "collapsed": false
   },
   "outputs": [
    {
     "data": {
      "text/plain": [
       "FICO_new\n",
       "630     0.4%\n",
       "650     1.2%\n",
       "670     2.1%\n",
       "690     3.9%\n",
       "710     6.6%\n",
       "730     8.6%\n",
       "750    10.3%\n",
       "770    14.0%\n",
       "790    20.2%\n",
       "800    32.7%\n",
       "Name: CUW_APPLICATION_NUM, dtype: object"
      ]
     },
     "execution_count": 10,
     "metadata": {},
     "output_type": "execute_result"
    }
   ],
   "source": [
    "(df.groupby('FICO_new').CUW_APPLICATION_NUM.nunique()/df.CUW_APPLICATION_NUM.nunique())\\\n",
    ".mul(100).round(1).astype(str) + '%'"
   ]
  },
  {
   "cell_type": "markdown",
   "metadata": {},
   "source": [
    "**Property Usage**"
   ]
  },
  {
   "cell_type": "code",
   "execution_count": 11,
   "metadata": {
    "collapsed": false
   },
   "outputs": [
    {
     "data": {
      "text/plain": [
       "MISMO_Property_Usage_Cd\n",
       "INVST     3.3%\n",
       "PRI      94.2%\n",
       "SEC       2.5%\n",
       "Name: CUW_APPLICATION_NUM, dtype: object"
      ]
     },
     "execution_count": 11,
     "metadata": {},
     "output_type": "execute_result"
    }
   ],
   "source": [
    "(df.groupby('MISMO_Property_Usage_Cd').CUW_APPLICATION_NUM.nunique()/df.CUW_APPLICATION_NUM.nunique())\\\n",
    ".mul(100).round(1).astype(str) + '%'"
   ]
  },
  {
   "cell_type": "markdown",
   "metadata": {},
   "source": [
    "**Borrower Number**"
   ]
  },
  {
   "cell_type": "code",
   "execution_count": 12,
   "metadata": {
    "collapsed": false
   },
   "outputs": [
    {
     "data": {
      "text/plain": [
       "Borrower_No\n",
       "1    52.6%\n",
       "2    47.0%\n",
       "3     0.4%\n",
       "4     0.0%\n",
       "5     0.0%\n",
       "Name: CUW_APPLICATION_NUM, dtype: object"
      ]
     },
     "execution_count": 12,
     "metadata": {},
     "output_type": "execute_result"
    }
   ],
   "source": [
    "(df.groupby('Borrower_No').CUW_APPLICATION_NUM.nunique()/df.CUW_APPLICATION_NUM.nunique())\\\n",
    ".mul(100).round(1).astype(str) + '%'"
   ]
  },
  {
   "cell_type": "markdown",
   "metadata": {},
   "source": [
    "**Loan Purpose**"
   ]
  },
  {
   "cell_type": "code",
   "execution_count": 13,
   "metadata": {
    "collapsed": false,
    "scrolled": true
   },
   "outputs": [
    {
     "data": {
      "text/plain": [
       "mismo_loan_purpose_cd\n",
       "CONPA     0.0%\n",
       "CONPR     0.0%\n",
       "PUR      46.1%\n",
       "REF      50.0%\n",
       "UNK       3.9%\n",
       "Name: CUW_APPLICATION_NUM, dtype: object"
      ]
     },
     "execution_count": 13,
     "metadata": {},
     "output_type": "execute_result"
    }
   ],
   "source": [
    "(df.groupby('mismo_loan_purpose_cd').CUW_APPLICATION_NUM.nunique()/df.CUW_APPLICATION_NUM.nunique())\\\n",
    ".mul(100).round(1).astype(str) + '%'"
   ]
  },
  {
   "cell_type": "code",
   "execution_count": 14,
   "metadata": {
    "collapsed": false
   },
   "outputs": [
    {
     "data": {
      "image/png": "[encoded data removed]",
      "text/plain": [
       "<matplotlib.figure.Figure at 0xa12fdd8>"
      ]
     },
     "metadata": {},
     "output_type": "display_data"
    }
   ],
   "source": [
    "ProcessTime_distri = df[(df.ProcessTimeMinutes<=300)].groupby('ProcessTimeMinutes').CUW_APPLICATION_NUM.nunique().sort_index()\n",
    "ProcessTime_distri.plot(kind = 'line', title = 'Process Time Distr').set(xlabel = 'Process Time', ylabel = 'Loan Count')\n",
    "plt.show()"
   ]
  },
  {
   "cell_type": "code",
   "execution_count": 15,
   "metadata": {
    "collapsed": false
   },
   "outputs": [],
   "source": [
    "df['Pri_Resident'] = np.where(df.MISMO_Property_Usage_Cd=='PRI', 1, 0)\n",
    "df['Multi_Borrower'] = np.where(df.Borrower_No == 1, 0, 1)\n",
    "df['Fannie_Flag'] = np.where(df.INVESTOR_NAM == 'FANNIE MAE', 1, 0)\n",
    "df['Purchase_Flag'] = np.where(df.mismo_loan_purpose_cd == 'PUR', 1, 0)"
   ]
  },
  {
   "cell_type": "markdown",
   "metadata": {},
   "source": [
    "** Explore Process Time vs. FICO Score, LTV, Doc Count etc **"
   ]
  },
  {
   "cell_type": "code",
   "execution_count": 16,
   "metadata": {
    "collapsed": false
   },
   "outputs": [
    {
     "data": {
      "text/plain": [
       "<matplotlib.collections.PathCollection at 0xa7899b0>"
      ]
     },
     "execution_count": 16,
     "metadata": {},
     "output_type": "execute_result"
    },
    {
     "data": {
      "image/png": "[encoded data removed]",
      "text/plain": [
       "<matplotlib.figure.Figure at 0xa750c88>"
      ]
     },
     "metadata": {},
     "output_type": "display_data"
    }
   ],
   "source": [
    "plt.scatter(df.FICO_new, df.ProcessTimeMinutes)"
   ]
  },
  {
   "cell_type": "code",
   "execution_count": 17,
   "metadata": {
    "collapsed": false
   },
   "outputs": [
    {
     "data": {
      "text/plain": [
       "<matplotlib.collections.PathCollection at 0xa845518>"
      ]
     },
     "execution_count": 17,
     "metadata": {},
     "output_type": "execute_result"
    },
    {
     "data": {
      "image/png": "[encoded data removed]",
      "text/plain": [
       "<matplotlib.figure.Figure at 0xa7249e8>"
      ]
     },
     "metadata": {},
     "output_type": "display_data"
    }
   ],
   "source": [
    "plt.scatter(df.FirstDecisionDocCount, df.ProcessTimeMinutes)"
   ]
  },
  {
   "cell_type": "code",
   "execution_count": 18,
   "metadata": {
    "collapsed": false
   },
   "outputs": [
    {
     "data": {
      "text/html": [
       "<div>\n",
       "<table border=\"1\" class=\"dataframe\">\n",
       "  <thead>\n",
       "    <tr style=\"text-align: right;\">\n",
       "      <th></th>\n",
       "      <th>CUW_APPLICATION_NUM</th>\n",
       "      <th>Fltr_MI_Eligibility</th>\n",
       "      <th>LTV_RAT</th>\n",
       "      <th>ProcessTimeMinutes</th>\n",
       "      <th>MISMO_Property_Usage_Cd</th>\n",
       "      <th>INVESTOR_NAM</th>\n",
       "      <th>mismo_loan_purpose_cd</th>\n",
       "      <th>Borrower_No</th>\n",
       "      <th>FICO</th>\n",
       "      <th>FirstDecisionDocCount</th>\n",
       "      <th>FICO_new</th>\n",
       "      <th>Pri_Resident</th>\n",
       "      <th>Multi_Borrower</th>\n",
       "      <th>Fannie_Flag</th>\n",
       "      <th>Purchase_Flag</th>\n",
       "    </tr>\n",
       "  </thead>\n",
       "  <tbody>\n",
       "    <tr>\n",
       "      <th>0</th>\n",
       "      <td>18009550</td>\n",
       "      <td>0</td>\n",
       "      <td>0.43</td>\n",
       "      <td>152.0</td>\n",
       "      <td>PRI</td>\n",
       "      <td>FANNIE MAE</td>\n",
       "      <td>PUR</td>\n",
       "      <td>1</td>\n",
       "      <td>660</td>\n",
       "      <td>22.0</td>\n",
       "      <td>670</td>\n",
       "      <td>1</td>\n",
       "      <td>0</td>\n",
       "      <td>1</td>\n",
       "      <td>1</td>\n",
       "    </tr>\n",
       "    <tr>\n",
       "      <th>1</th>\n",
       "      <td>18009551</td>\n",
       "      <td>1</td>\n",
       "      <td>0.95</td>\n",
       "      <td>51.0</td>\n",
       "      <td>PRI</td>\n",
       "      <td>FANNIE MAE</td>\n",
       "      <td>PUR</td>\n",
       "      <td>1</td>\n",
       "      <td>724</td>\n",
       "      <td>28.0</td>\n",
       "      <td>730</td>\n",
       "      <td>1</td>\n",
       "      <td>0</td>\n",
       "      <td>1</td>\n",
       "      <td>1</td>\n",
       "    </tr>\n",
       "    <tr>\n",
       "      <th>2</th>\n",
       "      <td>18009552</td>\n",
       "      <td>0</td>\n",
       "      <td>0.80</td>\n",
       "      <td>114.0</td>\n",
       "      <td>PRI</td>\n",
       "      <td>TBI MORTGAGE COMPANY</td>\n",
       "      <td>PUR</td>\n",
       "      <td>2</td>\n",
       "      <td>808</td>\n",
       "      <td>24.0</td>\n",
       "      <td>800</td>\n",
       "      <td>1</td>\n",
       "      <td>1</td>\n",
       "      <td>0</td>\n",
       "      <td>1</td>\n",
       "    </tr>\n",
       "    <tr>\n",
       "      <th>3</th>\n",
       "      <td>18009553</td>\n",
       "      <td>0</td>\n",
       "      <td>0.80</td>\n",
       "      <td>110.0</td>\n",
       "      <td>PRI</td>\n",
       "      <td>FANNIE MAE</td>\n",
       "      <td>PUR</td>\n",
       "      <td>2</td>\n",
       "      <td>781</td>\n",
       "      <td>20.0</td>\n",
       "      <td>790</td>\n",
       "      <td>1</td>\n",
       "      <td>1</td>\n",
       "      <td>1</td>\n",
       "      <td>1</td>\n",
       "    </tr>\n",
       "    <tr>\n",
       "      <th>4</th>\n",
       "      <td>18009554</td>\n",
       "      <td>0</td>\n",
       "      <td>0.75</td>\n",
       "      <td>135.0</td>\n",
       "      <td>PRI</td>\n",
       "      <td>TBI MORTGAGE COMPANY</td>\n",
       "      <td>PUR</td>\n",
       "      <td>1</td>\n",
       "      <td>780</td>\n",
       "      <td>33.0</td>\n",
       "      <td>790</td>\n",
       "      <td>1</td>\n",
       "      <td>0</td>\n",
       "      <td>0</td>\n",
       "      <td>1</td>\n",
       "    </tr>\n",
       "  </tbody>\n",
       "</table>\n",
       "</div>"
      ],
      "text/plain": [
       "   CUW_APPLICATION_NUM  Fltr_MI_Eligibility  LTV_RAT  ProcessTimeMinutes  \\\n",
       "0             18009550                    0     0.43               152.0   \n",
       "1             18009551                    1     0.95                51.0   \n",
       "2             18009552                    0     0.80               114.0   \n",
       "3             18009553                    0     0.80               110.0   \n",
       "4             18009554                    0     0.75               135.0   \n",
       "\n",
       "  MISMO_Property_Usage_Cd          INVESTOR_NAM mismo_loan_purpose_cd  \\\n",
       "0                     PRI            FANNIE MAE                   PUR   \n",
       "1                     PRI            FANNIE MAE                   PUR   \n",
       "2                     PRI  TBI MORTGAGE COMPANY                   PUR   \n",
       "3                     PRI            FANNIE MAE                   PUR   \n",
       "4                     PRI  TBI MORTGAGE COMPANY                   PUR   \n",
       "\n",
       "   Borrower_No  FICO  FirstDecisionDocCount  FICO_new  Pri_Resident  \\\n",
       "0            1   660                   22.0       670             1   \n",
       "1            1   724                   28.0       730             1   \n",
       "2            2   808                   24.0       800             1   \n",
       "3            2   781                   20.0       790             1   \n",
       "4            1   780                   33.0       790             1   \n",
       "\n",
       "   Multi_Borrower  Fannie_Flag  Purchase_Flag  \n",
       "0               0            1              1  \n",
       "1               0            1              1  \n",
       "2               1            0              1  \n",
       "3               1            1              1  \n",
       "4               0            0              1  "
      ]
     },
     "execution_count": 18,
     "metadata": {},
     "output_type": "execute_result"
    }
   ],
   "source": [
    "df.head()"
   ]
  },
  {
   "cell_type": "code",
   "execution_count": 40,
   "metadata": {
    "collapsed": false
   },
   "outputs": [],
   "source": [
    "X = pd.concat([df.iloc[:,1:3], df.iloc[:,9:16]], axis = 1).values\n",
    "y = df.iloc[:,3].values"
   ]
  },
  {
   "cell_type": "code",
   "execution_count": 41,
   "metadata": {
    "collapsed": false
   },
   "outputs": [],
   "source": [
    "from sklearn.model_selection import train_test_split\n",
    "X_train, X_test, y_train, y_test = train_test_split(X, y, test_size = 0.2, random_state = 0)"
   ]
  },
  {
   "cell_type": "code",
   "execution_count": 42,
   "metadata": {
    "collapsed": false
   },
   "outputs": [],
   "source": [
    "from sklearn.preprocessing import StandardScaler\n",
    "sc_X = StandardScaler()\n",
    "X_train = sc_X.fit_transform(X_train)\n",
    "X_test = sc_X.transform(X_test)"
   ]
  },
  {
   "cell_type": "markdown",
   "metadata": {
    "collapsed": true
   },
   "source": [
    "** Algorithm 1 - Linear Regression **"
   ]
  },
  {
   "cell_type": "code",
   "execution_count": 43,
   "metadata": {
    "collapsed": false
   },
   "outputs": [
    {
     "data": {
      "text/plain": [
       "LinearRegression(copy_X=True, fit_intercept=True, n_jobs=1, normalize=False)"
      ]
     },
     "execution_count": 43,
     "metadata": {},
     "output_type": "execute_result"
    }
   ],
   "source": [
    "from sklearn.linear_model import LinearRegression\n",
    "regressor = LinearRegression()\n",
    "regressor.fit(X_train, y_train)"
   ]
  },
  {
   "cell_type": "code",
   "execution_count": 44,
   "metadata": {
    "collapsed": false
   },
   "outputs": [
    {
     "data": {
      "text/plain": [
       "array([ 102.51393051,  100.2981739 ,  101.90379277, ...,  112.1313458 ,\n",
       "        104.70969576,  101.46609631])"
      ]
     },
     "execution_count": 44,
     "metadata": {},
     "output_type": "execute_result"
    }
   ],
   "source": [
    "# Predicting the Test set results\n",
    "y_pred = regressor.predict(X_test)\n",
    "y_pred"
   ]
  },
  {
   "cell_type": "code",
   "execution_count": 45,
   "metadata": {
    "collapsed": false
   },
   "outputs": [
    {
     "data": {
      "text/plain": [
       "array([  86.,   14.,   42., ...,  125.,   98.,  107.])"
      ]
     },
     "execution_count": 45,
     "metadata": {},
     "output_type": "execute_result"
    }
   ],
   "source": [
    "y_test"
   ]
  },
  {
   "cell_type": "markdown",
   "metadata": {},
   "source": [
    "** 3 Metrics to Evaluate Regression **\n",
    "- MAE (Mean Absolute Error)\n",
    "- MSE (Mean Squre Error)\n",
    "- R Square"
   ]
  },
  {
   "cell_type": "code",
   "execution_count": 58,
   "metadata": {
    "collapsed": false
   },
   "outputs": [
    {
     "name": "stdout",
     "output_type": "stream",
     "text": [
      "MAE: -32.598 (0.628)\n"
     ]
    }
   ],
   "source": [
    "#MAE\n",
    "from sklearn.model_selection import cross_val_score\n",
    "scoring = 'neg_mean_absolute_error'\n",
    "results = cross_val_score(regressor, X_train, y_train, cv=10, scoring=scoring)\n",
    "print((\"MAE: %.3f (%.3f)\") % (results.mean(), results.std()))"
   ]
  },
  {
   "cell_type": "code",
   "execution_count": 59,
   "metadata": {
    "collapsed": false
   },
   "outputs": [
    {
     "name": "stdout",
     "output_type": "stream",
     "text": [
      "MSE: -1669.794 (63.380)\n"
     ]
    }
   ],
   "source": [
    "#MSE\n",
    "scoring = 'neg_mean_squared_error'\n",
    "results = cross_val_score(regressor, X_train, y_train, cv=10, scoring=scoring)\n",
    "print((\"MSE: %.3f (%.3f)\") % (results.mean(), results.std()))"
   ]
  },
  {
   "cell_type": "code",
   "execution_count": 52,
   "metadata": {
    "collapsed": false
   },
   "outputs": [
    {
     "name": "stdout",
     "output_type": "stream",
     "text": [
      "41.5944139686\n"
     ]
    }
   ],
   "source": [
    "# RMSE\n",
    "from sklearn.metrics import mean_squared_error\n",
    "print(np.sqrt(mean_squared_error(y_test, y_pred)))"
   ]
  },
  {
   "cell_type": "code",
   "execution_count": 67,
   "metadata": {
    "collapsed": false
   },
   "outputs": [
    {
     "data": {
      "text/plain": [
       "0.018729859296556794"
      ]
     },
     "execution_count": 67,
     "metadata": {},
     "output_type": "execute_result"
    }
   ],
   "source": [
    "# R Square\n",
    "from sklearn.metrics import r2_score\n",
    "results = r2_score(y_test,y_pred)\n",
    "results"
   ]
  },
  {
   "cell_type": "markdown",
   "metadata": {},
   "source": [
    "** Algorithm 2 - Polynomial Regression **"
   ]
  },
  {
   "cell_type": "code",
   "execution_count": 70,
   "metadata": {
    "collapsed": false
   },
   "outputs": [],
   "source": [
    "from sklearn.preprocessing import PolynomialFeatures\n",
    "poly_reg1 = PolynomialFeatures(degree = 2)\n",
    "X_poly = poly_reg1.fit_transform(X)"
   ]
  },
  {
   "cell_type": "code",
   "execution_count": 72,
   "metadata": {
    "collapsed": false
   },
   "outputs": [
    {
     "data": {
      "text/plain": [
       "(25292, 55)"
      ]
     },
     "execution_count": 72,
     "metadata": {},
     "output_type": "execute_result"
    }
   ],
   "source": [
    "X_poly.shape"
   ]
  },
  {
   "cell_type": "code",
   "execution_count": 74,
   "metadata": {
    "collapsed": false
   },
   "outputs": [
    {
     "data": {
      "text/plain": [
       "(25292, 9)"
      ]
     },
     "execution_count": 74,
     "metadata": {},
     "output_type": "execute_result"
    }
   ],
   "source": [
    "X.shape"
   ]
  },
  {
   "cell_type": "code",
   "execution_count": null,
   "metadata": {
    "collapsed": true
   },
   "outputs": [],
   "source": []
  },
  {
   "cell_type": "code",
   "execution_count": null,
   "metadata": {
    "collapsed": true
   },
   "outputs": [],
   "source": []
  },
  {
   "cell_type": "code",
   "execution_count": null,
   "metadata": {
    "collapsed": true
   },
   "outputs": [],
   "source": []
  },
  {
   "cell_type": "code",
   "execution_count": null,
   "metadata": {
    "collapsed": true
   },
   "outputs": [],
   "source": []
  },
  {
   "cell_type": "code",
   "execution_count": null,
   "metadata": {
    "collapsed": true
   },
   "outputs": [],
   "source": []
  },
  {
   "cell_type": "markdown",
   "metadata": {},
   "source": [
    "## Feature Selection"
   ]
  },
  {
   "cell_type": "code",
   "execution_count": 46,
   "metadata": {
    "collapsed": false
   },
   "outputs": [
    {
     "data": {
      "text/html": [
       "<table class=\"simpletable\">\n",
       "<caption>OLS Regression Results</caption>\n",
       "<tr>\n",
       "  <th>Dep. Variable:</th>            <td>y</td>        <th>  R-squared:         </th>  <td>   0.015</td>  \n",
       "</tr>\n",
       "<tr>\n",
       "  <th>Model:</th>                   <td>OLS</td>       <th>  Adj. R-squared:    </th>  <td>   0.015</td>  \n",
       "</tr>\n",
       "<tr>\n",
       "  <th>Method:</th>             <td>Least Squares</td>  <th>  F-statistic:       </th>  <td>   55.48</td>  \n",
       "</tr>\n",
       "<tr>\n",
       "  <th>Date:</th>             <td>Mon, 11 Sep 2017</td> <th>  Prob (F-statistic):</th>  <td>3.11e-79</td>  \n",
       "</tr>\n",
       "<tr>\n",
       "  <th>Time:</th>                 <td>14:51:30</td>     <th>  Log-Likelihood:    </th> <td>-1.2984e+05</td>\n",
       "</tr>\n",
       "<tr>\n",
       "  <th>No. Observations:</th>      <td> 25292</td>      <th>  AIC:               </th>  <td>2.597e+05</td> \n",
       "</tr>\n",
       "<tr>\n",
       "  <th>Df Residuals:</th>          <td> 25284</td>      <th>  BIC:               </th>  <td>2.598e+05</td> \n",
       "</tr>\n",
       "<tr>\n",
       "  <th>Df Model:</th>              <td>     7</td>      <th>                     </th>      <td> </td>     \n",
       "</tr>\n",
       "<tr>\n",
       "  <th>Covariance Type:</th>      <td>nonrobust</td>    <th>                     </th>      <td> </td>     \n",
       "</tr>\n",
       "</table>\n",
       "<table class=\"simpletable\">\n",
       "<tr>\n",
       "    <td></td>       <th>coef</th>     <th>std err</th>      <th>t</th>      <th>P>|t|</th> <th>[95.0% Conf. Int.]</th> \n",
       "</tr>\n",
       "<tr>\n",
       "  <th>const</th> <td>  141.9617</td> <td>    5.743</td> <td>   24.717</td> <td> 0.000</td> <td>  130.704   153.219</td>\n",
       "</tr>\n",
       "<tr>\n",
       "  <th>x1</th>    <td>    8.7612</td> <td>    0.724</td> <td>   12.093</td> <td> 0.000</td> <td>    7.341    10.181</td>\n",
       "</tr>\n",
       "<tr>\n",
       "  <th>x2</th>    <td>   -1.1900</td> <td>    1.908</td> <td>   -0.624</td> <td> 0.533</td> <td>   -4.931     2.551</td>\n",
       "</tr>\n",
       "<tr>\n",
       "  <th>x3</th>    <td>   -0.2337</td> <td>    0.038</td> <td>   -6.118</td> <td> 0.000</td> <td>   -0.309    -0.159</td>\n",
       "</tr>\n",
       "<tr>\n",
       "  <th>x4</th>    <td>   -0.0411</td> <td>    0.007</td> <td>   -5.929</td> <td> 0.000</td> <td>   -0.055    -0.027</td>\n",
       "</tr>\n",
       "<tr>\n",
       "  <th>x5</th>    <td>   -6.9814</td> <td>    1.115</td> <td>   -6.264</td> <td> 0.000</td> <td>   -9.166    -4.797</td>\n",
       "</tr>\n",
       "<tr>\n",
       "  <th>x6</th>    <td>    5.4926</td> <td>    0.536</td> <td>   10.254</td> <td> 0.000</td> <td>    4.443     6.543</td>\n",
       "</tr>\n",
       "<tr>\n",
       "  <th>x7</th>    <td>   -0.4687</td> <td>    0.571</td> <td>   -0.821</td> <td> 0.412</td> <td>   -1.588     0.651</td>\n",
       "</tr>\n",
       "</table>\n",
       "<table class=\"simpletable\">\n",
       "<tr>\n",
       "  <th>Omnibus:</th>       <td>670.290</td> <th>  Durbin-Watson:     </th> <td>   1.954</td> \n",
       "</tr>\n",
       "<tr>\n",
       "  <th>Prob(Omnibus):</th> <td> 0.000</td>  <th>  Jarque-Bera (JB):  </th> <td> 724.187</td> \n",
       "</tr>\n",
       "<tr>\n",
       "  <th>Skew:</th>          <td>-0.414</td>  <th>  Prob(JB):          </th> <td>5.56e-158</td>\n",
       "</tr>\n",
       "<tr>\n",
       "  <th>Kurtosis:</th>      <td> 2.946</td>  <th>  Cond. No.          </th> <td>1.72e+04</td> \n",
       "</tr>\n",
       "</table>"
      ],
      "text/plain": [
       "<class 'statsmodels.iolib.summary.Summary'>\n",
       "\"\"\"\n",
       "                            OLS Regression Results                            \n",
       "==============================================================================\n",
       "Dep. Variable:                      y   R-squared:                       0.015\n",
       "Model:                            OLS   Adj. R-squared:                  0.015\n",
       "Method:                 Least Squares   F-statistic:                     55.48\n",
       "Date:                Mon, 11 Sep 2017   Prob (F-statistic):           3.11e-79\n",
       "Time:                        14:51:30   Log-Likelihood:            -1.2984e+05\n",
       "No. Observations:               25292   AIC:                         2.597e+05\n",
       "Df Residuals:                   25284   BIC:                         2.598e+05\n",
       "Df Model:                           7                                         \n",
       "Covariance Type:            nonrobust                                         \n",
       "==============================================================================\n",
       "                 coef    std err          t      P>|t|      [95.0% Conf. Int.]\n",
       "------------------------------------------------------------------------------\n",
       "const        141.9617      5.743     24.717      0.000       130.704   153.219\n",
       "x1             8.7612      0.724     12.093      0.000         7.341    10.181\n",
       "x2            -1.1900      1.908     -0.624      0.533        -4.931     2.551\n",
       "x3            -0.2337      0.038     -6.118      0.000        -0.309    -0.159\n",
       "x4            -0.0411      0.007     -5.929      0.000        -0.055    -0.027\n",
       "x5            -6.9814      1.115     -6.264      0.000        -9.166    -4.797\n",
       "x6             5.4926      0.536     10.254      0.000         4.443     6.543\n",
       "x7            -0.4687      0.571     -0.821      0.412        -1.588     0.651\n",
       "==============================================================================\n",
       "Omnibus:                      670.290   Durbin-Watson:                   1.954\n",
       "Prob(Omnibus):                  0.000   Jarque-Bera (JB):              724.187\n",
       "Skew:                          -0.414   Prob(JB):                    5.56e-158\n",
       "Kurtosis:                       2.946   Cond. No.                     1.72e+04\n",
       "==============================================================================\n",
       "\n",
       "Warnings:\n",
       "[1] Standard Errors assume that the covariance matrix of the errors is correctly specified.\n",
       "[2] The condition number is large, 1.72e+04. This might indicate that there are\n",
       "strong multicollinearity or other numerical problems.\n",
       "\"\"\""
      ]
     },
     "execution_count": 46,
     "metadata": {},
     "output_type": "execute_result"
    }
   ],
   "source": [
    "# Building the optimal optimal using backward elimination\n",
    "import statsmodels.formula.api as sm\n",
    "# append Xo = 1 column\n",
    "X = np.append(arr = np.ones((25292,1)).astype(int), values = X, axis = 1)\n",
    "X_opt = X[:,[0,1,2,3,4,5,6,7]]\n",
    "regressor_OLS = sm.OLS(endog = y, exog = X_opt).fit()\n",
    "regressor_OLS.summary()"
   ]
  },
  {
   "cell_type": "code",
   "execution_count": 47,
   "metadata": {
    "collapsed": false
   },
   "outputs": [
    {
     "data": {
      "text/html": [
       "<table class=\"simpletable\">\n",
       "<caption>OLS Regression Results</caption>\n",
       "<tr>\n",
       "  <th>Dep. Variable:</th>            <td>y</td>        <th>  R-squared:         </th>  <td>   0.015</td>  \n",
       "</tr>\n",
       "<tr>\n",
       "  <th>Model:</th>                   <td>OLS</td>       <th>  Adj. R-squared:    </th>  <td>   0.015</td>  \n",
       "</tr>\n",
       "<tr>\n",
       "  <th>Method:</th>             <td>Least Squares</td>  <th>  F-statistic:       </th>  <td>   77.47</td>  \n",
       "</tr>\n",
       "<tr>\n",
       "  <th>Date:</th>             <td>Mon, 11 Sep 2017</td> <th>  Prob (F-statistic):</th>  <td>6.69e-81</td>  \n",
       "</tr>\n",
       "<tr>\n",
       "  <th>Time:</th>                 <td>14:51:39</td>     <th>  Log-Likelihood:    </th> <td>-1.2984e+05</td>\n",
       "</tr>\n",
       "<tr>\n",
       "  <th>No. Observations:</th>      <td> 25292</td>      <th>  AIC:               </th>  <td>2.597e+05</td> \n",
       "</tr>\n",
       "<tr>\n",
       "  <th>Df Residuals:</th>          <td> 25286</td>      <th>  BIC:               </th>  <td>2.597e+05</td> \n",
       "</tr>\n",
       "<tr>\n",
       "  <th>Df Model:</th>              <td>     5</td>      <th>                     </th>      <td> </td>     \n",
       "</tr>\n",
       "<tr>\n",
       "  <th>Covariance Type:</th>      <td>nonrobust</td>    <th>                     </th>      <td> </td>     \n",
       "</tr>\n",
       "</table>\n",
       "<table class=\"simpletable\">\n",
       "<tr>\n",
       "    <td></td>       <th>coef</th>     <th>std err</th>      <th>t</th>      <th>P>|t|</th> <th>[95.0% Conf. Int.]</th> \n",
       "</tr>\n",
       "<tr>\n",
       "  <th>const</th> <td>  140.5620</td> <td>    5.502</td> <td>   25.546</td> <td> 0.000</td> <td>  129.777   151.347</td>\n",
       "</tr>\n",
       "<tr>\n",
       "  <th>x1</th>    <td>    8.4408</td> <td>    0.542</td> <td>   15.565</td> <td> 0.000</td> <td>    7.378     9.504</td>\n",
       "</tr>\n",
       "<tr>\n",
       "  <th>x2</th>    <td>   -0.2331</td> <td>    0.038</td> <td>   -6.104</td> <td> 0.000</td> <td>   -0.308    -0.158</td>\n",
       "</tr>\n",
       "<tr>\n",
       "  <th>x3</th>    <td>   -0.0404</td> <td>    0.007</td> <td>   -5.863</td> <td> 0.000</td> <td>   -0.054    -0.027</td>\n",
       "</tr>\n",
       "<tr>\n",
       "  <th>x4</th>    <td>   -6.9817</td> <td>    1.114</td> <td>   -6.265</td> <td> 0.000</td> <td>   -9.166    -4.797</td>\n",
       "</tr>\n",
       "<tr>\n",
       "  <th>x5</th>    <td>    5.4852</td> <td>    0.536</td> <td>   10.241</td> <td> 0.000</td> <td>    4.435     6.535</td>\n",
       "</tr>\n",
       "</table>\n",
       "<table class=\"simpletable\">\n",
       "<tr>\n",
       "  <th>Omnibus:</th>       <td>669.917</td> <th>  Durbin-Watson:     </th> <td>   1.954</td> \n",
       "</tr>\n",
       "<tr>\n",
       "  <th>Prob(Omnibus):</th> <td> 0.000</td>  <th>  Jarque-Bera (JB):  </th> <td> 723.767</td> \n",
       "</tr>\n",
       "<tr>\n",
       "  <th>Skew:</th>          <td>-0.414</td>  <th>  Prob(JB):          </th> <td>6.86e-158</td>\n",
       "</tr>\n",
       "<tr>\n",
       "  <th>Kurtosis:</th>      <td> 2.947</td>  <th>  Cond. No.          </th> <td>1.64e+04</td> \n",
       "</tr>\n",
       "</table>"
      ],
      "text/plain": [
       "<class 'statsmodels.iolib.summary.Summary'>\n",
       "\"\"\"\n",
       "                            OLS Regression Results                            \n",
       "==============================================================================\n",
       "Dep. Variable:                      y   R-squared:                       0.015\n",
       "Model:                            OLS   Adj. R-squared:                  0.015\n",
       "Method:                 Least Squares   F-statistic:                     77.47\n",
       "Date:                Mon, 11 Sep 2017   Prob (F-statistic):           6.69e-81\n",
       "Time:                        14:51:39   Log-Likelihood:            -1.2984e+05\n",
       "No. Observations:               25292   AIC:                         2.597e+05\n",
       "Df Residuals:                   25286   BIC:                         2.597e+05\n",
       "Df Model:                           5                                         \n",
       "Covariance Type:            nonrobust                                         \n",
       "==============================================================================\n",
       "                 coef    std err          t      P>|t|      [95.0% Conf. Int.]\n",
       "------------------------------------------------------------------------------\n",
       "const        140.5620      5.502     25.546      0.000       129.777   151.347\n",
       "x1             8.4408      0.542     15.565      0.000         7.378     9.504\n",
       "x2            -0.2331      0.038     -6.104      0.000        -0.308    -0.158\n",
       "x3            -0.0404      0.007     -5.863      0.000        -0.054    -0.027\n",
       "x4            -6.9817      1.114     -6.265      0.000        -9.166    -4.797\n",
       "x5             5.4852      0.536     10.241      0.000         4.435     6.535\n",
       "==============================================================================\n",
       "Omnibus:                      669.917   Durbin-Watson:                   1.954\n",
       "Prob(Omnibus):                  0.000   Jarque-Bera (JB):              723.767\n",
       "Skew:                          -0.414   Prob(JB):                    6.86e-158\n",
       "Kurtosis:                       2.947   Cond. No.                     1.64e+04\n",
       "==============================================================================\n",
       "\n",
       "Warnings:\n",
       "[1] Standard Errors assume that the covariance matrix of the errors is correctly specified.\n",
       "[2] The condition number is large, 1.64e+04. This might indicate that there are\n",
       "strong multicollinearity or other numerical problems.\n",
       "\"\"\""
      ]
     },
     "execution_count": 47,
     "metadata": {},
     "output_type": "execute_result"
    }
   ],
   "source": [
    "# remove the feature with the highest P, and then rerun\n",
    "X_opt = X[:,[0,1,3,4,5,6]]\n",
    "regressor_OLS = sm.OLS(endog = y, exog = X_opt).fit()\n",
    "regressor_OLS.summary()"
   ]
  },
  {
   "cell_type": "code",
   "execution_count": null,
   "metadata": {
    "collapsed": true
   },
   "outputs": [],
   "source": []
  }
 ],
 "metadata": {
  "kernelspec": {
   "display_name": "Python 3",
   "language": "python",
   "name": "python3"
  },
  "language_info": {
   "codemirror_mode": {
    "name": "ipython",
    "version": 3
   },
   "file_extension": ".py",
   "mimetype": "text/x-python",
   "name": "python",
   "nbconvert_exporter": "python",
   "pygments_lexer": "ipython3",
   "version": "3.6.0"
  }
 },
 "nbformat": 4,
 "nbformat_minor": 2
}
