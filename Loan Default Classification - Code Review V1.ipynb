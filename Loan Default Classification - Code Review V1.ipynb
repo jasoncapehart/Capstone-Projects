{
 "cells": [
  {
   "cell_type": "code",
   "execution_count": 1,
   "metadata": {
    "collapsed": true
   },
   "outputs": [],
   "source": [
    "%matplotlib inline"
   ]
  },
  {
   "cell_type": "code",
   "execution_count": 2,
   "metadata": {
    "collapsed": true
   },
   "outputs": [],
   "source": [
    "import pandas as pd\n",
    "import numpy as np\n",
    "from scipy import stats, integrate\n",
    "import scipy.stats as stats\n",
    "import matplotlib.pyplot as plt\n",
    "import matplotlib.mlab as mlab"
   ]
  },
  {
   "cell_type": "code",
   "execution_count": 3,
   "metadata": {
    "collapsed": true
   },
   "outputs": [],
   "source": [
    "# rename columns if needed\n",
    "col_names = ['loan_id','ory','orig_upb','loan_purp','prop_type',\n",
    "             'multi_unit','orig_chn','occ_stat','dti_new',\n",
    "             'FICO_new', 'ltv_new', 'fhb_flag', 'no_bor', \n",
    "             'prop_type_eligible', 'MI_chl', 'dr_time_default',\n",
    "             'Ever_Delinquent', 'current_status', 'claim_flag']\n"
   ]
  },
  {
   "cell_type": "code",
   "execution_count": 4,
   "metadata": {
    "collapsed": true
   },
   "outputs": [],
   "source": [
    "def read_loan(path, filename):\n",
    "    df = pd.read_csv(path + \"\\\\\" + filename, sep='\\t', header=0)\n",
    "    df.columns = col_names\n",
    "    '''\n",
    "    Args: \n",
    "        path: Location of the import file\n",
    "        filename: Name of the import file\n",
    "    Returns:\n",
    "        df: Imported loan level details data frame\n",
    "    '''\n",
    "    return df"
   ]
  },
  {
   "cell_type": "code",
   "execution_count": 5,
   "metadata": {
    "collapsed": true
   },
   "outputs": [],
   "source": [
    "df = read_loan(\"C:\\\\Users\\\\SunLix\\\\Data\\\\Project\\\\Default Classification\",\"Loan_Orig_2010_2013.txt\")"
   ]
  },
  {
   "cell_type": "code",
   "execution_count": 6,
   "metadata": {},
   "outputs": [
    {
     "data": {
      "text/html": [
       "<div>\n",
       "<style>\n",
       "    .dataframe thead tr:only-child th {\n",
       "        text-align: right;\n",
       "    }\n",
       "\n",
       "    .dataframe thead th {\n",
       "        text-align: left;\n",
       "    }\n",
       "\n",
       "    .dataframe tbody tr th {\n",
       "        vertical-align: top;\n",
       "    }\n",
       "</style>\n",
       "<table border=\"1\" class=\"dataframe\">\n",
       "  <thead>\n",
       "    <tr style=\"text-align: right;\">\n",
       "      <th></th>\n",
       "      <th>loan_id</th>\n",
       "      <th>ory</th>\n",
       "      <th>orig_upb</th>\n",
       "      <th>loan_purp</th>\n",
       "      <th>prop_type</th>\n",
       "      <th>multi_unit</th>\n",
       "      <th>orig_chn</th>\n",
       "      <th>occ_stat</th>\n",
       "      <th>dti_new</th>\n",
       "      <th>FICO_new</th>\n",
       "      <th>ltv_new</th>\n",
       "      <th>fhb_flag</th>\n",
       "      <th>no_bor</th>\n",
       "      <th>prop_type_eligible</th>\n",
       "      <th>MI_chl</th>\n",
       "      <th>dr_time_default</th>\n",
       "      <th>Ever_Delinquent</th>\n",
       "      <th>current_status</th>\n",
       "      <th>claim_flag</th>\n",
       "    </tr>\n",
       "  </thead>\n",
       "  <tbody>\n",
       "    <tr>\n",
       "      <th>0</th>\n",
       "      <td>8092146</td>\n",
       "      <td>2010</td>\n",
       "      <td>142200</td>\n",
       "      <td>P</td>\n",
       "      <td>SF</td>\n",
       "      <td>0</td>\n",
       "      <td>R</td>\n",
       "      <td>O</td>\n",
       "      <td>22.5</td>\n",
       "      <td>800</td>\n",
       "      <td>90</td>\n",
       "      <td>Y</td>\n",
       "      <td>2</td>\n",
       "      <td>1</td>\n",
       "      <td>Non-Delegated</td>\n",
       "      <td>NaN</td>\n",
       "      <td>0</td>\n",
       "      <td>17.Cancel</td>\n",
       "      <td>0</td>\n",
       "    </tr>\n",
       "    <tr>\n",
       "      <th>1</th>\n",
       "      <td>8092147</td>\n",
       "      <td>2010</td>\n",
       "      <td>160550</td>\n",
       "      <td>P</td>\n",
       "      <td>SF</td>\n",
       "      <td>0</td>\n",
       "      <td>R</td>\n",
       "      <td>O</td>\n",
       "      <td>32.5</td>\n",
       "      <td>730</td>\n",
       "      <td>95</td>\n",
       "      <td>Y</td>\n",
       "      <td>1</td>\n",
       "      <td>1</td>\n",
       "      <td>Non-Delegated</td>\n",
       "      <td>NaN</td>\n",
       "      <td>0</td>\n",
       "      <td>17.Cancel</td>\n",
       "      <td>0</td>\n",
       "    </tr>\n",
       "    <tr>\n",
       "      <th>2</th>\n",
       "      <td>8092148</td>\n",
       "      <td>2010</td>\n",
       "      <td>224639</td>\n",
       "      <td>P</td>\n",
       "      <td>SF</td>\n",
       "      <td>0</td>\n",
       "      <td>R</td>\n",
       "      <td>O</td>\n",
       "      <td>27.5</td>\n",
       "      <td>800</td>\n",
       "      <td>97</td>\n",
       "      <td>Y</td>\n",
       "      <td>2</td>\n",
       "      <td>1</td>\n",
       "      <td>Non-Delegated</td>\n",
       "      <td>NaN</td>\n",
       "      <td>0</td>\n",
       "      <td>01.Current</td>\n",
       "      <td>0</td>\n",
       "    </tr>\n",
       "    <tr>\n",
       "      <th>3</th>\n",
       "      <td>8092150</td>\n",
       "      <td>2010</td>\n",
       "      <td>340425</td>\n",
       "      <td>P</td>\n",
       "      <td>SF</td>\n",
       "      <td>0</td>\n",
       "      <td>R</td>\n",
       "      <td>O</td>\n",
       "      <td>22.5</td>\n",
       "      <td>730</td>\n",
       "      <td>90</td>\n",
       "      <td>Y</td>\n",
       "      <td>2</td>\n",
       "      <td>1</td>\n",
       "      <td>Non-Delegated</td>\n",
       "      <td>NaN</td>\n",
       "      <td>0</td>\n",
       "      <td>17.Cancel</td>\n",
       "      <td>0</td>\n",
       "    </tr>\n",
       "    <tr>\n",
       "      <th>4</th>\n",
       "      <td>8092152</td>\n",
       "      <td>2010</td>\n",
       "      <td>270750</td>\n",
       "      <td>P</td>\n",
       "      <td>SF</td>\n",
       "      <td>0</td>\n",
       "      <td>R</td>\n",
       "      <td>O</td>\n",
       "      <td>32.5</td>\n",
       "      <td>730</td>\n",
       "      <td>95</td>\n",
       "      <td>Y</td>\n",
       "      <td>2</td>\n",
       "      <td>1</td>\n",
       "      <td>Non-Delegated</td>\n",
       "      <td>NaN</td>\n",
       "      <td>0</td>\n",
       "      <td>17.Cancel</td>\n",
       "      <td>0</td>\n",
       "    </tr>\n",
       "  </tbody>\n",
       "</table>\n",
       "</div>"
      ],
      "text/plain": [
       "   loan_id   ory  orig_upb loan_purp prop_type  multi_unit orig_chn occ_stat  \\\n",
       "0  8092146  2010    142200         P        SF           0        R        O   \n",
       "1  8092147  2010    160550         P        SF           0        R        O   \n",
       "2  8092148  2010    224639         P        SF           0        R        O   \n",
       "3  8092150  2010    340425         P        SF           0        R        O   \n",
       "4  8092152  2010    270750         P        SF           0        R        O   \n",
       "\n",
       "   dti_new  FICO_new  ltv_new fhb_flag  no_bor  prop_type_eligible  \\\n",
       "0     22.5       800       90        Y       2                   1   \n",
       "1     32.5       730       95        Y       1                   1   \n",
       "2     27.5       800       97        Y       2                   1   \n",
       "3     22.5       730       90        Y       2                   1   \n",
       "4     32.5       730       95        Y       2                   1   \n",
       "\n",
       "          MI_chl  dr_time_default  Ever_Delinquent current_status  claim_flag  \n",
       "0  Non-Delegated              NaN                0      17.Cancel           0  \n",
       "1  Non-Delegated              NaN                0      17.Cancel           0  \n",
       "2  Non-Delegated              NaN                0     01.Current           0  \n",
       "3  Non-Delegated              NaN                0      17.Cancel           0  \n",
       "4  Non-Delegated              NaN                0      17.Cancel           0  "
      ]
     },
     "execution_count": 6,
     "metadata": {},
     "output_type": "execute_result"
    }
   ],
   "source": [
    "df.head()"
   ]
  },
  {
   "cell_type": "code",
   "execution_count": 7,
   "metadata": {
    "scrolled": true
   },
   "outputs": [
    {
     "data": {
      "text/plain": [
       "(481218, 19)"
      ]
     },
     "execution_count": 7,
     "metadata": {},
     "output_type": "execute_result"
    }
   ],
   "source": [
    "# Get size of data\n",
    "df.shape"
   ]
  },
  {
   "cell_type": "code",
   "execution_count": 8,
   "metadata": {},
   "outputs": [
    {
     "data": {
      "text/plain": [
       "481218"
      ]
     },
     "execution_count": 8,
     "metadata": {},
     "output_type": "execute_result"
    }
   ],
   "source": [
    "# unique number of loans\n",
    "df.loan_id.nunique()"
   ]
  },
  {
   "cell_type": "code",
   "execution_count": 9,
   "metadata": {},
   "outputs": [
    {
     "data": {
      "text/plain": [
       "loan_id                 int64\n",
       "ory                     int64\n",
       "orig_upb                int64\n",
       "loan_purp              object\n",
       "prop_type              object\n",
       "multi_unit              int64\n",
       "orig_chn               object\n",
       "occ_stat               object\n",
       "dti_new               float64\n",
       "FICO_new                int64\n",
       "ltv_new                 int64\n",
       "fhb_flag               object\n",
       "no_bor                  int64\n",
       "prop_type_eligible      int64\n",
       "MI_chl                 object\n",
       "dr_time_default       float64\n",
       "Ever_Delinquent         int64\n",
       "current_status         object\n",
       "claim_flag              int64\n",
       "dtype: object"
      ]
     },
     "execution_count": 9,
     "metadata": {},
     "output_type": "execute_result"
    }
   ],
   "source": [
    "# Get the list of columns along with dtypes\n",
    "df.dtypes"
   ]
  },
  {
   "cell_type": "markdown",
   "metadata": {},
   "source": [
    "### Exploratory Data Analysis "
   ]
  },
  {
   "cell_type": "code",
   "execution_count": 10,
   "metadata": {},
   "outputs": [
    {
     "data": {
      "text/plain": [
       "loan_id               False\n",
       "ory                   False\n",
       "orig_upb              False\n",
       "loan_purp             False\n",
       "prop_type             False\n",
       "multi_unit            False\n",
       "orig_chn              False\n",
       "occ_stat              False\n",
       "dti_new               False\n",
       "FICO_new              False\n",
       "ltv_new               False\n",
       "fhb_flag              False\n",
       "no_bor                False\n",
       "prop_type_eligible    False\n",
       "MI_chl                False\n",
       "dr_time_default        True\n",
       "Ever_Delinquent       False\n",
       "current_status        False\n",
       "claim_flag            False\n",
       "dtype: bool"
      ]
     },
     "execution_count": 10,
     "metadata": {},
     "output_type": "execute_result"
    }
   ],
   "source": [
    "#check any column with NAN value\n",
    "df.isnull().any()"
   ]
  },
  {
   "cell_type": "code",
   "execution_count": 11,
   "metadata": {
    "collapsed": true
   },
   "outputs": [],
   "source": [
    "def agg_column(df, col_name):\n",
    "    '''\n",
    "    Args: \n",
    "        df: Data frame the aggregation calculation is based on \n",
    "        col_name: Name of aggregated column\n",
    "    Returns:\n",
    "        agg_series: The return is a data series. All calcuated values <=1\n",
    "    '''\n",
    "    agg_series = df.groupby(col_name).loan_id.nunique() / df.loan_id.nunique()\n",
    "    return agg_series\n",
    "\n",
    "def percent_format(float_series, rename_col_index):\n",
    "    '''\n",
    "    Args: \n",
    "        float_series: Data series with float value\n",
    "        rename_col_index: The index of column which needs \n",
    "                          to be renamed for clarification\n",
    "    Returns:\n",
    "        percent_df: The return is a data frame with float formated as %\n",
    "    '''\n",
    "    percent = float_series.mul(100).round(1).astype(str) + '%'\n",
    "    percent_df = pd.DataFrame(percent).reset_index()\n",
    "    percent_df.rename(columns={percent_df.columns[rename_col_index]: \"percent\" }, inplace=True)\n",
    "    #percent_df.rename(columns = {'loan_id':'percent'}, inplace=True)  # Alt: rename a column by name\n",
    "    return percent_df\n"
   ]
  },
  {
   "cell_type": "markdown",
   "metadata": {},
   "source": [
    "### Features\n",
    "- **Loan Origination Year**\n",
    "- **Loan Purpose**: Purchase(P), Refinance with Cash-Out(C), Refinance Pay-off Existing Lien(N)\n",
    "- **Property Type**: Single-Family and PUD(SF), Condo and Co-Op(CO), Manufactured Housing(MH)\n",
    "- **Number of Units** \n",
    "- **Origination Channel:** Retail(R), Broker(B), Correspondent(C)\n",
    "- **Occupancy Status:** Prim Resident or Unknown(O), Second(S), Investor(I)\n",
    "- **DTI**: Debt to Income Ratio\n",
    "- **FICO**: Borrower combined FICO score\n",
    "- **LTV**: Loan to property Value Ratio\n",
    "- **First Time Home Buyer Flag**\n",
    "- **Number of Borrowers**\n",
    "- **Property Type Eligible for MI**\n",
    "- **MI Channel**\n",
    "- **Every Deliquenty Flag**\n",
    "- **Claim Flag**"
   ]
  },
  {
   "cell_type": "code",
   "execution_count": 12,
   "metadata": {},
   "outputs": [
    {
     "name": "stdout",
     "output_type": "stream",
     "text": [
      "    ory percent\n",
      "0  2010   10.6%\n",
      "1  2011   15.0%\n",
      "2  2012   34.5%\n",
      "3  2013   40.0%\n",
      "  loan_purp percent\n",
      "0         C    2.6%\n",
      "1         N   32.4%\n",
      "2         P   65.1%\n",
      "  prop_type percent\n",
      "0        CO    9.8%\n",
      "1        MH    0.3%\n",
      "2        SF   89.9%\n",
      "   multi_unit percent\n",
      "0           0   99.9%\n",
      "1           1    0.1%\n",
      "  orig_chn percent\n",
      "0        R  100.0%\n",
      "  occ_stat percent\n",
      "0        I    0.0%\n",
      "1        O   96.5%\n",
      "2        S    3.5%\n",
      "   dti_new percent\n",
      "0      5.0    0.2%\n",
      "1     12.5    1.2%\n",
      "2     17.5    4.6%\n",
      "3     22.5   10.2%\n",
      "4     27.5   15.5%\n",
      "5     32.5   18.9%\n",
      "6     37.5   21.4%\n",
      "7     42.5   25.3%\n",
      "8     47.5    2.5%\n",
      "9     50.0    0.2%\n",
      "   FICO_new percent\n",
      "0       630    0.5%\n",
      "1       650    1.2%\n",
      "2       670    2.2%\n",
      "3       690    6.1%\n",
      "4       710    8.3%\n",
      "5       730   13.0%\n",
      "6       750   17.2%\n",
      "7       770   20.6%\n",
      "8       790   20.9%\n",
      "9       800    9.9%\n",
      "   ltv_new percent\n",
      "0       85   15.6%\n",
      "1       90   38.7%\n",
      "2       95   43.5%\n",
      "3       97    2.3%\n",
      "  fhb_flag percent\n",
      "0        N   68.3%\n",
      "1        Y   31.7%\n",
      "   no_bor percent\n",
      "0       1   50.8%\n",
      "1       2   49.2%\n",
      "   prop_type_eligible percent\n",
      "0                   0    0.3%\n",
      "1                   1   99.7%\n",
      "          MI_chl percent\n",
      "0      Delegated   66.7%\n",
      "1  Non-Delegated   33.3%\n",
      "   Ever_Delinquent percent\n",
      "0                0   97.5%\n",
      "1                1    2.5%\n",
      "   claim_flag percent\n",
      "0           0   99.8%\n",
      "1           1    0.2%\n"
     ]
    }
   ],
   "source": [
    "features = ['ory', 'loan_purp', 'prop_type', 'multi_unit', 'orig_chn', \n",
    "            'occ_stat', 'dti_new', 'FICO_new', 'ltv_new', 'fhb_flag',\n",
    "            'no_bor', 'prop_type_eligible', 'MI_chl', 'Ever_Delinquent',\n",
    "            'claim_flag']\n",
    "\n",
    "for feature in features:\n",
    "    print(percent_format(agg_column(df, feature), 1))"
   ]
  },
  {
   "cell_type": "code",
   "execution_count": 13,
   "metadata": {},
   "outputs": [
    {
     "data": {
      "text/plain": [
       "ory\n",
       "2010    0.6%\n",
       "2011    0.3%\n",
       "2012    0.1%\n",
       "2013    0.1%\n",
       "Name: loan_id, dtype: object"
      ]
     },
     "execution_count": 13,
     "metadata": {},
     "output_type": "execute_result"
    }
   ],
   "source": [
    "# Claim Rate by Vintage Year\n",
    "(df[df['claim_flag']==1]\n",
    " .groupby('ory')\n",
    " .loan_id.nunique()/df.groupby('ory').loan_id.nunique()\n",
    ").mul(100).round(1).astype(str) + '%'"
   ]
  },
  {
   "cell_type": "markdown",
   "metadata": {},
   "source": [
    "#### Distribution on Features Values"
   ]
  },
  {
   "cell_type": "code",
   "execution_count": 14,
   "metadata": {
    "collapsed": true
   },
   "outputs": [],
   "source": [
    "# Create dictionary to map feature's distribution\n",
    "distr_dict = {}\n",
    "for feature in features:\n",
    "    distr_series = agg_column(df, feature)\n",
    "    distr_dict[feature] = distr_series"
   ]
  },
  {
   "cell_type": "code",
   "execution_count": 15,
   "metadata": {
    "collapsed": true
   },
   "outputs": [],
   "source": [
    "# Create histogram method\n",
    "def histogram(df, title_name):\n",
    "    '''\n",
    "    Args: \n",
    "        df: Data frame or data series for plotting histogram on feature value distribution \n",
    "        title_name: Name of histogram\n",
    "    Returns:\n",
    "        Histogram plot using matplotlib\n",
    "    '''\n",
    "    return df.plot(kind='bar', title=title_name).set(xlabel='\\n' + title_name, ylabel='% to Total')"
   ]
  },
  {
   "cell_type": "code",
   "execution_count": 16,
   "metadata": {},
   "outputs": [
    {
     "data": {
      "text/plain": [
       "[<matplotlib.text.Text at 0x1c171a4e748>,\n",
       " <matplotlib.text.Text at 0x1c171a370f0>]"
      ]
     },
     "execution_count": 16,
     "metadata": {},
     "output_type": "execute_result"
    },
    {
     "data": {
      "image/png": "[encoded data removed]",
      "text/plain": [
       "<matplotlib.figure.Figure at 0x1c1713f1390>"
      ]
     },
     "metadata": {},
     "output_type": "display_data"
    }
   ],
   "source": [
    "histogram(distr_dict['ory'], 'Origination Year')"
   ]
  },
  {
   "cell_type": "code",
   "execution_count": 17,
   "metadata": {
    "scrolled": true
   },
   "outputs": [
    {
     "data": {
      "text/plain": [
       "[<matplotlib.text.Text at 0x1c171c84080>,\n",
       " <matplotlib.text.Text at 0x1c171c304e0>]"
      ]
     },
     "execution_count": 17,
     "metadata": {},
     "output_type": "execute_result"
    },
    {
     "data": {
      "image/png": "[encoded data removed]",
      "text/plain": [
       "<matplotlib.figure.Figure at 0x1c171ad6358>"
      ]
     },
     "metadata": {},
     "output_type": "display_data"
    }
   ],
   "source": [
    "histogram(distr_dict['loan_purp'], 'Loan Purpose')"
   ]
  },
  {
   "cell_type": "code",
   "execution_count": 18,
   "metadata": {
    "scrolled": true
   },
   "outputs": [
    {
     "data": {
      "text/plain": [
       "[<matplotlib.text.Text at 0x1c171d14048>,\n",
       " <matplotlib.text.Text at 0x1c171cfd668>]"
      ]
     },
     "execution_count": 18,
     "metadata": {},
     "output_type": "execute_result"
    },
    {
     "data": {
      "image/png": "[encoded data removed]",
      "text/plain": [
       "<matplotlib.figure.Figure at 0x1c171cf0c88>"
      ]
     },
     "metadata": {},
     "output_type": "display_data"
    }
   ],
   "source": [
    "histogram(distr_dict['fhb_flag'], 'First Time Homebuyer')"
   ]
  },
  {
   "cell_type": "code",
   "execution_count": 19,
   "metadata": {},
   "outputs": [
    {
     "data": {
      "text/plain": [
       "[<matplotlib.text.Text at 0x1c171c84828>,\n",
       " <matplotlib.text.Text at 0x1c171c9c320>]"
      ]
     },
     "execution_count": 19,
     "metadata": {},
     "output_type": "execute_result"
    },
    {
     "data": {
      "image/png": "[encoded data removed]",
      "text/plain": [
       "<matplotlib.figure.Figure at 0x1c171d93c18>"
      ]
     },
     "metadata": {},
     "output_type": "display_data"
    }
   ],
   "source": [
    "histogram(distr_dict['Ever_Delinquent'], 'Ever Delinquent')"
   ]
  },
  {
   "cell_type": "code",
   "execution_count": 20,
   "metadata": {
    "collapsed": true
   },
   "outputs": [],
   "source": [
    "# Alternative way to create histogram method using feature as parameter\n",
    "def histogram_alt(feature):\n",
    "    df = distr_dict[feature]\n",
    "    title_name = feature.split('_', 1)[0].upper()\n",
    "    return df.plot(kind='bar', title=title_name).set(xlabel=title_name, ylabel='% to Total')"
   ]
  },
  {
   "cell_type": "code",
   "execution_count": 21,
   "metadata": {},
   "outputs": [
    {
     "data": {
      "text/plain": [
       "[<matplotlib.text.Text at 0x1c171e58f28>,\n",
       " <matplotlib.text.Text at 0x1c171e2dc18>]"
      ]
     },
     "execution_count": 21,
     "metadata": {},
     "output_type": "execute_result"
    },
    {
     "data": {
      "image/png": "[encoded data removed]",
      "text/plain": [
       "<matplotlib.figure.Figure at 0x1c171e355f8>"
      ]
     },
     "metadata": {},
     "output_type": "display_data"
    }
   ],
   "source": [
    "histogram_alt('ltv_new')"
   ]
  },
  {
   "cell_type": "code",
   "execution_count": 22,
   "metadata": {},
   "outputs": [
    {
     "data": {
      "text/plain": [
       "[<matplotlib.text.Text at 0x1c171ef6860>,\n",
       " <matplotlib.text.Text at 0x1c171e757f0>]"
      ]
     },
     "execution_count": 22,
     "metadata": {},
     "output_type": "execute_result"
    },
    {
     "data": {
      "image/png": "[encoded data removed]",
      "text/plain": [
       "<matplotlib.figure.Figure at 0x1c171ee3b38>"
      ]
     },
     "metadata": {},
     "output_type": "display_data"
    }
   ],
   "source": [
    "histogram_alt('FICO_new')"
   ]
  },
  {
   "cell_type": "code",
   "execution_count": 23,
   "metadata": {},
   "outputs": [
    {
     "data": {
      "text/plain": [
       "[<matplotlib.text.Text at 0x1c171fd53c8>,\n",
       " <matplotlib.text.Text at 0x1c171e652e8>]"
      ]
     },
     "execution_count": 23,
     "metadata": {},
     "output_type": "execute_result"
    },
    {
     "data": {
      "image/png": "[encoded data removed]",
      "text/plain": [
       "<matplotlib.figure.Figure at 0x1c171f5bfd0>"
      ]
     },
     "metadata": {},
     "output_type": "display_data"
    }
   ],
   "source": [
    "histogram_alt('dti_new')"
   ]
  },
  {
   "cell_type": "markdown",
   "metadata": {},
   "source": [
    "**Due to unbalanced target data, we will need to upsample or downsample one of the class. Here I chose to downsample never deliquenty loans** \n",
    " - Select 10,000 per group (Ever Delinquent)"
   ]
  },
  {
   "cell_type": "code",
   "execution_count": 24,
   "metadata": {
    "collapsed": true
   },
   "outputs": [],
   "source": [
    "target_col_name = 'Ever_Delinquent'\n",
    "sample_size = 10000\n",
    "df_new =df.groupby(target_col_name,as_index=False).apply(lambda x: x.sample(sample_size)).reset_index()"
   ]
  },
  {
   "cell_type": "code",
   "execution_count": 25,
   "metadata": {},
   "outputs": [
    {
     "data": {
      "text/plain": [
       "Ever_Delinquent\n",
       "0    10000\n",
       "1    10000\n",
       "Name: loan_id, dtype: int64"
      ]
     },
     "execution_count": 25,
     "metadata": {},
     "output_type": "execute_result"
    }
   ],
   "source": [
    "df_new.groupby(target_col_name).loan_id.nunique()"
   ]
  },
  {
   "cell_type": "markdown",
   "metadata": {},
   "source": [
    "### Selected Features\n",
    "- **Loan Purpose**: loan_purp \n",
    "- **Property Type**: prop_type\n",
    "- **Occupancy Status**: occ_stat\n",
    "- **DTI**: dti_new\n",
    "- **FICO**: FICO_new\n",
    "- **LTV**: ltv_new\n",
    "- **First Time Home Buyer Indicator**: fhb_flag\n",
    "- **MI Channel**: MI_chl\n",
    "- **Number of Borrower**: no_bor\n",
    "- **Origination Year**: ory\n",
    "\n",
    "### Target : Ever Delinquent (Y/N)"
   ]
  },
  {
   "cell_type": "code",
   "execution_count": 26,
   "metadata": {
    "collapsed": true
   },
   "outputs": [],
   "source": [
    "# Create a new DataFrame to just include selected features and target\n",
    "selected_col_name = ['loan_purp', 'prop_type', 'occ_stat', 'dti_new',\n",
    "                     'FICO_new', 'ltv_new', 'fhb_flag', 'MI_chl',\n",
    "                     'no_bor','ory','Ever_Delinquent']\n",
    "df_model = df_new[selected_col_name]"
   ]
  },
  {
   "cell_type": "code",
   "execution_count": 27,
   "metadata": {
    "scrolled": true
   },
   "outputs": [
    {
     "data": {
      "text/html": [
       "<div>\n",
       "<style>\n",
       "    .dataframe thead tr:only-child th {\n",
       "        text-align: right;\n",
       "    }\n",
       "\n",
       "    .dataframe thead th {\n",
       "        text-align: left;\n",
       "    }\n",
       "\n",
       "    .dataframe tbody tr th {\n",
       "        vertical-align: top;\n",
       "    }\n",
       "</style>\n",
       "<table border=\"1\" class=\"dataframe\">\n",
       "  <thead>\n",
       "    <tr style=\"text-align: right;\">\n",
       "      <th></th>\n",
       "      <th>loan_purp</th>\n",
       "      <th>prop_type</th>\n",
       "      <th>occ_stat</th>\n",
       "      <th>dti_new</th>\n",
       "      <th>FICO_new</th>\n",
       "      <th>ltv_new</th>\n",
       "      <th>fhb_flag</th>\n",
       "      <th>MI_chl</th>\n",
       "      <th>no_bor</th>\n",
       "      <th>ory</th>\n",
       "      <th>Ever_Delinquent</th>\n",
       "    </tr>\n",
       "  </thead>\n",
       "  <tbody>\n",
       "    <tr>\n",
       "      <th>0</th>\n",
       "      <td>P</td>\n",
       "      <td>SF</td>\n",
       "      <td>O</td>\n",
       "      <td>27.5</td>\n",
       "      <td>710</td>\n",
       "      <td>85</td>\n",
       "      <td>N</td>\n",
       "      <td>Delegated</td>\n",
       "      <td>1</td>\n",
       "      <td>2013</td>\n",
       "      <td>0</td>\n",
       "    </tr>\n",
       "    <tr>\n",
       "      <th>1</th>\n",
       "      <td>P</td>\n",
       "      <td>SF</td>\n",
       "      <td>O</td>\n",
       "      <td>37.5</td>\n",
       "      <td>790</td>\n",
       "      <td>95</td>\n",
       "      <td>N</td>\n",
       "      <td>Delegated</td>\n",
       "      <td>2</td>\n",
       "      <td>2013</td>\n",
       "      <td>0</td>\n",
       "    </tr>\n",
       "    <tr>\n",
       "      <th>2</th>\n",
       "      <td>N</td>\n",
       "      <td>SF</td>\n",
       "      <td>O</td>\n",
       "      <td>27.5</td>\n",
       "      <td>750</td>\n",
       "      <td>85</td>\n",
       "      <td>N</td>\n",
       "      <td>Delegated</td>\n",
       "      <td>2</td>\n",
       "      <td>2012</td>\n",
       "      <td>0</td>\n",
       "    </tr>\n",
       "    <tr>\n",
       "      <th>3</th>\n",
       "      <td>N</td>\n",
       "      <td>SF</td>\n",
       "      <td>O</td>\n",
       "      <td>32.5</td>\n",
       "      <td>790</td>\n",
       "      <td>90</td>\n",
       "      <td>N</td>\n",
       "      <td>Non-Delegated</td>\n",
       "      <td>2</td>\n",
       "      <td>2012</td>\n",
       "      <td>0</td>\n",
       "    </tr>\n",
       "    <tr>\n",
       "      <th>4</th>\n",
       "      <td>N</td>\n",
       "      <td>SF</td>\n",
       "      <td>O</td>\n",
       "      <td>27.5</td>\n",
       "      <td>800</td>\n",
       "      <td>90</td>\n",
       "      <td>N</td>\n",
       "      <td>Non-Delegated</td>\n",
       "      <td>2</td>\n",
       "      <td>2012</td>\n",
       "      <td>0</td>\n",
       "    </tr>\n",
       "  </tbody>\n",
       "</table>\n",
       "</div>"
      ],
      "text/plain": [
       "  loan_purp prop_type occ_stat  dti_new  FICO_new  ltv_new fhb_flag  \\\n",
       "0         P        SF        O     27.5       710       85        N   \n",
       "1         P        SF        O     37.5       790       95        N   \n",
       "2         N        SF        O     27.5       750       85        N   \n",
       "3         N        SF        O     32.5       790       90        N   \n",
       "4         N        SF        O     27.5       800       90        N   \n",
       "\n",
       "          MI_chl  no_bor   ory  Ever_Delinquent  \n",
       "0      Delegated       1  2013                0  \n",
       "1      Delegated       2  2013                0  \n",
       "2      Delegated       2  2012                0  \n",
       "3  Non-Delegated       2  2012                0  \n",
       "4  Non-Delegated       2  2012                0  "
      ]
     },
     "execution_count": 27,
     "metadata": {},
     "output_type": "execute_result"
    }
   ],
   "source": [
    "df_model.head()"
   ]
  },
  {
   "cell_type": "markdown",
   "metadata": {},
   "source": [
    "Split table into \"target\" vs. \"features\""
   ]
  },
  {
   "cell_type": "code",
   "execution_count": 28,
   "metadata": {
    "collapsed": true
   },
   "outputs": [],
   "source": [
    "X = df_model.iloc[:,0:-1].values\n",
    "y = df_model.iloc[:,-1].values"
   ]
  },
  {
   "cell_type": "markdown",
   "metadata": {},
   "source": [
    "**Encode Categorical Columns**\n",
    "- Use LabelEncoder to transform categorical columns to numeric value, and then use OneHotEncoder to get dummy variable\n",
    "- Create dummy variables for fields which have more than 2 values"
   ]
  },
  {
   "cell_type": "code",
   "execution_count": 29,
   "metadata": {
    "collapsed": true
   },
   "outputs": [],
   "source": [
    "feature_ls = ['loan_purp', 'prop_type', 'occ_stat', 'dti_new', 'FICO_new', \n",
    "              'ltv_new', 'fhb_flag', 'MI_chl', 'no_bor','ory'\n",
    "             ]\n",
    "              \n",
    "df_X = pd.DataFrame(X, columns = feature_ls)\n",
    "\n",
    "# Create dummy variable and drop one value for each feature\n",
    "df_X_dummy = pd.get_dummies(df_X, drop_first=True).astype(np.int64)"
   ]
  },
  {
   "cell_type": "code",
   "execution_count": 30,
   "metadata": {},
   "outputs": [
    {
     "data": {
      "text/plain": [
       "(20000, 32)"
      ]
     },
     "execution_count": 30,
     "metadata": {},
     "output_type": "execute_result"
    }
   ],
   "source": [
    "df_X_dummy.shape"
   ]
  },
  {
   "cell_type": "code",
   "execution_count": 31,
   "metadata": {},
   "outputs": [
    {
     "data": {
      "text/html": [
       "<div>\n",
       "<style>\n",
       "    .dataframe thead tr:only-child th {\n",
       "        text-align: right;\n",
       "    }\n",
       "\n",
       "    .dataframe thead th {\n",
       "        text-align: left;\n",
       "    }\n",
       "\n",
       "    .dataframe tbody tr th {\n",
       "        vertical-align: top;\n",
       "    }\n",
       "</style>\n",
       "<table border=\"1\" class=\"dataframe\">\n",
       "  <thead>\n",
       "    <tr style=\"text-align: right;\">\n",
       "      <th></th>\n",
       "      <th>loan_purp_N</th>\n",
       "      <th>loan_purp_P</th>\n",
       "      <th>prop_type_MH</th>\n",
       "      <th>prop_type_SF</th>\n",
       "      <th>occ_stat_S</th>\n",
       "      <th>dti_new_12.5</th>\n",
       "      <th>dti_new_17.5</th>\n",
       "      <th>dti_new_22.5</th>\n",
       "      <th>dti_new_27.5</th>\n",
       "      <th>dti_new_32.5</th>\n",
       "      <th>...</th>\n",
       "      <th>FICO_new_800</th>\n",
       "      <th>ltv_new_90</th>\n",
       "      <th>ltv_new_95</th>\n",
       "      <th>ltv_new_97</th>\n",
       "      <th>fhb_flag_Y</th>\n",
       "      <th>MI_chl_Non-Delegated</th>\n",
       "      <th>no_bor_2</th>\n",
       "      <th>ory_2011</th>\n",
       "      <th>ory_2012</th>\n",
       "      <th>ory_2013</th>\n",
       "    </tr>\n",
       "  </thead>\n",
       "  <tbody>\n",
       "    <tr>\n",
       "      <th>0</th>\n",
       "      <td>0</td>\n",
       "      <td>1</td>\n",
       "      <td>0</td>\n",
       "      <td>1</td>\n",
       "      <td>0</td>\n",
       "      <td>0</td>\n",
       "      <td>0</td>\n",
       "      <td>0</td>\n",
       "      <td>1</td>\n",
       "      <td>0</td>\n",
       "      <td>...</td>\n",
       "      <td>0</td>\n",
       "      <td>0</td>\n",
       "      <td>0</td>\n",
       "      <td>0</td>\n",
       "      <td>0</td>\n",
       "      <td>0</td>\n",
       "      <td>0</td>\n",
       "      <td>0</td>\n",
       "      <td>0</td>\n",
       "      <td>1</td>\n",
       "    </tr>\n",
       "    <tr>\n",
       "      <th>1</th>\n",
       "      <td>0</td>\n",
       "      <td>1</td>\n",
       "      <td>0</td>\n",
       "      <td>1</td>\n",
       "      <td>0</td>\n",
       "      <td>0</td>\n",
       "      <td>0</td>\n",
       "      <td>0</td>\n",
       "      <td>0</td>\n",
       "      <td>0</td>\n",
       "      <td>...</td>\n",
       "      <td>0</td>\n",
       "      <td>0</td>\n",
       "      <td>1</td>\n",
       "      <td>0</td>\n",
       "      <td>0</td>\n",
       "      <td>0</td>\n",
       "      <td>1</td>\n",
       "      <td>0</td>\n",
       "      <td>0</td>\n",
       "      <td>1</td>\n",
       "    </tr>\n",
       "    <tr>\n",
       "      <th>2</th>\n",
       "      <td>1</td>\n",
       "      <td>0</td>\n",
       "      <td>0</td>\n",
       "      <td>1</td>\n",
       "      <td>0</td>\n",
       "      <td>0</td>\n",
       "      <td>0</td>\n",
       "      <td>0</td>\n",
       "      <td>1</td>\n",
       "      <td>0</td>\n",
       "      <td>...</td>\n",
       "      <td>0</td>\n",
       "      <td>0</td>\n",
       "      <td>0</td>\n",
       "      <td>0</td>\n",
       "      <td>0</td>\n",
       "      <td>0</td>\n",
       "      <td>1</td>\n",
       "      <td>0</td>\n",
       "      <td>1</td>\n",
       "      <td>0</td>\n",
       "    </tr>\n",
       "    <tr>\n",
       "      <th>3</th>\n",
       "      <td>1</td>\n",
       "      <td>0</td>\n",
       "      <td>0</td>\n",
       "      <td>1</td>\n",
       "      <td>0</td>\n",
       "      <td>0</td>\n",
       "      <td>0</td>\n",
       "      <td>0</td>\n",
       "      <td>0</td>\n",
       "      <td>1</td>\n",
       "      <td>...</td>\n",
       "      <td>0</td>\n",
       "      <td>1</td>\n",
       "      <td>0</td>\n",
       "      <td>0</td>\n",
       "      <td>0</td>\n",
       "      <td>1</td>\n",
       "      <td>1</td>\n",
       "      <td>0</td>\n",
       "      <td>1</td>\n",
       "      <td>0</td>\n",
       "    </tr>\n",
       "    <tr>\n",
       "      <th>4</th>\n",
       "      <td>1</td>\n",
       "      <td>0</td>\n",
       "      <td>0</td>\n",
       "      <td>1</td>\n",
       "      <td>0</td>\n",
       "      <td>0</td>\n",
       "      <td>0</td>\n",
       "      <td>0</td>\n",
       "      <td>1</td>\n",
       "      <td>0</td>\n",
       "      <td>...</td>\n",
       "      <td>1</td>\n",
       "      <td>1</td>\n",
       "      <td>0</td>\n",
       "      <td>0</td>\n",
       "      <td>0</td>\n",
       "      <td>1</td>\n",
       "      <td>1</td>\n",
       "      <td>0</td>\n",
       "      <td>1</td>\n",
       "      <td>0</td>\n",
       "    </tr>\n",
       "  </tbody>\n",
       "</table>\n",
       "<p>5 rows × 32 columns</p>\n",
       "</div>"
      ],
      "text/plain": [
       "   loan_purp_N  loan_purp_P  prop_type_MH  prop_type_SF  occ_stat_S  \\\n",
       "0            0            1             0             1           0   \n",
       "1            0            1             0             1           0   \n",
       "2            1            0             0             1           0   \n",
       "3            1            0             0             1           0   \n",
       "4            1            0             0             1           0   \n",
       "\n",
       "   dti_new_12.5  dti_new_17.5  dti_new_22.5  dti_new_27.5  dti_new_32.5  \\\n",
       "0             0             0             0             1             0   \n",
       "1             0             0             0             0             0   \n",
       "2             0             0             0             1             0   \n",
       "3             0             0             0             0             1   \n",
       "4             0             0             0             1             0   \n",
       "\n",
       "     ...     FICO_new_800  ltv_new_90  ltv_new_95  ltv_new_97  fhb_flag_Y  \\\n",
       "0    ...                0           0           0           0           0   \n",
       "1    ...                0           0           1           0           0   \n",
       "2    ...                0           0           0           0           0   \n",
       "3    ...                0           1           0           0           0   \n",
       "4    ...                1           1           0           0           0   \n",
       "\n",
       "   MI_chl_Non-Delegated  no_bor_2  ory_2011  ory_2012  ory_2013  \n",
       "0                     0         0         0         0         1  \n",
       "1                     0         1         0         0         1  \n",
       "2                     0         1         0         1         0  \n",
       "3                     1         1         0         1         0  \n",
       "4                     1         1         0         1         0  \n",
       "\n",
       "[5 rows x 32 columns]"
      ]
     },
     "execution_count": 31,
     "metadata": {},
     "output_type": "execute_result"
    }
   ],
   "source": [
    "df_X_dummy.head()"
   ]
  },
  {
   "cell_type": "code",
   "execution_count": 32,
   "metadata": {},
   "outputs": [],
   "source": [
    "# FICO related fields list - used to create model threshold\n",
    "df_X_FICO = df_X_dummy[['FICO_new_650', 'FICO_new_670', 'FICO_new_690',\n",
    "                        'FICO_new_710', 'FICO_new_730', 'FICO_new_750',\n",
    "                        'FICO_new_770', 'FICO_new_790', 'FICO_new_800'\n",
    "                       ]]\n",
    "\n",
    "# Change the transformed dataframe to array\n",
    "X = df_X_dummy.as_matrix()\n",
    "X_FICO = df_X_FICO.as_matrix()"
   ]
  },
  {
   "cell_type": "code",
   "execution_count": 33,
   "metadata": {
    "collapsed": true
   },
   "outputs": [],
   "source": [
    "# Splitting the dataset into the Training set and Test set\n",
    "from sklearn.model_selection import train_test_split\n",
    "X_train, X_test, y_train, y_test = train_test_split(X, y, test_size = 0.2, random_state = 0)\n",
    "X_FICO_train, X_FICO_test, y_FICO_train, y_FICO_test = train_test_split(X_FICO, y, test_size = 0.2, random_state = 0)"
   ]
  },
  {
   "cell_type": "markdown",
   "metadata": {},
   "source": [
    "**Creating Threshold Based on FICO Only Prediction**"
   ]
  },
  {
   "cell_type": "code",
   "execution_count": 34,
   "metadata": {},
   "outputs": [
    {
     "name": "stdout",
     "output_type": "stream",
     "text": [
      "ROC AUC Score Threshold is 0.644409549686\n"
     ]
    }
   ],
   "source": [
    "from sklearn.linear_model import LogisticRegression\n",
    "from sklearn.metrics import roc_auc_score\n",
    "clf_thresh = LogisticRegression(random_state = 0)\n",
    "clf_thresh.fit(X_FICO_train, y_FICO_train)\n",
    "y_FICO_pred = clf_thresh.predict(X_FICO_test)\n",
    "print('ROC AUC Score Threshold is %s' % (roc_auc_score(y_FICO_test, y_FICO_pred)))"
   ]
  },
  {
   "cell_type": "code",
   "execution_count": 35,
   "metadata": {},
   "outputs": [
    {
     "name": "stdout",
     "output_type": "stream",
     "text": [
      "Mean of Threshold Accuracy is 0.651624109472\n",
      "Std of Threshold Accuracy is 0.00855470042834\n"
     ]
    }
   ],
   "source": [
    "from sklearn.model_selection import cross_val_score\n",
    "accuracies_thresh = cross_val_score(estimator = clf_thresh, X = X_FICO_train, y = y_FICO_train, cv = 10)\n",
    "print ('Mean of Threshold Accuracy is %s' % (accuracies_thresh.mean()))\n",
    "print ('Std of Threshold Accuracy is %s' % (accuracies_thresh.std()))"
   ]
  },
  {
   "cell_type": "markdown",
   "metadata": {},
   "source": [
    "#### Applying Different Classifiers on Training Dataset"
   ]
  },
  {
   "cell_type": "code",
   "execution_count": 36,
   "metadata": {
    "collapsed": true
   },
   "outputs": [],
   "source": [
    "from sklearn.metrics import auc\n",
    "from sklearn.metrics import roc_auc_score\n",
    "from sklearn import model_selection\n",
    "from sklearn.svm import SVC\n",
    "from sklearn.ensemble import RandomForestClassifier\n",
    "from sklearn.tree import DecisionTreeClassifier\n",
    "from sklearn.neighbors import KNeighborsClassifier\n",
    "from sklearn.linear_model import LogisticRegression\n",
    "from sklearn.discriminant_analysis import LinearDiscriminantAnalysis\n",
    "from sklearn.naive_bayes import GaussianNB\n",
    "\n",
    "# Create a list of classifiers\n",
    "classifiers = [LogisticRegression(random_state = 0),\n",
    "               SVC(kernel = \"linear\", random_state = 0),\n",
    "               SVC(kernel = \"poly\", random_state = 0),\n",
    "               RandomForestClassifier(n_estimators = 10, criterion = 'entropy', random_state = 0),\n",
    "               DecisionTreeClassifier(criterion = 'entropy', random_state = 0),\n",
    "               KNeighborsClassifier(n_neighbors = 5, metric = 'minkowski', p=2),\n",
    "               \n",
    "              ]\n",
    "\n",
    "classifier_name = ['LogisticReg', 'SVM', 'SVM Kernel', 'Random Forest', 'Decision Tree', 'K-NN']"
   ]
  },
  {
   "cell_type": "code",
   "execution_count": 37,
   "metadata": {
    "collapsed": true
   },
   "outputs": [],
   "source": [
    "classifier_dict = {'LogisticReg': LogisticRegression(random_state = 0),\n",
    "                   'SVM': SVC(kernel = \"linear\", random_state = 0),\n",
    "                   'SVM Kernel': SVC(kernel = \"poly\", random_state = 0),\n",
    "                   'Random Forest': RandomForestClassifier(n_estimators = 10, criterion = 'entropy', random_state = 0),\n",
    "                   'Decision Tree': DecisionTreeClassifier(criterion = 'entropy', random_state = 0),\n",
    "                   'KNN': KNeighborsClassifier(n_neighbors = 5, metric = 'minkowski', p=2)\n",
    "                  }"
   ]
  },
  {
   "cell_type": "code",
   "execution_count": 38,
   "metadata": {},
   "outputs": [
    {
     "data": {
      "text/html": [
       "<div>\n",
       "<style>\n",
       "    .dataframe thead tr:only-child th {\n",
       "        text-align: right;\n",
       "    }\n",
       "\n",
       "    .dataframe thead th {\n",
       "        text-align: left;\n",
       "    }\n",
       "\n",
       "    .dataframe tbody tr th {\n",
       "        vertical-align: top;\n",
       "    }\n",
       "</style>\n",
       "<table border=\"1\" class=\"dataframe\">\n",
       "  <thead>\n",
       "    <tr style=\"text-align: right;\">\n",
       "      <th></th>\n",
       "      <th>LogisticRegression(C=1.0, class_weight=None, dual=False, fit_intercept=True,\n",
       "          intercept_scaling=1, max_iter=100, multi_class='ovr', n_jobs=1,\n",
       "          penalty='l2', random_state=0, solver='liblinear', tol=0.0001,\n",
       "          verbose=0, warm_start=False)</th>\n",
       "      <th>SVC(C=1.0, cache_size=200, class_weight=None, coef0=0.0,\n",
       "  decision_function_shape=None, degree=3, gamma='auto', kernel='linear',\n",
       "  max_iter=-1, probability=False, random_state=0, shrinking=True,\n",
       "  tol=0.001, verbose=False)</th>\n",
       "      <th>SVC(C=1.0, cache_size=200, class_weight=None, coef0=0.0,\n",
       "  decision_function_shape=None, degree=3, gamma='auto', kernel='poly',\n",
       "  max_iter=-1, probability=False, random_state=0, shrinking=True,\n",
       "  tol=0.001, verbose=False)</th>\n",
       "      <th>(DecisionTreeClassifier(class_weight=None, criterion='entropy', max_depth=None,\n",
       "            max_features='auto', max_leaf_nodes=None,\n",
       "            min_impurity_split=1e-07, min_samples_leaf=1,\n",
       "            min_samples_split=2, min_weight_fraction_leaf=0.0,\n",
       "            presort=False, random_state=209652396, splitter='best'), DecisionTreeClassifier(class_weight=None, criterion='entropy', max_depth=None,\n",
       "            max_features='auto', max_leaf_nodes=None,\n",
       "            min_impurity_split=1e-07, min_samples_leaf=1,\n",
       "            min_samples_split=2, min_weight_fraction_leaf=0.0,\n",
       "            presort=False, random_state=398764591, splitter='best'), DecisionTreeClassifier(class_weight=None, criterion='entropy', max_depth=None,\n",
       "            max_features='auto', max_leaf_nodes=None,\n",
       "            min_impurity_split=1e-07, min_samples_leaf=1,\n",
       "            min_samples_split=2, min_weight_fraction_leaf=0.0,\n",
       "            presort=False, random_state=924231285, splitter='best'), DecisionTreeClassifier(class_weight=None, criterion='entropy', max_depth=None,\n",
       "            max_features='auto', max_leaf_nodes=None,\n",
       "            min_impurity_split=1e-07, min_samples_leaf=1,\n",
       "            min_samples_split=2, min_weight_fraction_leaf=0.0,\n",
       "            presort=False, random_state=1478610112, splitter='best'), DecisionTreeClassifier(class_weight=None, criterion='entropy', max_depth=None,\n",
       "            max_features='auto', max_leaf_nodes=None,\n",
       "            min_impurity_split=1e-07, min_samples_leaf=1,\n",
       "            min_samples_split=2, min_weight_fraction_leaf=0.0,\n",
       "            presort=False, random_state=441365315, splitter='best'), DecisionTreeClassifier(class_weight=None, criterion='entropy', max_depth=None,\n",
       "            max_features='auto', max_leaf_nodes=None,\n",
       "            min_impurity_split=1e-07, min_samples_leaf=1,\n",
       "            min_samples_split=2, min_weight_fraction_leaf=0.0,\n",
       "            presort=False, random_state=1537364731, splitter='best'), DecisionTreeClassifier(class_weight=None, criterion='entropy', max_depth=None,\n",
       "            max_features='auto', max_leaf_nodes=None,\n",
       "            min_impurity_split=1e-07, min_samples_leaf=1,\n",
       "            min_samples_split=2, min_weight_fraction_leaf=0.0,\n",
       "            presort=False, random_state=192771779, splitter='best'), DecisionTreeClassifier(class_weight=None, criterion='entropy', max_depth=None,\n",
       "            max_features='auto', max_leaf_nodes=None,\n",
       "            min_impurity_split=1e-07, min_samples_leaf=1,\n",
       "            min_samples_split=2, min_weight_fraction_leaf=0.0,\n",
       "            presort=False, random_state=1491434855, splitter='best'), DecisionTreeClassifier(class_weight=None, criterion='entropy', max_depth=None,\n",
       "            max_features='auto', max_leaf_nodes=None,\n",
       "            min_impurity_split=1e-07, min_samples_leaf=1,\n",
       "            min_samples_split=2, min_weight_fraction_leaf=0.0,\n",
       "            presort=False, random_state=1819583497, splitter='best'), DecisionTreeClassifier(class_weight=None, criterion='entropy', max_depth=None,\n",
       "            max_features='auto', max_leaf_nodes=None,\n",
       "            min_impurity_split=1e-07, min_samples_leaf=1,\n",
       "            min_samples_split=2, min_weight_fraction_leaf=0.0,\n",
       "            presort=False, random_state=530702035, splitter='best'))</th>\n",
       "      <th>DecisionTreeClassifier(class_weight=None, criterion='entropy', max_depth=None,\n",
       "            max_features=None, max_leaf_nodes=None,\n",
       "            min_impurity_split=1e-07, min_samples_leaf=1,\n",
       "            min_samples_split=2, min_weight_fraction_leaf=0.0,\n",
       "            presort=False, random_state=0, splitter='best')</th>\n",
       "      <th>KNeighborsClassifier(algorithm='auto', leaf_size=30, metric='minkowski',\n",
       "           metric_params=None, n_jobs=1, n_neighbors=5, p=2,\n",
       "           weights='uniform')</th>\n",
       "    </tr>\n",
       "  </thead>\n",
       "  <tbody>\n",
       "    <tr>\n",
       "      <th>0</th>\n",
       "      <td>0.669047</td>\n",
       "      <td>0.64441</td>\n",
       "      <td>0.648288</td>\n",
       "      <td>0.618982</td>\n",
       "      <td>0.617394</td>\n",
       "      <td>0.611497</td>\n",
       "    </tr>\n",
       "  </tbody>\n",
       "</table>\n",
       "</div>"
      ],
      "text/plain": [
       "   LogisticRegression(C=1.0, class_weight=None, dual=False, fit_intercept=True,\\n          intercept_scaling=1, max_iter=100, multi_class='ovr', n_jobs=1,\\n          penalty='l2', random_state=0, solver='liblinear', tol=0.0001,\\n          verbose=0, warm_start=False)  \\\n",
       "0                                           0.669047                                                                                                                                                                                                                          \n",
       "\n",
       "   SVC(C=1.0, cache_size=200, class_weight=None, coef0=0.0,\\n  decision_function_shape=None, degree=3, gamma='auto', kernel='linear',\\n  max_iter=-1, probability=False, random_state=0, shrinking=True,\\n  tol=0.001, verbose=False)  \\\n",
       "0                                            0.64441                                                                                                                                                                                    \n",
       "\n",
       "   SVC(C=1.0, cache_size=200, class_weight=None, coef0=0.0,\\n  decision_function_shape=None, degree=3, gamma='auto', kernel='poly',\\n  max_iter=-1, probability=False, random_state=0, shrinking=True,\\n  tol=0.001, verbose=False)  \\\n",
       "0                                           0.648288                                                                                                                                                                                  \n",
       "\n",
       "   (DecisionTreeClassifier(class_weight=None, criterion='entropy', max_depth=None,\\n            max_features='auto', max_leaf_nodes=None,\\n            min_impurity_split=1e-07, min_samples_leaf=1,\\n            min_samples_split=2, min_weight_fraction_leaf=0.0,\\n            presort=False, random_state=209652396, splitter='best'), DecisionTreeClassifier(class_weight=None, criterion='entropy', max_depth=None,\\n            max_features='auto', max_leaf_nodes=None,\\n            min_impurity_split=1e-07, min_samples_leaf=1,\\n            min_samples_split=2, min_weight_fraction_leaf=0.0,\\n            presort=False, random_state=398764591, splitter='best'), DecisionTreeClassifier(class_weight=None, criterion='entropy', max_depth=None,\\n            max_features='auto', max_leaf_nodes=None,\\n            min_impurity_split=1e-07, min_samples_leaf=1,\\n            min_samples_split=2, min_weight_fraction_leaf=0.0,\\n            presort=False, random_state=924231285, splitter='best'), DecisionTreeClassifier(class_weight=None, criterion='entropy', max_depth=None,\\n            max_features='auto', max_leaf_nodes=None,\\n            min_impurity_split=1e-07, min_samples_leaf=1,\\n            min_samples_split=2, min_weight_fraction_leaf=0.0,\\n            presort=False, random_state=1478610112, splitter='best'), DecisionTreeClassifier(class_weight=None, criterion='entropy', max_depth=None,\\n            max_features='auto', max_leaf_nodes=None,\\n            min_impurity_split=1e-07, min_samples_leaf=1,\\n            min_samples_split=2, min_weight_fraction_leaf=0.0,\\n            presort=False, random_state=441365315, splitter='best'), DecisionTreeClassifier(class_weight=None, criterion='entropy', max_depth=None,\\n            max_features='auto', max_leaf_nodes=None,\\n            min_impurity_split=1e-07, min_samples_leaf=1,\\n            min_samples_split=2, min_weight_fraction_leaf=0.0,\\n            presort=False, random_state=1537364731, splitter='best'), DecisionTreeClassifier(class_weight=None, criterion='entropy', max_depth=None,\\n            max_features='auto', max_leaf_nodes=None,\\n            min_impurity_split=1e-07, min_samples_leaf=1,\\n            min_samples_split=2, min_weight_fraction_leaf=0.0,\\n            presort=False, random_state=192771779, splitter='best'), DecisionTreeClassifier(class_weight=None, criterion='entropy', max_depth=None,\\n            max_features='auto', max_leaf_nodes=None,\\n            min_impurity_split=1e-07, min_samples_leaf=1,\\n            min_samples_split=2, min_weight_fraction_leaf=0.0,\\n            presort=False, random_state=1491434855, splitter='best'), DecisionTreeClassifier(class_weight=None, criterion='entropy', max_depth=None,\\n            max_features='auto', max_leaf_nodes=None,\\n            min_impurity_split=1e-07, min_samples_leaf=1,\\n            min_samples_split=2, min_weight_fraction_leaf=0.0,\\n            presort=False, random_state=1819583497, splitter='best'), DecisionTreeClassifier(class_weight=None, criterion='entropy', max_depth=None,\\n            max_features='auto', max_leaf_nodes=None,\\n            min_impurity_split=1e-07, min_samples_leaf=1,\\n            min_samples_split=2, min_weight_fraction_leaf=0.0,\\n            presort=False, random_state=530702035, splitter='best'))  \\\n",
       "0                                           0.618982                                                                                                                                                                                                                                                                                                                                                                                                                                                                                                                                                                                                                                                                                                                                                                                                                                                                                                                                                                                                                                                                                                                                                                                                                                                                                                                                                                                                                                                                                                                                                                                                                                                                                                                                                                                                                                                                                                                                                                                                                                                                                                                                                                                                                                                                                                                                                                                                                                                                                                                                                                                                                                                                                                                                                                                                                                                                                                                                                                                                                                                                                                                                                                                                                                                                                                                                                            \n",
       "\n",
       "   DecisionTreeClassifier(class_weight=None, criterion='entropy', max_depth=None,\\n            max_features=None, max_leaf_nodes=None,\\n            min_impurity_split=1e-07, min_samples_leaf=1,\\n            min_samples_split=2, min_weight_fraction_leaf=0.0,\\n            presort=False, random_state=0, splitter='best')  \\\n",
       "0                                           0.617394                                                                                                                                                                                                                                                                             \n",
       "\n",
       "   KNeighborsClassifier(algorithm='auto', leaf_size=30, metric='minkowski',\\n           metric_params=None, n_jobs=1, n_neighbors=5, p=2,\\n           weights='uniform')  \n",
       "0                                           0.611497                                                                                                                      "
      ]
     },
     "execution_count": 38,
     "metadata": {},
     "output_type": "execute_result"
    }
   ],
   "source": [
    "performance_dict = {}\n",
    "\n",
    "for clf in classifiers:\n",
    "    clf.fit(X_train, y_train)\n",
    "    pred = clf.predict(X_test)\n",
    "    performance_dict[clf] = [roc_auc_score(y_test, pred)]\n",
    "\n",
    "pd.DataFrame(performance_dict)"
   ]
  },
  {
   "cell_type": "code",
   "execution_count": 39,
   "metadata": {
    "collapsed": true
   },
   "outputs": [],
   "source": [
    "# Alternative Way to Show roc_auc_score\n",
    "\n",
    "# prepare models\n",
    "models = []\n",
    "models.append(('LR', LogisticRegression()))\n",
    "models.append(('LDA', LinearDiscriminantAnalysis()))\n",
    "models.append(('KNN', KNeighborsClassifier()))\n",
    "models.append(('CART', DecisionTreeClassifier()))\n",
    "models.append(('NB', GaussianNB()))\n",
    "models.append(('SVM', SVC()))\n",
    "models.append(('SVMKernel', SVC(kernel = \"poly\")))\n",
    "models.append(('RF', RandomForestClassifier()))"
   ]
  },
  {
   "cell_type": "code",
   "execution_count": 40,
   "metadata": {},
   "outputs": [],
   "source": [
    "results = []\n",
    "names = []\n",
    "for name, model in models:\n",
    "    model.fit(X_train, y_train)\n",
    "    pred = model.predict(X_test)\n",
    "    roc_auc = roc_auc_score(y_test, pred)\n",
    "    #results.append(roc_auc)\n",
    "    #names.append(name)\n",
    "    #msg = \"%s: %f\" % (name, roc_auc_score)"
   ]
  },
  {
   "cell_type": "code",
   "execution_count": null,
   "metadata": {
    "collapsed": true
   },
   "outputs": [],
   "source": []
  },
  {
   "cell_type": "code",
   "execution_count": 41,
   "metadata": {},
   "outputs": [
    {
     "name": "stdout",
     "output_type": "stream",
     "text": [
      "LR: 0.685813 (0.009186)\n",
      "LDA: 0.686562 (0.007149)\n",
      "KNN: 0.636563 (0.008787)\n",
      "CART: 0.621438 (0.009010)\n",
      "NB: 0.651250 (0.006829)\n",
      "SVM: 0.660937 (0.009899)\n",
      "SVMKernel: 0.661625 (0.014804)\n",
      "RF: 0.629125 (0.007737)\n"
     ]
    },
    {
     "data": {
      "image/png": "[encoded data removed]",
      "text/plain": [
       "<matplotlib.figure.Figure at 0x1c102673f28>"
      ]
     },
     "metadata": {},
     "output_type": "display_data"
    }
   ],
   "source": [
    "# prepare configuration for cross validation test harness\n",
    "seed = 7\n",
    "\n",
    "# Compare accuracy score among different models\n",
    "results = []\n",
    "names = []\n",
    "scoring = 'accuracy'\n",
    "for name, model in models:\n",
    "\tkfold = model_selection.KFold(n_splits=10, random_state=seed)\n",
    "\tcv_results = model_selection.cross_val_score(model, X_train, y_train, cv=kfold, scoring=scoring)\n",
    "\tresults.append(cv_results)\n",
    "\tnames.append(name)\n",
    "\tmsg = \"%s: %f (%f)\" % (name, cv_results.mean(), cv_results.std())\n",
    "\tprint(msg)\n",
    "    \n",
    "# boxplot algorithm comparison\n",
    "fig = plt.figure()\n",
    "fig.suptitle('Algorithm Accuracy Comparison')\n",
    "ax = fig.add_subplot(111)\n",
    "plt.boxplot(results)\n",
    "ax.set_xticklabels(names)\n",
    "plt.show()"
   ]
  },
  {
   "cell_type": "code",
   "execution_count": 42,
   "metadata": {},
   "outputs": [
    {
     "name": "stdout",
     "output_type": "stream",
     "text": [
      "LR: 0.747149 (0.008767)\n",
      "LDA: 0.747257 (0.008894)\n",
      "KNN: 0.669877 (0.008380)\n",
      "CART: 0.636602 (0.008466)\n",
      "NB: 0.703758 (0.009167)\n",
      "SVM: 0.731584 (0.010260)\n",
      "SVMKernel: 0.721638 (0.013174)\n",
      "RF: 0.674122 (0.009621)\n"
     ]
    },
    {
     "data": {
      "image/png": "[encoded data removed]",
      "text/plain": [
       "<matplotlib.figure.Figure at 0x1c102673fd0>"
      ]
     },
     "metadata": {},
     "output_type": "display_data"
    }
   ],
   "source": [
    "# Compare roc auc score among different models\n",
    "results_auc = []\n",
    "names = []\n",
    "scoring_auc = 'roc_auc'\n",
    "for name, model in models:\n",
    "\tkfold = model_selection.KFold(n_splits=10, random_state=seed)\n",
    "\tcv_results_auc = model_selection.cross_val_score(model, X_train, y_train, cv=kfold, scoring=scoring_auc)\n",
    "\tresults_auc.append(cv_results_auc)\n",
    "\tnames.append(name)\n",
    "\tmsg = \"%s: %f (%f)\" % (name, cv_results_auc.mean(), cv_results_auc.std())\n",
    "\tprint(msg)\n",
    "# boxplot algorithm comparison\n",
    "fig = plt.figure()\n",
    "fig.suptitle('Algorithm ROC AUC Score Comparison')\n",
    "ax = fig.add_subplot(111)\n",
    "plt.boxplot(results_auc)\n",
    "ax.set_xticklabels(names)\n",
    "plt.show()"
   ]
  },
  {
   "cell_type": "markdown",
   "metadata": {
    "collapsed": true
   },
   "source": [
    "### Find out the probablity of loan in claim with the ever deliquent status"
   ]
  },
  {
   "cell_type": "code",
   "execution_count": 43,
   "metadata": {},
   "outputs": [
    {
     "data": {
      "text/plain": [
       "Ever_Delinquent\n",
       "0    nan%\n",
       "1    8.4%\n",
       "Name: loan_id, dtype: object"
      ]
     },
     "execution_count": 43,
     "metadata": {},
     "output_type": "execute_result"
    }
   ],
   "source": [
    "(df[df['claim_flag'] == 1]\n",
    "  .groupby('Ever_Delinquent')\n",
    "  .loan_id.nunique()/df.groupby('Ever_Delinquent').loan_id.nunique()\n",
    ").mul(100).round(1).astype(str) + '%'"
   ]
  },
  {
   "cell_type": "markdown",
   "metadata": {},
   "source": [
    "### Perform Regularization On Logistic Regression Classifier"
   ]
  },
  {
   "cell_type": "code",
   "execution_count": 44,
   "metadata": {},
   "outputs": [],
   "source": [
    "l1_penalty = [0, 0.1, 0.5, 1, 2, 5, 10, 20, 30, 50, 60, 80, 90, 100]\n",
    "regularization_dic = {}\n",
    "\n",
    "for penalty_param in l1_penalty:\n",
    "    clf = LogisticRegression(penalty = 'l1', C = penalty_param)\n",
    "clf.fit(X_train, y_train)\n",
    "y_pred = clf.predict(X_test)\n",
    "regularization_dic[penalty_param] = roc_auc_score(y_test, y_pred)"
   ]
  },
  {
   "cell_type": "code",
   "execution_count": 55,
   "metadata": {},
   "outputs": [
    {
     "data": {
      "text/plain": [
       "{100: 0.66980177821600395}"
      ]
     },
     "execution_count": 55,
     "metadata": {},
     "output_type": "execute_result"
    }
   ],
   "source": [
    "regularization_dic"
   ]
  },
  {
   "cell_type": "code",
   "execution_count": 45,
   "metadata": {},
   "outputs": [
    {
     "name": "stdout",
     "output_type": "stream",
     "text": [
      "100: 0.747251 (0.009085)\n"
     ]
    }
   ],
   "source": [
    "for penalty_param in l1_penalty:\n",
    "    clf  = LogisticRegression(penalty = 'l1', C = penalty_param)\n",
    "clf.fit(X_train, y_train)\n",
    "roc_auc = model_selection.cross_val_score(clf, X_train, y_train, cv = 10, scoring = 'roc_auc')\n",
    "msg = \"%s: %f (%f)\" % (penalty_param, roc_auc.mean(), roc_auc.std())\n",
    "print(msg)"
   ]
  },
  {
   "cell_type": "code",
   "execution_count": 46,
   "metadata": {},
   "outputs": [
    {
     "data": {
      "text/plain": [
       "array([1, 0, 1, ..., 1, 1, 0], dtype=int64)"
      ]
     },
     "execution_count": 46,
     "metadata": {},
     "output_type": "execute_result"
    }
   ],
   "source": [
    "# Predicting the Test set results\n",
    "y_pred = clf.predict(X_test)\n",
    "y_pred"
   ]
  },
  {
   "cell_type": "code",
   "execution_count": 47,
   "metadata": {
    "collapsed": true
   },
   "outputs": [],
   "source": [
    "# Return the probablity of \"1\" class to training set and test set\n",
    "y_hats_train = clf.predict(X_train)\n",
    "delinquent_proba_train = clf.predict_proba(X_train)[:,1]\n",
    "df_train = pd.DataFrame(X_train, columns = df_X_dummy.columns)\n",
    "df_train.loc[:,'y_actual'] = y_train\n",
    "df_train.loc[:,'y_hats'] = y_hats_train\n",
    "df_train.loc[:,'delinquent_proba'] = delinquent_proba_train"
   ]
  },
  {
   "cell_type": "code",
   "execution_count": 48,
   "metadata": {
    "collapsed": true
   },
   "outputs": [],
   "source": [
    "y_hats_test = clf.predict(X_test)\n",
    "delinquent_proba_test = clf.predict_proba(X_test)[:,1]\n",
    "df_test = pd.DataFrame(X_test)\n",
    "df_test.loc[:,'y_actual'] = y_test\n",
    "df_test.loc[:,'y_hats'] = y_hats_test\n",
    "df_test.loc[:,'delinquent_proba'] = delinquent_proba_test"
   ]
  },
  {
   "cell_type": "code",
   "execution_count": 49,
   "metadata": {
    "scrolled": true
   },
   "outputs": [
    {
     "data": {
      "text/html": [
       "<div>\n",
       "<style>\n",
       "    .dataframe thead tr:only-child th {\n",
       "        text-align: right;\n",
       "    }\n",
       "\n",
       "    .dataframe thead th {\n",
       "        text-align: left;\n",
       "    }\n",
       "\n",
       "    .dataframe tbody tr th {\n",
       "        vertical-align: top;\n",
       "    }\n",
       "</style>\n",
       "<table border=\"1\" class=\"dataframe\">\n",
       "  <thead>\n",
       "    <tr style=\"text-align: right;\">\n",
       "      <th></th>\n",
       "      <th>loan_purp_N</th>\n",
       "      <th>loan_purp_P</th>\n",
       "      <th>prop_type_MH</th>\n",
       "      <th>prop_type_SF</th>\n",
       "      <th>occ_stat_S</th>\n",
       "      <th>dti_new_12.5</th>\n",
       "      <th>dti_new_17.5</th>\n",
       "      <th>dti_new_22.5</th>\n",
       "      <th>dti_new_27.5</th>\n",
       "      <th>dti_new_32.5</th>\n",
       "      <th>...</th>\n",
       "      <th>ltv_new_97</th>\n",
       "      <th>fhb_flag_Y</th>\n",
       "      <th>MI_chl_Non-Delegated</th>\n",
       "      <th>no_bor_2</th>\n",
       "      <th>ory_2011</th>\n",
       "      <th>ory_2012</th>\n",
       "      <th>ory_2013</th>\n",
       "      <th>y_actual</th>\n",
       "      <th>y_hats</th>\n",
       "      <th>delinquent_proba</th>\n",
       "    </tr>\n",
       "  </thead>\n",
       "  <tbody>\n",
       "    <tr>\n",
       "      <th>0</th>\n",
       "      <td>0</td>\n",
       "      <td>1</td>\n",
       "      <td>0</td>\n",
       "      <td>1</td>\n",
       "      <td>0</td>\n",
       "      <td>0</td>\n",
       "      <td>0</td>\n",
       "      <td>0</td>\n",
       "      <td>0</td>\n",
       "      <td>0</td>\n",
       "      <td>...</td>\n",
       "      <td>0</td>\n",
       "      <td>1</td>\n",
       "      <td>0</td>\n",
       "      <td>1</td>\n",
       "      <td>1</td>\n",
       "      <td>0</td>\n",
       "      <td>0</td>\n",
       "      <td>1</td>\n",
       "      <td>1</td>\n",
       "      <td>0.675195</td>\n",
       "    </tr>\n",
       "    <tr>\n",
       "      <th>1</th>\n",
       "      <td>0</td>\n",
       "      <td>1</td>\n",
       "      <td>0</td>\n",
       "      <td>1</td>\n",
       "      <td>1</td>\n",
       "      <td>0</td>\n",
       "      <td>0</td>\n",
       "      <td>0</td>\n",
       "      <td>0</td>\n",
       "      <td>1</td>\n",
       "      <td>...</td>\n",
       "      <td>0</td>\n",
       "      <td>1</td>\n",
       "      <td>0</td>\n",
       "      <td>0</td>\n",
       "      <td>0</td>\n",
       "      <td>1</td>\n",
       "      <td>0</td>\n",
       "      <td>1</td>\n",
       "      <td>0</td>\n",
       "      <td>0.331910</td>\n",
       "    </tr>\n",
       "    <tr>\n",
       "      <th>2</th>\n",
       "      <td>1</td>\n",
       "      <td>0</td>\n",
       "      <td>0</td>\n",
       "      <td>1</td>\n",
       "      <td>0</td>\n",
       "      <td>0</td>\n",
       "      <td>0</td>\n",
       "      <td>1</td>\n",
       "      <td>0</td>\n",
       "      <td>0</td>\n",
       "      <td>...</td>\n",
       "      <td>0</td>\n",
       "      <td>0</td>\n",
       "      <td>0</td>\n",
       "      <td>1</td>\n",
       "      <td>0</td>\n",
       "      <td>0</td>\n",
       "      <td>0</td>\n",
       "      <td>0</td>\n",
       "      <td>0</td>\n",
       "      <td>0.208875</td>\n",
       "    </tr>\n",
       "    <tr>\n",
       "      <th>3</th>\n",
       "      <td>0</td>\n",
       "      <td>1</td>\n",
       "      <td>0</td>\n",
       "      <td>1</td>\n",
       "      <td>0</td>\n",
       "      <td>0</td>\n",
       "      <td>0</td>\n",
       "      <td>0</td>\n",
       "      <td>0</td>\n",
       "      <td>0</td>\n",
       "      <td>...</td>\n",
       "      <td>0</td>\n",
       "      <td>0</td>\n",
       "      <td>0</td>\n",
       "      <td>0</td>\n",
       "      <td>0</td>\n",
       "      <td>0</td>\n",
       "      <td>0</td>\n",
       "      <td>1</td>\n",
       "      <td>1</td>\n",
       "      <td>0.716050</td>\n",
       "    </tr>\n",
       "    <tr>\n",
       "      <th>4</th>\n",
       "      <td>1</td>\n",
       "      <td>0</td>\n",
       "      <td>0</td>\n",
       "      <td>1</td>\n",
       "      <td>0</td>\n",
       "      <td>0</td>\n",
       "      <td>0</td>\n",
       "      <td>0</td>\n",
       "      <td>1</td>\n",
       "      <td>0</td>\n",
       "      <td>...</td>\n",
       "      <td>0</td>\n",
       "      <td>0</td>\n",
       "      <td>1</td>\n",
       "      <td>1</td>\n",
       "      <td>1</td>\n",
       "      <td>0</td>\n",
       "      <td>0</td>\n",
       "      <td>0</td>\n",
       "      <td>0</td>\n",
       "      <td>0.219274</td>\n",
       "    </tr>\n",
       "  </tbody>\n",
       "</table>\n",
       "<p>5 rows × 35 columns</p>\n",
       "</div>"
      ],
      "text/plain": [
       "   loan_purp_N  loan_purp_P  prop_type_MH  prop_type_SF  occ_stat_S  \\\n",
       "0            0            1             0             1           0   \n",
       "1            0            1             0             1           1   \n",
       "2            1            0             0             1           0   \n",
       "3            0            1             0             1           0   \n",
       "4            1            0             0             1           0   \n",
       "\n",
       "   dti_new_12.5  dti_new_17.5  dti_new_22.5  dti_new_27.5  dti_new_32.5  \\\n",
       "0             0             0             0             0             0   \n",
       "1             0             0             0             0             1   \n",
       "2             0             0             1             0             0   \n",
       "3             0             0             0             0             0   \n",
       "4             0             0             0             1             0   \n",
       "\n",
       "         ...         ltv_new_97  fhb_flag_Y  MI_chl_Non-Delegated  no_bor_2  \\\n",
       "0        ...                  0           1                     0         1   \n",
       "1        ...                  0           1                     0         0   \n",
       "2        ...                  0           0                     0         1   \n",
       "3        ...                  0           0                     0         0   \n",
       "4        ...                  0           0                     1         1   \n",
       "\n",
       "   ory_2011  ory_2012  ory_2013  y_actual  y_hats  delinquent_proba  \n",
       "0         1         0         0         1       1          0.675195  \n",
       "1         0         1         0         1       0          0.331910  \n",
       "2         0         0         0         0       0          0.208875  \n",
       "3         0         0         0         1       1          0.716050  \n",
       "4         1         0         0         0       0          0.219274  \n",
       "\n",
       "[5 rows x 35 columns]"
      ]
     },
     "execution_count": 49,
     "metadata": {},
     "output_type": "execute_result"
    }
   ],
   "source": [
    "df_train.head()"
   ]
  },
  {
   "cell_type": "code",
   "execution_count": 50,
   "metadata": {
    "scrolled": true
   },
   "outputs": [
    {
     "data": {
      "text/plain": [
       "y_hats\n",
       "0    Axes(0.125,0.125;0.775x0.755)\n",
       "1    Axes(0.125,0.125;0.775x0.755)\n",
       "Name: delinquent_proba, dtype: object"
      ]
     },
     "execution_count": 50,
     "metadata": {},
     "output_type": "execute_result"
    },
    {
     "data": {
      "image/png": "[encoded data removed]",
      "text/plain": [
       "<matplotlib.figure.Figure at 0x1c10de813c8>"
      ]
     },
     "metadata": {},
     "output_type": "display_data"
    }
   ],
   "source": [
    "df_train.groupby(\"y_hats\").delinquent_proba.hist(alpha=0.4)"
   ]
  },
  {
   "cell_type": "code",
   "execution_count": 51,
   "metadata": {},
   "outputs": [
    {
     "data": {
      "text/plain": [
       "y_hats\n",
       "0    Axes(0.125,0.125;0.775x0.755)\n",
       "1    Axes(0.125,0.125;0.775x0.755)\n",
       "Name: delinquent_proba, dtype: object"
      ]
     },
     "execution_count": 51,
     "metadata": {},
     "output_type": "execute_result"
    },
    {
     "data": {
      "image/png": "[encoded data removed]",
      "text/plain": [
       "<matplotlib.figure.Figure at 0x1c10df03fd0>"
      ]
     },
     "metadata": {},
     "output_type": "display_data"
    }
   ],
   "source": [
    "df_test.groupby(\"y_hats\").delinquent_proba.hist(alpha=0.4)"
   ]
  },
  {
   "cell_type": "code",
   "execution_count": 52,
   "metadata": {},
   "outputs": [
    {
     "data": {
      "text/plain": [
       "y_actual\n",
       "0    Axes(0.125,0.125;0.775x0.755)\n",
       "1    Axes(0.125,0.125;0.775x0.755)\n",
       "Name: delinquent_proba, dtype: object"
      ]
     },
     "execution_count": 52,
     "metadata": {},
     "output_type": "execute_result"
    },
    {
     "data": {
      "image/png": "[encoded data removed]",
      "text/plain": [
       "<matplotlib.figure.Figure at 0x1c10e6aa940>"
      ]
     },
     "metadata": {},
     "output_type": "display_data"
    }
   ],
   "source": [
    "df_train.groupby(\"y_actual\").delinquent_proba.hist(alpha=0.4)"
   ]
  },
  {
   "cell_type": "code",
   "execution_count": 53,
   "metadata": {},
   "outputs": [
    {
     "data": {
      "text/plain": [
       "y_actual\n",
       "0    Axes(0.125,0.125;0.775x0.755)\n",
       "1    Axes(0.125,0.125;0.775x0.755)\n",
       "Name: delinquent_proba, dtype: object"
      ]
     },
     "execution_count": 53,
     "metadata": {},
     "output_type": "execute_result"
    },
    {
     "data": {
      "image/png": "[encoded data removed]",
      "text/plain": [
       "<matplotlib.figure.Figure at 0x1c10de70eb8>"
      ]
     },
     "metadata": {},
     "output_type": "display_data"
    }
   ],
   "source": [
    "df_test.groupby(\"y_actual\").delinquent_proba.hist(alpha=0.4)"
   ]
  },
  {
   "cell_type": "code",
   "execution_count": 54,
   "metadata": {},
   "outputs": [
    {
     "data": {
      "text/plain": [
       "<matplotlib.axes._subplots.AxesSubplot at 0x1c10fa8ea20>"
      ]
     },
     "execution_count": 54,
     "metadata": {},
     "output_type": "execute_result"
    },
    {
     "data": {
      "image/png": "[encoded data removed]",
      "text/plain": [
       "<matplotlib.figure.Figure at 0x1c10dc07828>"
      ]
     },
     "metadata": {},
     "output_type": "display_data"
    }
   ],
   "source": [
    "import seaborn as sns\n",
    "sns.kdeplot(df_test.y_actual)  "
   ]
  },
  {
   "cell_type": "code",
   "execution_count": null,
   "metadata": {
    "collapsed": true
   },
   "outputs": [],
   "source": []
  }
 ],
 "metadata": {
  "kernelspec": {
   "display_name": "Python 3",
   "language": "python",
   "name": "python3"
  },
  "language_info": {
   "codemirror_mode": {
    "name": "ipython",
    "version": 3
   },
   "file_extension": ".py",
   "mimetype": "text/x-python",
   "name": "python",
   "nbconvert_exporter": "python",
   "pygments_lexer": "ipython3",
   "version": "3.6.1"
  }
 },
 "nbformat": 4,
 "nbformat_minor": 2
}
