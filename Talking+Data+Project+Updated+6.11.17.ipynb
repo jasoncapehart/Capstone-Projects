{
 "cells": [
  {
   "cell_type": "code",
   "execution_count": 1,
   "metadata": {
    "collapsed": false
   },
   "outputs": [],
   "source": [
    "%matplotlib inline\n",
    "import pandas as pd\n",
    "import numpy as np\n",
    "from pandas import DataFrame\n",
    "from pandas import Series\n",
    "import matplotlib.pyplot as plt\n",
    "from datetime import datetime\n",
    "from sklearn.preprocessing import LabelEncoder\n",
    "from sklearn.linear_model import LogisticRegression\n",
    "import sklearn\n",
    "from sklearn.metrics import accuracy_score"
   ]
  },
  {
   "cell_type": "markdown",
   "metadata": {},
   "source": [
    "### Import Raw Data"
   ]
  },
  {
   "cell_type": "code",
   "execution_count": 2,
   "metadata": {
    "collapsed": false
   },
   "outputs": [],
   "source": [
    "app_event = pd.read_csv(\"C:/Users/Felix/Documents/data/TalkingData Kaggle/app_events.csv\")\n",
    "app_label = pd.read_csv(\"C:/Users/Felix/Documents/data/TalkingData Kaggle/app_labels.csv\")\n",
    "label_cat = pd.read_csv(\"C:/Users/Felix/Documents/data/TalkingData Kaggle/label_categories.csv\")\n",
    "event = pd.read_csv(\"C:/Users/Felix/Documents/data/TalkingData Kaggle/events.csv\")\n",
    "phone = pd.read_csv(\"C:/Users/Felix/Documents/data/TalkingData Kaggle/phone_brand_device_model.csv\")\n",
    "gatrain = pd.read_csv(\"C:/Users/Felix/Documents/data/TalkingData Kaggle/gender_age_train.csv\")\n",
    "gatest = pd.read_csv(\"C:/Users/Felix/Documents/data/TalkingData Kaggle/gender_age_test.csv\")"
   ]
  },
  {
   "cell_type": "code",
   "execution_count": 3,
   "metadata": {
    "collapsed": false
   },
   "outputs": [
    {
     "name": "stdout",
     "output_type": "stream",
     "text": [
      "----------------------------------------------------\n",
      "app_event:\n",
      "   event_id               app_id  is_installed  is_active\n",
      "0         2  5927333115845830913             1          1\n",
      "1         2 -5720078949152207372             1          0\n",
      "2         2 -1633887856876571208             1          0\n",
      "3         2  -653184325010919369             1          1\n",
      "4         2  8693964245073640147             1          1\n",
      "----------------------------------------------------\n",
      "app_label:\n",
      "                app_id  label_id\n",
      "0  7324884708820027918       251\n",
      "1 -4494216993218550286       251\n",
      "2  6058196446775239644       406\n",
      "3  6058196446775239644       407\n",
      "4  8694625920731541625       406\n",
      "----------------------------------------------------\n",
      "label_cat:\n",
      "   label_id           category\n",
      "0         1                NaN\n",
      "1         2     game-game type\n",
      "2         3   game-Game themes\n",
      "3         4     game-Art Style\n",
      "4         5  game-Leisure time\n",
      "----------------------------------------------------\n",
      "event:\n",
      "   event_id            device_id            timestamp  longitude  latitude\n",
      "0         1    29182687948017175  2016-05-01 00:55:25     121.38     31.24\n",
      "1         2 -6401643145415154744  2016-05-01 00:54:12     103.65     30.97\n",
      "2         3 -4833982096941402721  2016-05-01 00:08:05     106.60     29.70\n",
      "3         4 -6815121365017318426  2016-05-01 00:06:40     104.27     23.28\n",
      "4         5 -5373797595892518570  2016-05-01 00:07:18     115.88     28.66\n",
      "----------------------------------------------------\n",
      "phone:\n",
      "             device_id phone_brand   device_model\n",
      "0 -8890648629457979026          小米             红米\n",
      "1  1277779817574759137          小米           MI 2\n",
      "2  5137427614288105724          三星      Galaxy S4\n",
      "3  3669464369358936369       SUGAR           时尚手机\n",
      "4 -5019277647504317457          三星  Galaxy Note 2\n",
      "----------------------------------------------------\n",
      "gatrain:\n",
      "             device_id gender  age   group\n",
      "0 -8076087639492063270      M   35  M32-38\n",
      "1 -2897161552818060146      M   35  M32-38\n",
      "2 -8260683887967679142      M   35  M32-38\n",
      "3 -4938849341048082022      M   30  M29-31\n",
      "4   245133531816851882      M   30  M29-31\n",
      "----------------------------------------------------\n"
     ]
    }
   ],
   "source": [
    "# Quick look at the data\n",
    "print ('----------------------------------------------------')\n",
    "print ('app_event:')\n",
    "print (app_event.head())\n",
    "print ('----------------------------------------------------')\n",
    "print ('app_label:')\n",
    "print (app_label.head())\n",
    "print ('----------------------------------------------------')\n",
    "print ('label_cat:')\n",
    "print (label_cat.head())\n",
    "print ('----------------------------------------------------')\n",
    "print ('event:')\n",
    "print (event.head())\n",
    "print ('----------------------------------------------------')\n",
    "print ('phone:')\n",
    "print (phone.head())\n",
    "print ('----------------------------------------------------')\n",
    "print ('gatrain:')\n",
    "print (gatrain.head())\n",
    "print ('----------------------------------------------------')\n"
   ]
  },
  {
   "cell_type": "code",
   "execution_count": 4,
   "metadata": {
    "collapsed": false
   },
   "outputs": [
    {
     "name": "stdout",
     "output_type": "stream",
     "text": [
      "True\n"
     ]
    }
   ],
   "source": [
    "# Check if all phones in \"phone brand\" table is in \"gender train table\"\n",
    "# The result show the table \"gatrain\" is the subset of phone list\n",
    "phone_list = phone.device_id.unique()\n",
    "phone_in_gatrain = gatrain.device_id.unique()\n",
    "phone_in_event = event.device_id.unique()\n",
    "print (set(phone_list) > set(phone_in_gatrain))"
   ]
  },
  {
   "cell_type": "code",
   "execution_count": 5,
   "metadata": {
    "collapsed": false
   },
   "outputs": [
    {
     "name": "stdout",
     "output_type": "stream",
     "text": [
      "74645\n",
      "74646\n"
     ]
    }
   ],
   "source": [
    "# Merge \"gatrain\" with \"phone\" to get phone brand, model and age groups in the same table\n",
    "gatrain = gatrain.drop_duplicates()\n",
    "phone = phone.drop_duplicates()\n",
    "df = gatrain.merge(phone, on = ['device_id'])\n",
    "print (len(gatrain))\n",
    "print (len(df))"
   ]
  },
  {
   "cell_type": "code",
   "execution_count": 6,
   "metadata": {
    "collapsed": false
   },
   "outputs": [
    {
     "data": {
      "text/plain": [
       "device_id        int64\n",
       "gender          object\n",
       "age              int64\n",
       "group           object\n",
       "phone_brand     object\n",
       "device_model    object\n",
       "dtype: object"
      ]
     },
     "execution_count": 6,
     "metadata": {},
     "output_type": "execute_result"
    }
   ],
   "source": [
    "df.dtypes"
   ]
  },
  {
   "cell_type": "code",
   "execution_count": 7,
   "metadata": {
    "collapsed": false
   },
   "outputs": [
    {
     "data": {
      "text/plain": [
       "array(['M32-38', 'M29-31', 'F24-26', 'F33-42', 'F27-28', 'M39+', 'M23-26',\n",
       "       'M27-28', 'M22-', 'F43+', 'F23-', 'F29-32'], dtype=object)"
      ]
     },
     "execution_count": 7,
     "metadata": {},
     "output_type": "execute_result"
    }
   ],
   "source": [
    "df.group.unique()"
   ]
  },
  {
   "cell_type": "code",
   "execution_count": 8,
   "metadata": {
    "collapsed": false
   },
   "outputs": [],
   "source": [
    "df['Brand_Model'] = df['phone_brand']+','+df['device_model']\n",
    "#df['agegroup'] = df.group.str[1:]\n",
    "df['Adult'] = np.where(df.age<=18,0,1)\n",
    "df['Middle_Age'] = np.where((df.age<=65) & (df.age>=45),1,0)\n",
    "df['AgeGroup'] = df.age//10*10\n"
   ]
  },
  {
   "cell_type": "code",
   "execution_count": 9,
   "metadata": {
    "collapsed": false
   },
   "outputs": [
    {
     "data": {
      "text/html": [
       "<div>\n",
       "<table border=\"1\" class=\"dataframe\">\n",
       "  <thead>\n",
       "    <tr style=\"text-align: right;\">\n",
       "      <th></th>\n",
       "      <th>device_id</th>\n",
       "      <th>gender</th>\n",
       "      <th>age</th>\n",
       "      <th>group</th>\n",
       "      <th>phone_brand</th>\n",
       "      <th>device_model</th>\n",
       "      <th>Brand_Model</th>\n",
       "      <th>Adult</th>\n",
       "      <th>Middle_Age</th>\n",
       "      <th>AgeGroup</th>\n",
       "    </tr>\n",
       "  </thead>\n",
       "  <tbody>\n",
       "    <tr>\n",
       "      <th>0</th>\n",
       "      <td>-8076087639492063270</td>\n",
       "      <td>M</td>\n",
       "      <td>35</td>\n",
       "      <td>M32-38</td>\n",
       "      <td>小米</td>\n",
       "      <td>MI 2</td>\n",
       "      <td>小米,MI 2</td>\n",
       "      <td>1</td>\n",
       "      <td>0</td>\n",
       "      <td>30</td>\n",
       "    </tr>\n",
       "    <tr>\n",
       "      <th>1</th>\n",
       "      <td>-2897161552818060146</td>\n",
       "      <td>M</td>\n",
       "      <td>35</td>\n",
       "      <td>M32-38</td>\n",
       "      <td>小米</td>\n",
       "      <td>MI 2</td>\n",
       "      <td>小米,MI 2</td>\n",
       "      <td>1</td>\n",
       "      <td>0</td>\n",
       "      <td>30</td>\n",
       "    </tr>\n",
       "    <tr>\n",
       "      <th>2</th>\n",
       "      <td>-8260683887967679142</td>\n",
       "      <td>M</td>\n",
       "      <td>35</td>\n",
       "      <td>M32-38</td>\n",
       "      <td>小米</td>\n",
       "      <td>MI 2</td>\n",
       "      <td>小米,MI 2</td>\n",
       "      <td>1</td>\n",
       "      <td>0</td>\n",
       "      <td>30</td>\n",
       "    </tr>\n",
       "    <tr>\n",
       "      <th>3</th>\n",
       "      <td>-4938849341048082022</td>\n",
       "      <td>M</td>\n",
       "      <td>30</td>\n",
       "      <td>M29-31</td>\n",
       "      <td>小米</td>\n",
       "      <td>红米note</td>\n",
       "      <td>小米,红米note</td>\n",
       "      <td>1</td>\n",
       "      <td>0</td>\n",
       "      <td>30</td>\n",
       "    </tr>\n",
       "    <tr>\n",
       "      <th>4</th>\n",
       "      <td>245133531816851882</td>\n",
       "      <td>M</td>\n",
       "      <td>30</td>\n",
       "      <td>M29-31</td>\n",
       "      <td>小米</td>\n",
       "      <td>MI 3</td>\n",
       "      <td>小米,MI 3</td>\n",
       "      <td>1</td>\n",
       "      <td>0</td>\n",
       "      <td>30</td>\n",
       "    </tr>\n",
       "  </tbody>\n",
       "</table>\n",
       "</div>"
      ],
      "text/plain": [
       "             device_id gender  age   group phone_brand device_model  \\\n",
       "0 -8076087639492063270      M   35  M32-38          小米         MI 2   \n",
       "1 -2897161552818060146      M   35  M32-38          小米         MI 2   \n",
       "2 -8260683887967679142      M   35  M32-38          小米         MI 2   \n",
       "3 -4938849341048082022      M   30  M29-31          小米       红米note   \n",
       "4   245133531816851882      M   30  M29-31          小米         MI 3   \n",
       "\n",
       "  Brand_Model  Adult  Middle_Age  AgeGroup  \n",
       "0     小米,MI 2      1           0        30  \n",
       "1     小米,MI 2      1           0        30  \n",
       "2     小米,MI 2      1           0        30  \n",
       "3   小米,红米note      1           0        30  \n",
       "4     小米,MI 3      1           0        30  "
      ]
     },
     "execution_count": 9,
     "metadata": {},
     "output_type": "execute_result"
    }
   ],
   "source": [
    "df.head()"
   ]
  },
  {
   "cell_type": "markdown",
   "metadata": {},
   "source": [
    "### Plot User Age Distribution"
   ]
  },
  {
   "cell_type": "code",
   "execution_count": 10,
   "metadata": {
    "collapsed": false
   },
   "outputs": [
    {
     "data": {
      "image/png": "[encoded data removed]",
      "text/plain": [
       "<matplotlib.figure.Figure at 0x18618a24438>"
      ]
     },
     "metadata": {},
     "output_type": "display_data"
    }
   ],
   "source": [
    "age_distr1 = df.groupby(['Adult']).device_id.nunique()\n",
    "age_distr2 = df.groupby(['Middle_Age']).device_id.nunique()\n",
    "age_distr3 = df.groupby(['AgeGroup']).device_id.nunique()\n",
    "ax1 = age_distr1.plot(kind = 'bar', title = 'Age Distribution by Adult (Y/N)')\n",
    "# set labels for both axes\n",
    "ax1.set(xlabel='Adult Flag', ylabel='Population')\n",
    "plt.show()"
   ]
  },
  {
   "cell_type": "code",
   "execution_count": 11,
   "metadata": {
    "collapsed": false
   },
   "outputs": [
    {
     "data": {
      "text/plain": [
       "1    0.980374\n",
       "0    0.019626\n",
       "Name: Adult, dtype: float64"
      ]
     },
     "execution_count": 11,
     "metadata": {},
     "output_type": "execute_result"
    }
   ],
   "source": [
    "df.Adult.value_counts()/df.Adult.count()"
   ]
  },
  {
   "cell_type": "code",
   "execution_count": 12,
   "metadata": {
    "collapsed": false
   },
   "outputs": [
    {
     "data": {
      "image/png": "[encoded data removed]",
      "text/plain": [
       "<matplotlib.figure.Figure at 0x18600072e10>"
      ]
     },
     "metadata": {},
     "output_type": "display_data"
    }
   ],
   "source": [
    "ax2 = age_distr2.plot(kind = 'bar', title = 'Middle Age Distribution')\n",
    "ax2.set(xlabel='Middle Age Flag', ylabel='Population')\n",
    "plt.show()"
   ]
  },
  {
   "cell_type": "code",
   "execution_count": 13,
   "metadata": {
    "collapsed": false
   },
   "outputs": [
    {
     "data": {
      "text/plain": [
       "0    0.901093\n",
       "1    0.098907\n",
       "Name: Middle_Age, dtype: float64"
      ]
     },
     "execution_count": 13,
     "metadata": {},
     "output_type": "execute_result"
    }
   ],
   "source": [
    "df.Middle_Age.value_counts()/df.Adult.count()"
   ]
  },
  {
   "cell_type": "code",
   "execution_count": 14,
   "metadata": {
    "collapsed": false
   },
   "outputs": [
    {
     "data": {
      "image/png": "[encoded data removed]",
      "text/plain": [
       "<matplotlib.figure.Figure at 0x186001365c0>"
      ]
     },
     "metadata": {},
     "output_type": "display_data"
    }
   ],
   "source": [
    "ax3 = age_distr3.plot(kind = 'bar', title = 'Age Distribution')\n",
    "ax3.set(xlabel='Age Group', ylabel='Population')\n",
    "plt.show()"
   ]
  },
  {
   "cell_type": "code",
   "execution_count": 15,
   "metadata": {
    "collapsed": false
   },
   "outputs": [
    {
     "data": {
      "text/plain": [
       "20    0.484460\n",
       "30    0.298408\n",
       "40    0.116791\n",
       "10    0.041154\n",
       "50    0.038783\n",
       "60    0.016250\n",
       "70    0.003282\n",
       "80    0.000764\n",
       "0     0.000067\n",
       "90    0.000040\n",
       "Name: AgeGroup, dtype: float64"
      ]
     },
     "execution_count": 15,
     "metadata": {},
     "output_type": "execute_result"
    }
   ],
   "source": [
    "df.AgeGroup.value_counts()/df.AgeGroup.count()"
   ]
  },
  {
   "cell_type": "markdown",
   "metadata": {},
   "source": [
    "### Age vs. Phone Brand\n",
    "* One brand stands out between \"above 30\" & \"below 30\" groups - Meizu!\n",
    "* Younger generations tend to use Meizu brand which is a cheaper version of IPhone or Samsung"
   ]
  },
  {
   "cell_type": "code",
   "execution_count": 16,
   "metadata": {
    "collapsed": false
   },
   "outputs": [
    {
     "data": {
      "text/html": [
       "<div>\n",
       "<table border=\"1\" class=\"dataframe\">\n",
       "  <thead>\n",
       "    <tr style=\"text-align: right;\">\n",
       "      <th></th>\n",
       "      <th>counts</th>\n",
       "      <th>cum_pnt</th>\n",
       "      <th>per</th>\n",
       "    </tr>\n",
       "  </thead>\n",
       "  <tbody>\n",
       "    <tr>\n",
       "      <th>小米,红米note</th>\n",
       "      <td>3013</td>\n",
       "      <td>4.0%</td>\n",
       "      <td>4.0%</td>\n",
       "    </tr>\n",
       "    <tr>\n",
       "      <th>小米,MI 3</th>\n",
       "      <td>2299</td>\n",
       "      <td>7.1%</td>\n",
       "      <td>3.1%</td>\n",
       "    </tr>\n",
       "    <tr>\n",
       "      <th>小米,MI 2S</th>\n",
       "      <td>2136</td>\n",
       "      <td>10.0%</td>\n",
       "      <td>2.9%</td>\n",
       "    </tr>\n",
       "    <tr>\n",
       "      <th>三星,Galaxy Note 3</th>\n",
       "      <td>2065</td>\n",
       "      <td>12.7%</td>\n",
       "      <td>2.8%</td>\n",
       "    </tr>\n",
       "    <tr>\n",
       "      <th>小米,MI 4</th>\n",
       "      <td>1910</td>\n",
       "      <td>15.3%</td>\n",
       "      <td>2.6%</td>\n",
       "    </tr>\n",
       "    <tr>\n",
       "      <th>三星,Galaxy Note 2</th>\n",
       "      <td>1610</td>\n",
       "      <td>17.5%</td>\n",
       "      <td>2.2%</td>\n",
       "    </tr>\n",
       "    <tr>\n",
       "      <th>三星,Galaxy S4</th>\n",
       "      <td>1568</td>\n",
       "      <td>19.6%</td>\n",
       "      <td>2.1%</td>\n",
       "    </tr>\n",
       "    <tr>\n",
       "      <th>华为,荣耀6</th>\n",
       "      <td>1239</td>\n",
       "      <td>21.2%</td>\n",
       "      <td>1.7%</td>\n",
       "    </tr>\n",
       "    <tr>\n",
       "      <th>华为,荣耀畅玩4X</th>\n",
       "      <td>1102</td>\n",
       "      <td>22.7%</td>\n",
       "      <td>1.5%</td>\n",
       "    </tr>\n",
       "    <tr>\n",
       "      <th>华为,荣耀3C</th>\n",
       "      <td>1067</td>\n",
       "      <td>24.1%</td>\n",
       "      <td>1.4%</td>\n",
       "    </tr>\n",
       "    <tr>\n",
       "      <th>小米,红米1S</th>\n",
       "      <td>972</td>\n",
       "      <td>25.4%</td>\n",
       "      <td>1.3%</td>\n",
       "    </tr>\n",
       "    <tr>\n",
       "      <th>小米,红米</th>\n",
       "      <td>970</td>\n",
       "      <td>26.7%</td>\n",
       "      <td>1.3%</td>\n",
       "    </tr>\n",
       "    <tr>\n",
       "      <th>三星,Galaxy S3</th>\n",
       "      <td>966</td>\n",
       "      <td>28.0%</td>\n",
       "      <td>1.3%</td>\n",
       "    </tr>\n",
       "    <tr>\n",
       "      <th>华为,Mate 7</th>\n",
       "      <td>958</td>\n",
       "      <td>29.3%</td>\n",
       "      <td>1.3%</td>\n",
       "    </tr>\n",
       "    <tr>\n",
       "      <th>魅族,魅蓝NOTE</th>\n",
       "      <td>841</td>\n",
       "      <td>30.4%</td>\n",
       "      <td>1.1%</td>\n",
       "    </tr>\n",
       "    <tr>\n",
       "      <th>小米,红米2</th>\n",
       "      <td>824</td>\n",
       "      <td>31.5%</td>\n",
       "      <td>1.1%</td>\n",
       "    </tr>\n",
       "    <tr>\n",
       "      <th>小米,红米Note2</th>\n",
       "      <td>806</td>\n",
       "      <td>32.6%</td>\n",
       "      <td>1.1%</td>\n",
       "    </tr>\n",
       "    <tr>\n",
       "      <th>三星,Galaxy S5</th>\n",
       "      <td>726</td>\n",
       "      <td>33.6%</td>\n",
       "      <td>1.0%</td>\n",
       "    </tr>\n",
       "    <tr>\n",
       "      <th>魅族,魅蓝Note 2</th>\n",
       "      <td>696</td>\n",
       "      <td>34.5%</td>\n",
       "      <td>0.9%</td>\n",
       "    </tr>\n",
       "    <tr>\n",
       "      <th>小米,红米2A</th>\n",
       "      <td>692</td>\n",
       "      <td>35.4%</td>\n",
       "      <td>0.9%</td>\n",
       "    </tr>\n",
       "    <tr>\n",
       "      <th>小米,红米note增强版</th>\n",
       "      <td>684</td>\n",
       "      <td>36.4%</td>\n",
       "      <td>0.9%</td>\n",
       "    </tr>\n",
       "    <tr>\n",
       "      <th>魅族,MX3</th>\n",
       "      <td>677</td>\n",
       "      <td>37.3%</td>\n",
       "      <td>0.9%</td>\n",
       "    </tr>\n",
       "    <tr>\n",
       "      <th>华为,荣耀6 Plus</th>\n",
       "      <td>660</td>\n",
       "      <td>38.2%</td>\n",
       "      <td>0.9%</td>\n",
       "    </tr>\n",
       "    <tr>\n",
       "      <th>华为,荣耀3X畅玩版</th>\n",
       "      <td>634</td>\n",
       "      <td>39.0%</td>\n",
       "      <td>0.8%</td>\n",
       "    </tr>\n",
       "    <tr>\n",
       "      <th>魅族,MX4</th>\n",
       "      <td>628</td>\n",
       "      <td>39.8%</td>\n",
       "      <td>0.8%</td>\n",
       "    </tr>\n",
       "    <tr>\n",
       "      <th>小米,小米note</th>\n",
       "      <td>620</td>\n",
       "      <td>40.7%</td>\n",
       "      <td>0.8%</td>\n",
       "    </tr>\n",
       "    <tr>\n",
       "      <th>OPPO,R7</th>\n",
       "      <td>586</td>\n",
       "      <td>41.5%</td>\n",
       "      <td>0.8%</td>\n",
       "    </tr>\n",
       "    <tr>\n",
       "      <th>华为,Ascend P7</th>\n",
       "      <td>548</td>\n",
       "      <td>42.2%</td>\n",
       "      <td>0.7%</td>\n",
       "    </tr>\n",
       "    <tr>\n",
       "      <th>华为,荣耀畅玩4C</th>\n",
       "      <td>527</td>\n",
       "      <td>42.9%</td>\n",
       "      <td>0.7%</td>\n",
       "    </tr>\n",
       "    <tr>\n",
       "      <th>小米,MI 2</th>\n",
       "      <td>511</td>\n",
       "      <td>43.6%</td>\n",
       "      <td>0.7%</td>\n",
       "    </tr>\n",
       "    <tr>\n",
       "      <th>酷派,F2</th>\n",
       "      <td>496</td>\n",
       "      <td>44.3%</td>\n",
       "      <td>0.7%</td>\n",
       "    </tr>\n",
       "    <tr>\n",
       "      <th>OPPO,R7 Plus</th>\n",
       "      <td>420</td>\n",
       "      <td>44.8%</td>\n",
       "      <td>0.6%</td>\n",
       "    </tr>\n",
       "    <tr>\n",
       "      <th>三星,Galaxy Grand 2</th>\n",
       "      <td>419</td>\n",
       "      <td>45.4%</td>\n",
       "      <td>0.6%</td>\n",
       "    </tr>\n",
       "    <tr>\n",
       "      <th>华为,荣耀7</th>\n",
       "      <td>418</td>\n",
       "      <td>45.9%</td>\n",
       "      <td>0.6%</td>\n",
       "    </tr>\n",
       "    <tr>\n",
       "      <th>三星,Galaxy Win</th>\n",
       "      <td>417</td>\n",
       "      <td>46.5%</td>\n",
       "      <td>0.6%</td>\n",
       "    </tr>\n",
       "    <tr>\n",
       "      <th>酷派,大神F1</th>\n",
       "      <td>414</td>\n",
       "      <td>47.0%</td>\n",
       "      <td>0.6%</td>\n",
       "    </tr>\n",
       "    <tr>\n",
       "      <th>小米,MI 2A</th>\n",
       "      <td>390</td>\n",
       "      <td>47.6%</td>\n",
       "      <td>0.5%</td>\n",
       "    </tr>\n",
       "    <tr>\n",
       "      <th>华为,Ascend P8</th>\n",
       "      <td>388</td>\n",
       "      <td>48.1%</td>\n",
       "      <td>0.5%</td>\n",
       "    </tr>\n",
       "    <tr>\n",
       "      <th>vivo,X3T</th>\n",
       "      <td>380</td>\n",
       "      <td>48.6%</td>\n",
       "      <td>0.5%</td>\n",
       "    </tr>\n",
       "    <tr>\n",
       "      <th>OPPO,R7s</th>\n",
       "      <td>372</td>\n",
       "      <td>49.1%</td>\n",
       "      <td>0.5%</td>\n",
       "    </tr>\n",
       "    <tr>\n",
       "      <th>魅族,MX2</th>\n",
       "      <td>371</td>\n",
       "      <td>49.6%</td>\n",
       "      <td>0.5%</td>\n",
       "    </tr>\n",
       "    <tr>\n",
       "      <th>魅族,MX5</th>\n",
       "      <td>352</td>\n",
       "      <td>50.1%</td>\n",
       "      <td>0.5%</td>\n",
       "    </tr>\n",
       "    <tr>\n",
       "      <th>vivo,X5Pro</th>\n",
       "      <td>347</td>\n",
       "      <td>50.5%</td>\n",
       "      <td>0.5%</td>\n",
       "    </tr>\n",
       "    <tr>\n",
       "      <th>乐视,超级手机1s</th>\n",
       "      <td>343</td>\n",
       "      <td>51.0%</td>\n",
       "      <td>0.5%</td>\n",
       "    </tr>\n",
       "    <tr>\n",
       "      <th>华为,荣耀畅玩4</th>\n",
       "      <td>339</td>\n",
       "      <td>51.4%</td>\n",
       "      <td>0.5%</td>\n",
       "    </tr>\n",
       "    <tr>\n",
       "      <th>三星,Galaxy Mega 5.8</th>\n",
       "      <td>336</td>\n",
       "      <td>51.9%</td>\n",
       "      <td>0.5%</td>\n",
       "    </tr>\n",
       "    <tr>\n",
       "      <th>OPPO,Find 7</th>\n",
       "      <td>331</td>\n",
       "      <td>52.3%</td>\n",
       "      <td>0.4%</td>\n",
       "    </tr>\n",
       "    <tr>\n",
       "      <th>小米,红米Note3</th>\n",
       "      <td>330</td>\n",
       "      <td>52.8%</td>\n",
       "      <td>0.4%</td>\n",
       "    </tr>\n",
       "    <tr>\n",
       "      <th>小米,小米4C</th>\n",
       "      <td>325</td>\n",
       "      <td>53.2%</td>\n",
       "      <td>0.4%</td>\n",
       "    </tr>\n",
       "    <tr>\n",
       "      <th>魅族,魅蓝2</th>\n",
       "      <td>319</td>\n",
       "      <td>53.6%</td>\n",
       "      <td>0.4%</td>\n",
       "    </tr>\n",
       "  </tbody>\n",
       "</table>\n",
       "</div>"
      ],
      "text/plain": [
       "                    counts cum_pnt   per\n",
       "小米,红米note             3013    4.0%  4.0%\n",
       "小米,MI 3               2299    7.1%  3.1%\n",
       "小米,MI 2S              2136   10.0%  2.9%\n",
       "三星,Galaxy Note 3      2065   12.7%  2.8%\n",
       "小米,MI 4               1910   15.3%  2.6%\n",
       "三星,Galaxy Note 2      1610   17.5%  2.2%\n",
       "三星,Galaxy S4          1568   19.6%  2.1%\n",
       "华为,荣耀6                1239   21.2%  1.7%\n",
       "华为,荣耀畅玩4X             1102   22.7%  1.5%\n",
       "华为,荣耀3C               1067   24.1%  1.4%\n",
       "小米,红米1S                972   25.4%  1.3%\n",
       "小米,红米                  970   26.7%  1.3%\n",
       "三星,Galaxy S3           966   28.0%  1.3%\n",
       "华为,Mate 7              958   29.3%  1.3%\n",
       "魅族,魅蓝NOTE              841   30.4%  1.1%\n",
       "小米,红米2                 824   31.5%  1.1%\n",
       "小米,红米Note2             806   32.6%  1.1%\n",
       "三星,Galaxy S5           726   33.6%  1.0%\n",
       "魅族,魅蓝Note 2            696   34.5%  0.9%\n",
       "小米,红米2A                692   35.4%  0.9%\n",
       "小米,红米note增强版           684   36.4%  0.9%\n",
       "魅族,MX3                 677   37.3%  0.9%\n",
       "华为,荣耀6 Plus            660   38.2%  0.9%\n",
       "华为,荣耀3X畅玩版             634   39.0%  0.8%\n",
       "魅族,MX4                 628   39.8%  0.8%\n",
       "小米,小米note              620   40.7%  0.8%\n",
       "OPPO,R7                586   41.5%  0.8%\n",
       "华为,Ascend P7           548   42.2%  0.7%\n",
       "华为,荣耀畅玩4C              527   42.9%  0.7%\n",
       "小米,MI 2                511   43.6%  0.7%\n",
       "酷派,F2                  496   44.3%  0.7%\n",
       "OPPO,R7 Plus           420   44.8%  0.6%\n",
       "三星,Galaxy Grand 2      419   45.4%  0.6%\n",
       "华为,荣耀7                 418   45.9%  0.6%\n",
       "三星,Galaxy Win          417   46.5%  0.6%\n",
       "酷派,大神F1                414   47.0%  0.6%\n",
       "小米,MI 2A               390   47.6%  0.5%\n",
       "华为,Ascend P8           388   48.1%  0.5%\n",
       "vivo,X3T               380   48.6%  0.5%\n",
       "OPPO,R7s               372   49.1%  0.5%\n",
       "魅族,MX2                 371   49.6%  0.5%\n",
       "魅族,MX5                 352   50.1%  0.5%\n",
       "vivo,X5Pro             347   50.5%  0.5%\n",
       "乐视,超级手机1s              343   51.0%  0.5%\n",
       "华为,荣耀畅玩4               339   51.4%  0.5%\n",
       "三星,Galaxy Mega 5.8     336   51.9%  0.5%\n",
       "OPPO,Find 7            331   52.3%  0.4%\n",
       "小米,红米Note3             330   52.8%  0.4%\n",
       "小米,小米4C                325   53.2%  0.4%\n",
       "魅族,魅蓝2                 319   53.6%  0.4%"
      ]
     },
     "execution_count": 16,
     "metadata": {},
     "output_type": "execute_result"
    }
   ],
   "source": [
    "# Phone Brand Model Distribution\n",
    "df.Brand_Model.value_counts()\n",
    "counts = df.Brand_Model.value_counts()\n",
    "percent = df.Brand_Model.value_counts(normalize=True) \\\n",
    "           .mul(100).round(1).astype(str) + '%'\n",
    "cum_pnct = (counts.cumsum()/counts.sum())\\\n",
    "           .mul(100).round(1).astype(str) + '%'\n",
    "BrandModel = pd.DataFrame({'counts': counts, 'per': percent, 'cum_pnt':cum_pnct })\n",
    "BrandModel.head(50)"
   ]
  },
  {
   "cell_type": "code",
   "execution_count": 17,
   "metadata": {
    "collapsed": false,
    "scrolled": true
   },
   "outputs": [
    {
     "data": {
      "text/html": [
       "<div>\n",
       "<table border=\"1\" class=\"dataframe\">\n",
       "  <thead>\n",
       "    <tr style=\"text-align: right;\">\n",
       "      <th></th>\n",
       "      <th>counts</th>\n",
       "      <th>cum_pnt</th>\n",
       "      <th>per</th>\n",
       "    </tr>\n",
       "  </thead>\n",
       "  <tbody>\n",
       "    <tr>\n",
       "      <th>小米</th>\n",
       "      <td>17300</td>\n",
       "      <td>23.2%</td>\n",
       "      <td>23.2%</td>\n",
       "    </tr>\n",
       "    <tr>\n",
       "      <th>三星</th>\n",
       "      <td>13669</td>\n",
       "      <td>41.5%</td>\n",
       "      <td>18.3%</td>\n",
       "    </tr>\n",
       "    <tr>\n",
       "      <th>华为</th>\n",
       "      <td>12960</td>\n",
       "      <td>58.8%</td>\n",
       "      <td>17.4%</td>\n",
       "    </tr>\n",
       "    <tr>\n",
       "      <th>OPPO</th>\n",
       "      <td>5783</td>\n",
       "      <td>66.6%</td>\n",
       "      <td>7.7%</td>\n",
       "    </tr>\n",
       "    <tr>\n",
       "      <th>vivo</th>\n",
       "      <td>5637</td>\n",
       "      <td>74.1%</td>\n",
       "      <td>7.6%</td>\n",
       "    </tr>\n",
       "    <tr>\n",
       "      <th>魅族</th>\n",
       "      <td>4699</td>\n",
       "      <td>80.4%</td>\n",
       "      <td>6.3%</td>\n",
       "    </tr>\n",
       "    <tr>\n",
       "      <th>酷派</th>\n",
       "      <td>3339</td>\n",
       "      <td>84.9%</td>\n",
       "      <td>4.5%</td>\n",
       "    </tr>\n",
       "    <tr>\n",
       "      <th>联想</th>\n",
       "      <td>2691</td>\n",
       "      <td>88.5%</td>\n",
       "      <td>3.6%</td>\n",
       "    </tr>\n",
       "    <tr>\n",
       "      <th>金立</th>\n",
       "      <td>1123</td>\n",
       "      <td>90.0%</td>\n",
       "      <td>1.5%</td>\n",
       "    </tr>\n",
       "    <tr>\n",
       "      <th>HTC</th>\n",
       "      <td>1013</td>\n",
       "      <td>91.4%</td>\n",
       "      <td>1.4%</td>\n",
       "    </tr>\n",
       "    <tr>\n",
       "      <th>中兴</th>\n",
       "      <td>861</td>\n",
       "      <td>92.5%</td>\n",
       "      <td>1.2%</td>\n",
       "    </tr>\n",
       "    <tr>\n",
       "      <th>乐视</th>\n",
       "      <td>757</td>\n",
       "      <td>93.6%</td>\n",
       "      <td>1.0%</td>\n",
       "    </tr>\n",
       "    <tr>\n",
       "      <th>索尼</th>\n",
       "      <td>715</td>\n",
       "      <td>94.5%</td>\n",
       "      <td>1.0%</td>\n",
       "    </tr>\n",
       "    <tr>\n",
       "      <th>努比亚</th>\n",
       "      <td>483</td>\n",
       "      <td>95.2%</td>\n",
       "      <td>0.6%</td>\n",
       "    </tr>\n",
       "    <tr>\n",
       "      <th>LG</th>\n",
       "      <td>332</td>\n",
       "      <td>95.6%</td>\n",
       "      <td>0.4%</td>\n",
       "    </tr>\n",
       "    <tr>\n",
       "      <th>中国移动</th>\n",
       "      <td>275</td>\n",
       "      <td>96.0%</td>\n",
       "      <td>0.4%</td>\n",
       "    </tr>\n",
       "    <tr>\n",
       "      <th>TCL</th>\n",
       "      <td>220</td>\n",
       "      <td>96.3%</td>\n",
       "      <td>0.3%</td>\n",
       "    </tr>\n",
       "    <tr>\n",
       "      <th>朵唯</th>\n",
       "      <td>213</td>\n",
       "      <td>96.5%</td>\n",
       "      <td>0.3%</td>\n",
       "    </tr>\n",
       "    <tr>\n",
       "      <th>海信</th>\n",
       "      <td>204</td>\n",
       "      <td>96.8%</td>\n",
       "      <td>0.3%</td>\n",
       "    </tr>\n",
       "    <tr>\n",
       "      <th>优米</th>\n",
       "      <td>192</td>\n",
       "      <td>97.1%</td>\n",
       "      <td>0.3%</td>\n",
       "    </tr>\n",
       "  </tbody>\n",
       "</table>\n",
       "</div>"
      ],
      "text/plain": [
       "      counts cum_pnt    per\n",
       "小米     17300   23.2%  23.2%\n",
       "三星     13669   41.5%  18.3%\n",
       "华为     12960   58.8%  17.4%\n",
       "OPPO    5783   66.6%   7.7%\n",
       "vivo    5637   74.1%   7.6%\n",
       "魅族      4699   80.4%   6.3%\n",
       "酷派      3339   84.9%   4.5%\n",
       "联想      2691   88.5%   3.6%\n",
       "金立      1123   90.0%   1.5%\n",
       "HTC     1013   91.4%   1.4%\n",
       "中兴       861   92.5%   1.2%\n",
       "乐视       757   93.6%   1.0%\n",
       "索尼       715   94.5%   1.0%\n",
       "努比亚      483   95.2%   0.6%\n",
       "LG       332   95.6%   0.4%\n",
       "中国移动     275   96.0%   0.4%\n",
       "TCL      220   96.3%   0.3%\n",
       "朵唯       213   96.5%   0.3%\n",
       "海信       204   96.8%   0.3%\n",
       "优米       192   97.1%   0.3%"
      ]
     },
     "execution_count": 17,
     "metadata": {},
     "output_type": "execute_result"
    }
   ],
   "source": [
    "# Phone Brand Distribution\n",
    "df.phone_brand.value_counts()\n",
    "counts = df.phone_brand.value_counts()\n",
    "percent = df.phone_brand.value_counts(normalize=True) \\\n",
    "           .mul(100).round(1).astype(str) + '%'\n",
    "cum_pnct = (counts.cumsum()/counts.sum())\\\n",
    "           .mul(100).round(1).astype(str) + '%'\n",
    "Brand = pd.DataFrame({'counts': counts, 'per': percent, 'cum_pnt':cum_pnct })\n",
    "Brand_top20 = Brand.head(20)\n",
    "Brand_top20"
   ]
  },
  {
   "cell_type": "code",
   "execution_count": 18,
   "metadata": {
    "collapsed": false
   },
   "outputs": [],
   "source": [
    "# Get subset of data where users using top 20 phone brand\n",
    "# valuelist =Brand_top20.iloc[:,0]\n",
    "valuelist = Brand_top20.index.values.tolist()\n",
    "df_subset = df[df.phone_brand.isin(valuelist)]\n",
    "#a = df_subset.unstack('phone_brand')\n",
    "#a"
   ]
  },
  {
   "cell_type": "code",
   "execution_count": 19,
   "metadata": {
    "collapsed": false,
    "scrolled": true
   },
   "outputs": [
    {
     "name": "stderr",
     "output_type": "stream",
     "text": [
      "C:\\Users\\Felix\\Python\\lib\\site-packages\\ipykernel\\__main__.py:3: SettingWithCopyWarning: \n",
      "A value is trying to be set on a copy of a slice from a DataFrame.\n",
      "Try using .loc[row_indexer,col_indexer] = value instead\n",
      "\n",
      "See the caveats in the documentation: http://pandas.pydata.org/pandas-docs/stable/indexing.html#indexing-view-versus-copy\n",
      "  app.launch_new_instance()\n"
     ]
    }
   ],
   "source": [
    "# Assign number to top 20 phone brand;\n",
    "brandencoder = LabelEncoder().fit(df_subset.phone_brand)\n",
    "df_subset['brand_encode'] = brandencoder.transform(df_subset['phone_brand'])"
   ]
  },
  {
   "cell_type": "code",
   "execution_count": 20,
   "metadata": {
    "collapsed": true
   },
   "outputs": [],
   "source": [
    "# Just traslate for top 20 phone brand\n",
    "def f(row):\n",
    "    if row['phone_brand'] == '小米':\n",
    "        val = 'Xiaomi'\n",
    "    elif row['phone_brand'] == '三星':\n",
    "        val = 'Samsung'\n",
    "    elif row['phone_brand'] == '华为':\n",
    "        val = 'Huawei'\n",
    "    elif row['phone_brand'] == '魅族':\n",
    "        val = 'Meizu'\n",
    "    elif row['phone_brand'] == '酷派':\n",
    "        val = 'Kupai'\n",
    "    elif row['phone_brand'] == '联想':\n",
    "        val = 'Lenovo'\n",
    "    elif row['phone_brand'] == '金立':\n",
    "        val = 'Jinli'\n",
    "    elif row['phone_brand'] == '中兴':\n",
    "        val = 'Zhongxing'\n",
    "    elif row['phone_brand'] == '乐视':\n",
    "        val = 'Yueshi'\n",
    "    elif row['phone_brand'] == '索尼':\n",
    "        val = 'Sony'\n",
    "    elif row['phone_brand'] == '中国移动':\n",
    "        val = 'ChinaMobile'\n",
    "    elif row['phone_brand'] == '努比亚':\n",
    "        val = 'Nubiya'\n",
    "    elif row['phone_brand'] == '朵唯':\n",
    "        val = 'Duowei'\n",
    "    elif row['phone_brand'] == '海信':\n",
    "        val = 'Haixin'\n",
    "    elif row['phone_brand'] == '优米':\n",
    "        val = 'Youmi'\n",
    "    else:\n",
    "        val = row['phone_brand']\n",
    "    return val"
   ]
  },
  {
   "cell_type": "code",
   "execution_count": 21,
   "metadata": {
    "collapsed": false
   },
   "outputs": [
    {
     "name": "stderr",
     "output_type": "stream",
     "text": [
      "C:\\Users\\Felix\\Python\\lib\\site-packages\\ipykernel\\__main__.py:1: SettingWithCopyWarning: \n",
      "A value is trying to be set on a copy of a slice from a DataFrame.\n",
      "Try using .loc[row_indexer,col_indexer] = value instead\n",
      "\n",
      "See the caveats in the documentation: http://pandas.pydata.org/pandas-docs/stable/indexing.html#indexing-view-versus-copy\n",
      "  if __name__ == '__main__':\n"
     ]
    }
   ],
   "source": [
    "df_subset['brand_translate'] = df_subset.apply(f, axis=1)"
   ]
  },
  {
   "cell_type": "code",
   "execution_count": 22,
   "metadata": {
    "collapsed": false
   },
   "outputs": [],
   "source": [
    "brand_by_agegroup = df_subset.groupby(['AgeGroup', 'brand_translate']).device_id.nunique()#.unstack(1)\n",
    "brand_by_agegroup_df = pd.DataFrame(brand_by_agegroup).reset_index()#.fillna(method='ffill')"
   ]
  },
  {
   "cell_type": "code",
   "execution_count": 23,
   "metadata": {
    "collapsed": false
   },
   "outputs": [
    {
     "name": "stderr",
     "output_type": "stream",
     "text": [
      "C:\\Users\\Felix\\Python\\lib\\site-packages\\ipykernel\\__main__.py:2: FutureWarning: sort(columns=....) is deprecated, use sort_values(by=.....)\n",
      "  from ipykernel import kernelapp as app\n"
     ]
    },
    {
     "data": {
      "text/plain": [
       "<bound method DataFrame.reset_index of      AgeGroup brand_translate  device_id\n",
       "0           0           Meizu   0.800000\n",
       "1           0         Samsung   0.200000\n",
       "16         10          Xiaomi   0.246195\n",
       "6          10          Huawei   0.131214\n",
       "12         10            OPPO   0.127156\n",
       "20         10            vivo   0.122421\n",
       "13         10         Samsung   0.097396\n",
       "10         10           Meizu   0.096720\n",
       "8          10           Kupai   0.057491\n",
       "9          10          Lenovo   0.040243\n",
       "7          10           Jinli   0.021982\n",
       "19         10       Zhongxing   0.013527\n",
       "36         20          Xiaomi   0.250235\n",
       "33         20         Samsung   0.164566\n",
       "25         20          Huawei   0.153754\n",
       "40         20            vivo   0.095029\n",
       "32         20            OPPO   0.091103\n",
       "30         20           Meizu   0.084246\n",
       "27         20           Kupai   0.041938\n",
       "29         20          Lenovo   0.033431\n",
       "26         20           Jinli   0.015080\n",
       "23         20             HTC   0.014368\n",
       "56         30          Xiaomi   0.232123\n",
       "53         30         Samsung   0.218311\n",
       "45         30          Huawei   0.203529\n",
       "52         30            OPPO   0.067535\n",
       "60         30            vivo   0.059451\n",
       "47         30           Kupai   0.045778\n",
       "50         30           Meizu   0.045362\n",
       "49         30          Lenovo   0.035431\n",
       "..        ...             ...        ...\n",
       "107        60           Kupai   0.068376\n",
       "112        60            OPPO   0.061538\n",
       "109        60          Lenovo   0.049573\n",
       "120        60            vivo   0.047863\n",
       "110        60           Meizu   0.041026\n",
       "119        60       Zhongxing   0.013675\n",
       "103        60             HTC   0.011111\n",
       "132        70         Samsung   0.243590\n",
       "125        70          Huawei   0.183761\n",
       "134        70          Xiaomi   0.183761\n",
       "131        70            OPPO   0.059829\n",
       "138        70            vivo   0.055556\n",
       "127        70           Kupai   0.047009\n",
       "129        70          Lenovo   0.047009\n",
       "126        70           Jinli   0.034188\n",
       "137        70       Zhongxing   0.029915\n",
       "123        70             HTC   0.021368\n",
       "140        80          Huawei   0.259259\n",
       "146        80         Samsung   0.203704\n",
       "148        80          Xiaomi   0.203704\n",
       "142        80           Kupai   0.074074\n",
       "150        80            vivo   0.074074\n",
       "143        80          Lenovo   0.055556\n",
       "147        80             TCL   0.037037\n",
       "139        80          Duowei   0.018519\n",
       "141        80           Jinli   0.018519\n",
       "144        80           Meizu   0.018519\n",
       "151        90             HTC   0.333333\n",
       "152        90          Huawei   0.333333\n",
       "153        90           Jinli   0.333333\n",
       "\n",
       "[85 rows x 3 columns]>"
      ]
     },
     "execution_count": 23,
     "metadata": {},
     "output_type": "execute_result"
    }
   ],
   "source": [
    "Get_Pnt_Brand = brand_by_agegroup_df.groupby(['AgeGroup','brand_translate'])['device_id'].sum().groupby(level = 0).transform(lambda x: x/x.sum())\n",
    "Get_Pnt_Brand_pd = pd.DataFrame(Get_Pnt_Brand).reset_index().sort(['AgeGroup','device_id'], ascending = [True, False])\n",
    "Get_Pnt_Brand_pd.groupby('AgeGroup').head(10).reset_index"
   ]
  },
  {
   "cell_type": "code",
   "execution_count": 24,
   "metadata": {
    "collapsed": false
   },
   "outputs": [
    {
     "data": {
      "image/png": "[encoded data removed]",
      "text/plain": [
       "<matplotlib.figure.Figure at 0x186000d32b0>"
      ]
     },
     "metadata": {},
     "output_type": "display_data"
    }
   ],
   "source": [
    "# on aggregated data\n",
    "import seaborn as sns\n",
    "sns.lmplot('device_id', 'AgeGroup', data=Get_Pnt_Brand_pd, hue='brand_translate', fit_reg=False)\n",
    "plt.show()"
   ]
  },
  {
   "cell_type": "code",
   "execution_count": 25,
   "metadata": {
    "collapsed": false
   },
   "outputs": [
    {
     "name": "stderr",
     "output_type": "stream",
     "text": [
      "C:\\Users\\Felix\\Python\\lib\\site-packages\\ipykernel\\__main__.py:4: FutureWarning: sort(columns=....) is deprecated, use sort_values(by=.....)\n"
     ]
    },
    {
     "data": {
      "text/plain": [
       "<bound method DataFrame.reset_index of     Middle_Age brand_translate  device_id\n",
       "15           0          Xiaomi   0.240851\n",
       "12           0         Samsung   0.183953\n",
       "4            0          Huawei   0.174950\n",
       "11           0            OPPO   0.082361\n",
       "19           0            vivo   0.081090\n",
       "9            0           Meizu   0.067432\n",
       "6            0           Kupai   0.045016\n",
       "8            0          Lenovo   0.035844\n",
       "5            0           Jinli   0.015449\n",
       "2            0             HTC   0.014117\n",
       "32           1         Samsung   0.231274\n",
       "35           1          Xiaomi   0.219396\n",
       "24           1          Huawei   0.214366\n",
       "31           1            OPPO   0.056456\n",
       "26           1           Kupai   0.055757\n",
       "28           1          Lenovo   0.048910\n",
       "39           1            vivo   0.047652\n",
       "29           1           Meizu   0.041224\n",
       "38           1       Zhongxing   0.016490\n",
       "25           1           Jinli   0.015931>"
      ]
     },
     "execution_count": 25,
     "metadata": {},
     "output_type": "execute_result"
    }
   ],
   "source": [
    "brand_by_agegroup2 = df_subset.groupby(['Middle_Age', 'brand_translate']).device_id.nunique()\n",
    "brand_by_agegroup_df2 = pd.DataFrame(brand_by_agegroup2).reset_index()\n",
    "Get_Pnt_Brand2 = brand_by_agegroup_df2.groupby(['Middle_Age','brand_translate'])['device_id'].sum().groupby(level = 0).transform(lambda x: x/x.sum())\n",
    "Get_Pnt_Brand_pd2 = pd.DataFrame(Get_Pnt_Brand2).reset_index().sort(['Middle_Age','device_id'], ascending = [True, False])\n",
    "Get_Pnt_Brand_pd2.groupby('Middle_Age').head(10).reset_index"
   ]
  },
  {
   "cell_type": "code",
   "execution_count": 26,
   "metadata": {
    "collapsed": false
   },
   "outputs": [
    {
     "data": {
      "image/png": "[encoded data removed]",
      "text/plain": [
       "<matplotlib.figure.Figure at 0x18600e2b860>"
      ]
     },
     "metadata": {},
     "output_type": "display_data"
    }
   ],
   "source": [
    "# on aggregated data\n",
    "sns.lmplot('device_id', 'Middle_Age', data=Get_Pnt_Brand_pd2, hue='brand_translate', fit_reg=False)\n",
    "plt.show()"
   ]
  },
  {
   "cell_type": "code",
   "execution_count": 27,
   "metadata": {
    "collapsed": false
   },
   "outputs": [
    {
     "data": {
      "image/png": "[encoded data removed]",
      "text/plain": [
       "<matplotlib.figure.Figure at 0x186015c86a0>"
      ]
     },
     "metadata": {},
     "output_type": "display_data"
    }
   ],
   "source": [
    "import matplotlib.cm as cm\n",
    "c = pd.DataFrame(data=Get_Pnt_Brand_pd2).reset_index()\n",
    "c = c[['Middle_Age','brand_translate', 'device_id']]\n",
    "ag2 = c.groupby(['Middle_Age','brand_translate']).sum().unstack()\n",
    "ag2.columns = ag2.columns.droplevel()\n",
    "ag2.plot(kind = 'bar')\n",
    "plt.show()"
   ]
  },
  {
   "cell_type": "code",
   "execution_count": 28,
   "metadata": {
    "collapsed": false,
    "scrolled": true
   },
   "outputs": [
    {
     "name": "stderr",
     "output_type": "stream",
     "text": [
      "C:\\Users\\Felix\\Python\\lib\\site-packages\\ipykernel\\__main__.py:4: FutureWarning: sort(columns=....) is deprecated, use sort_values(by=.....)\n"
     ]
    },
    {
     "data": {
      "text/plain": [
       "<bound method DataFrame.reset_index of     Adult brand_translate  device_id\n",
       "14      0          Xiaomi   0.251608\n",
       "18      0            vivo   0.120086\n",
       "4       0          Huawei   0.113653\n",
       "10      0            OPPO   0.112938\n",
       "11      0         Samsung   0.107934\n",
       "8       0           Meizu   0.085061\n",
       "6       0           Kupai   0.075768\n",
       "7       0          Lenovo   0.042888\n",
       "5       0           Jinli   0.027877\n",
       "17      0       Zhongxing   0.012866\n",
       "34      1          Xiaomi   0.238479\n",
       "31      1         Samsung   0.190215\n",
       "23      1          Huawei   0.180126\n",
       "30      1            OPPO   0.079151\n",
       "38      1            vivo   0.076956\n",
       "28      1           Meizu   0.064446\n",
       "25      1           Kupai   0.045492\n",
       "27      1          Lenovo   0.037021\n",
       "24      1           Jinli   0.015253\n",
       "21      1             HTC   0.014043>"
      ]
     },
     "execution_count": 28,
     "metadata": {},
     "output_type": "execute_result"
    }
   ],
   "source": [
    "brand_by_agegroup3 = df_subset.groupby(['Adult', 'brand_translate']).device_id.nunique()\n",
    "brand_by_agegroup_df3 = pd.DataFrame(brand_by_agegroup3).reset_index()\n",
    "Get_Pnt_Brand3 = brand_by_agegroup_df3.groupby(['Adult','brand_translate'])['device_id'].sum().groupby(level = 0).transform(lambda x: x/x.sum())\n",
    "Get_Pnt_Brand_pd3 = pd.DataFrame(Get_Pnt_Brand3).reset_index().sort(['Adult','device_id'], ascending = [True, False])\n",
    "Get_Pnt_Brand_pd3.groupby('Adult').head(10).reset_index"
   ]
  },
  {
   "cell_type": "code",
   "execution_count": 29,
   "metadata": {
    "collapsed": false,
    "scrolled": true
   },
   "outputs": [
    {
     "data": {
      "image/png": "[encoded data removed]",
      "text/plain": [
       "<matplotlib.figure.Figure at 0x18600199668>"
      ]
     },
     "metadata": {},
     "output_type": "display_data"
    }
   ],
   "source": [
    "# on aggregated data\n",
    "sns.lmplot('device_id', 'Adult', data=Get_Pnt_Brand_pd3, hue='brand_translate', fit_reg=False)\n",
    "plt.show()"
   ]
  },
  {
   "cell_type": "code",
   "execution_count": 30,
   "metadata": {
    "collapsed": false
   },
   "outputs": [
    {
     "data": {
      "image/png": "[encoded data removed]",
      "text/plain": [
       "<matplotlib.figure.Figure at 0x18603104128>"
      ]
     },
     "metadata": {},
     "output_type": "display_data"
    }
   ],
   "source": [
    "d = pd.DataFrame(data=Get_Pnt_Brand_pd3).reset_index()\n",
    "d = d[['Adult','brand_translate', 'device_id']]\n",
    "ag3 = d.groupby(['Adult','brand_translate']).sum().unstack()\n",
    "ag3.columns = ag3.columns.droplevel()\n",
    "ag3.plot(kind = 'bar')\n",
    "plt.show()"
   ]
  },
  {
   "cell_type": "code",
   "execution_count": 31,
   "metadata": {
    "collapsed": false
   },
   "outputs": [
    {
     "name": "stderr",
     "output_type": "stream",
     "text": [
      "C:\\Users\\Felix\\Python\\lib\\site-packages\\ipykernel\\__main__.py:4: FutureWarning: sort(columns=....) is deprecated, use sort_values(by=.....)\n"
     ]
    },
    {
     "data": {
      "text/plain": [
       "<bound method DataFrame.reset_index of       Adult       Brand_Model  device_id\n",
       "232       0         小米,红米note   0.052180\n",
       "221       0           小米,MI 4   0.025733\n",
       "220       0           小米,MI 3   0.024303\n",
       "233       0      小米,红米note增强版   0.024303\n",
       "228       0           小米,红米2A   0.023588\n",
       "354       0       魅族,魅蓝Note 2   0.022873\n",
       "353       0         魅族,魅蓝NOTE   0.022159\n",
       "230       0        小米,红米Note2   0.017870\n",
       "219       0          小米,MI 2S   0.016440\n",
       "227       0            小米,红米2   0.015011\n",
       "1031      1         小米,红米note   0.041369\n",
       "1013      1           小米,MI 3   0.031871\n",
       "1012      1          小米,MI 2S   0.029733\n",
       "664       1  三星,Galaxy Note 3   0.028902\n",
       "1014      1           小米,MI 4   0.026369\n",
       "663       1  三星,Galaxy Note 2   0.022458\n",
       "687       1      三星,Galaxy S4   0.021979\n",
       "988       1            华为,荣耀6   0.017265\n",
       "1000      1         华为,荣耀畅玩4X   0.015295\n",
       "983       1           华为,荣耀3C   0.014761>"
      ]
     },
     "execution_count": 31,
     "metadata": {},
     "output_type": "execute_result"
    }
   ],
   "source": [
    "brandmodel_by_agegroup = df_subset.groupby(['Adult', 'Brand_Model']).device_id.nunique()\n",
    "brandmodel_by_agegroup_df = pd.DataFrame(brandmodel_by_agegroup).reset_index()\n",
    "Get_Pnt_BrandModel =brandmodel_by_agegroup_df.groupby(['Adult','Brand_Model'])['device_id'].sum().groupby(level = 0).transform(lambda x: x/x.sum())\n",
    "Get_Pnt_BrandModel_df = pd.DataFrame(Get_Pnt_BrandModel).reset_index().sort(['Adult','device_id'], ascending = [True, False])\n",
    "Get_Pnt_BrandModel_df.groupby('Adult').head(10).reset_index"
   ]
  },
  {
   "cell_type": "markdown",
   "metadata": {},
   "source": [
    "### Age vs. App Category\n",
    "* It appears that app categories such as \"wealth management\" & \"P2P net loan\" are tend to be used by above 30 groups\n",
    "* App categories such as \"onlinemalls\" & \"Liquid medium\" are tend to be use by younger crowd (below 30)"
   ]
  },
  {
   "cell_type": "code",
   "execution_count": 32,
   "metadata": {
    "collapsed": false
   },
   "outputs": [],
   "source": [
    "device_list = df['device_id'].tolist()\n",
    "df_eventsubset = event[event.device_id.isin(device_list)]\n",
    "df_events = df_eventsubset.merge(app_event, on = ['event_id'])"
   ]
  },
  {
   "cell_type": "code",
   "execution_count": 33,
   "metadata": {
    "collapsed": true
   },
   "outputs": [],
   "source": [
    "df_events = df_events[df_events.is_active == 1]"
   ]
  },
  {
   "cell_type": "code",
   "execution_count": 34,
   "metadata": {
    "collapsed": false,
    "scrolled": true
   },
   "outputs": [
    {
     "data": {
      "text/plain": [
       "\"df_events.groupby(['device_id', 'app_id']).apply(lambda x: pd.Series(dict(\\n    sum_active=(x.is_active == 1).sum(),\\n    sum_all=((x.is_active == 1)|(x.is_active == 0)).sum()\\n    active_pnt =(x.is_active == 1).sum() / ((x.is_active == 1)|(x.is_active == 0)).sum()\\n)))\""
      ]
     },
     "execution_count": 34,
     "metadata": {},
     "output_type": "execute_result"
    }
   ],
   "source": [
    "# Frequency of Active Use by App Category\n",
    "# To be Fixed \n",
    "'''df_events.groupby(['device_id', 'app_id']).apply(lambda x: pd.Series(dict(\n",
    "    sum_active=(x.is_active == 1).sum(),\n",
    "    sum_all=((x.is_active == 1)|(x.is_active == 0)).sum()\n",
    "    active_pnt =(x.is_active == 1).sum() / ((x.is_active == 1)|(x.is_active == 0)).sum()\n",
    ")))'''"
   ]
  },
  {
   "cell_type": "code",
   "execution_count": 35,
   "metadata": {
    "collapsed": false
   },
   "outputs": [],
   "source": [
    "df_events_new = df_events.loc[:,('device_id', 'app_id')].drop_duplicates()\n",
    "app_label = app_label.drop_duplicates()\n",
    "label_cat = label_cat.drop_duplicates()"
   ]
  },
  {
   "cell_type": "code",
   "execution_count": 36,
   "metadata": {
    "collapsed": false
   },
   "outputs": [
    {
     "data": {
      "text/plain": [
       "1997581"
      ]
     },
     "execution_count": 36,
     "metadata": {},
     "output_type": "execute_result"
    }
   ],
   "source": [
    "device_app = df_events_new.merge(app_label, on = ['app_id']).merge(label_cat, on = ['label_id'])\n",
    "df2 = df.merge(device_app, on = ['device_id'])\n",
    "len(df2)"
   ]
  },
  {
   "cell_type": "code",
   "execution_count": 37,
   "metadata": {
    "collapsed": false
   },
   "outputs": [
    {
     "data": {
      "text/plain": [
       "Adult  Adult  category                \n",
       "0      0      video                         156\n",
       "              Personal Effectiveness 1      128\n",
       "              music                         121\n",
       "              Cozy 1                        119\n",
       "              Finance                       118\n",
       "1      1      Internet banking            15282\n",
       "              Finance                     14761\n",
       "              Personal Effectiveness 1    12810\n",
       "              Low risk                    12337\n",
       "              Pay                         11928\n",
       "Name: device_id, dtype: int64"
      ]
     },
     "execution_count": 37,
     "metadata": {},
     "output_type": "execute_result"
    }
   ],
   "source": [
    "df3 = df2[(df2.category != 'Industry tag') & (df2.category != 'Property Industry 1.0') & (df2.category != 'Property Industry 2.0')\n",
    "         & (df2.category != 'unknown') & (df2.category != 'Relatives 1') & (df2.category != 'Services 1') & (df2.category != '1 free')\n",
    "         & (df2.category != 'Custom label') & (df2.category != 'And the Church') & (df2.category != 'IM')]\n",
    "a = df3.groupby(['Adult', 'category']).device_id.nunique()\n",
    "top5_app = a.groupby(level=0).nlargest(5)\n",
    "top5_app"
   ]
  },
  {
   "cell_type": "code",
   "execution_count": 38,
   "metadata": {
    "collapsed": false
   },
   "outputs": [
    {
     "name": "stderr",
     "output_type": "stream",
     "text": [
      "C:\\Users\\Felix\\Python\\lib\\site-packages\\ipykernel\\__main__.py:4: FutureWarning: sort(columns=....) is deprecated, use sort_values(by=.....)\n"
     ]
    },
    {
     "data": {
      "text/plain": [
       "<bound method DataFrame.reset_index of      Middle_Age                  category  device_id\n",
       "123           0          Internet banking   0.028040\n",
       "86            0                   Finance   0.027357\n",
       "173           0  Personal Effectiveness 1   0.023561\n",
       "140           0                  Low risk   0.022917\n",
       "170           0                       Pay   0.022026\n",
       "150           0    Moderate profitability   0.021302\n",
       "100           0                 High Flow   0.021258\n",
       "229           0       Third party payment   0.021153\n",
       "404           0                     video   0.020800\n",
       "250           0         Wealth Management   0.019905\n",
       "359           0              online malls   0.019845\n",
       "165           0              P2P net loan   0.019626\n",
       "131           0             Liquid medium   0.019300\n",
       "65            0          Debit and credit   0.018708\n",
       "164           0                       P2P   0.018246\n",
       "103           0                 High risk   0.018087\n",
       "287           0                   fashion   0.016920\n",
       "105           0             Higher income   0.016761\n",
       "350           0                     music   0.015719\n",
       "57            0                    Cozy 1   0.015426\n",
       "137           0                Low income   0.012538\n",
       "138           0             Low liquidity   0.012455\n",
       "136           0                  Low Risk   0.012016\n",
       "367           0      pictures photography   0.010893\n",
       "289           0                 financial   0.010464\n",
       "226           0                   Tencent   0.010338\n",
       "232           0              Total Cost 1   0.010210\n",
       "89            0        Financial Services   0.010198\n",
       "274           0                 community   0.009769\n",
       "377           0                     radio   0.009655\n",
       "524           1          Internet banking   0.026593\n",
       "488           1                   Finance   0.024133\n",
       "636           1         Wealth Management   0.023626\n",
       "569           1  Personal Effectiveness 1   0.022628\n",
       "562           1              P2P net loan   0.022151\n",
       "531           1             Liquid medium   0.020854\n",
       "504           1                 High risk   0.020809\n",
       "561           1                       P2P   0.020749\n",
       "567           1                       Pay   0.020019\n",
       "540           1                  Low risk   0.019557\n",
       "506           1             Higher income   0.019065\n",
       "470           1          Debit and credit   0.018171\n",
       "538           1             Low liquidity   0.017291\n",
       "774           1                     video   0.017261\n",
       "549           1    Moderate profitability   0.017232\n",
       "501           1                 High Flow   0.017112\n",
       "537           1                Low income   0.017112\n",
       "617           1       Third party payment   0.016963\n",
       "536           1                  Low Risk   0.016904\n",
       "735           1              online malls   0.016844\n",
       "672           1                 financial   0.016799\n",
       "491           1        Financial Services   0.015383\n",
       "670           1                   fashion   0.013878\n",
       "726           1                     music   0.012939\n",
       "462           1                    Cozy 1   0.012134\n",
       "595           1                Securities   0.011269\n",
       "521           1          Internet Banking   0.010673\n",
       "747           1                    pursue   0.010539\n",
       "539           1         Low profitability   0.010300\n",
       "724           1               mobile bank   0.010270>"
      ]
     },
     "execution_count": 38,
     "metadata": {},
     "output_type": "execute_result"
    }
   ],
   "source": [
    "app_category = df3.groupby(['Middle_Age', 'category']).device_id.nunique()\n",
    "app_category_df = pd.DataFrame(app_category).reset_index()\n",
    "app_category_pnt = app_category_df.groupby(['Middle_Age','category'])['device_id'].sum().groupby(level = 0).transform(lambda x: x/x.sum())\n",
    "app_category_pnt_df = pd.DataFrame(app_category_pnt).reset_index().sort(['Middle_Age','device_id'], ascending = [True, False])\n",
    "app_category_pnt_df.groupby('Middle_Age').head(30).reset_index\n"
   ]
  },
  {
   "cell_type": "code",
   "execution_count": 39,
   "metadata": {
    "collapsed": false
   },
   "outputs": [
    {
     "name": "stderr",
     "output_type": "stream",
     "text": [
      "C:\\Users\\Felix\\Python\\lib\\site-packages\\ipykernel\\__main__.py:4: FutureWarning: sort(columns=....) is deprecated, use sort_values(by=.....)\n"
     ]
    },
    {
     "data": {
      "text/plain": [
       "<bound method DataFrame.reset_index of      Adult                  category  device_id\n",
       "263      0                     video   0.039806\n",
       "109      0  Personal Effectiveness 1   0.032661\n",
       "224      0                     music   0.030875\n",
       "34       0                    Cozy 1   0.030365\n",
       "50       0                   Finance   0.030110\n",
       "230      0              online malls   0.024751\n",
       "76       0          Internet banking   0.023731\n",
       "107      0                       Pay   0.023220\n",
       "179      0                   fashion   0.021944\n",
       "85       0                  Low risk   0.021179\n",
       "170      0                 community   0.020669\n",
       "236      0      pictures photography   0.020413\n",
       "57       0                 High Flow   0.019648\n",
       "91       0    Moderate profitability   0.019648\n",
       "142      0       Third party payment   0.019648\n",
       "140      0                   Tencent   0.017607\n",
       "243      0                     radio   0.015820\n",
       "37       0              Customized 1   0.014800\n",
       "157      0         Wealth Management   0.014034\n",
       "266      0                     weibo   0.013779\n",
       "126      0  Science and Technology 1   0.013269\n",
       "134      0          Smart Shopping 1   0.011483\n",
       "246      0          reading platform   0.010717\n",
       "188      0                      game   0.010462\n",
       "150      0           Trendy / cool 1   0.010207\n",
       "144      0              Total Cost 1   0.009952\n",
       "106      0                 Passion 1   0.009186\n",
       "254      0                      show   0.009186\n",
       "227      0                     notes   0.008421\n",
       "102      0              P2P net loan   0.008165\n",
       "391      1          Internet banking   0.027893\n",
       "354      1                   Finance   0.026942\n",
       "441      1  Personal Effectiveness 1   0.023381\n",
       "408      1                  Low risk   0.022518\n",
       "438      1                       Pay   0.021772\n",
       "418      1    Moderate profitability   0.020815\n",
       "368      1                 High Flow   0.020762\n",
       "497      1       Third party payment   0.020651\n",
       "518      1         Wealth Management   0.020403\n",
       "672      1                     video   0.020231\n",
       "433      1              P2P net loan   0.020017\n",
       "399      1             Liquid medium   0.019589\n",
       "627      1              online malls   0.019442\n",
       "333      1          Debit and credit   0.018720\n",
       "432      1                       P2P   0.018636\n",
       "371      1                 High risk   0.018519\n",
       "373      1             Higher income   0.017135\n",
       "555      1                   fashion   0.016511\n",
       "618      1                     music   0.015270\n",
       "325      1                    Cozy 1   0.014916\n",
       "405      1                Low income   0.013147\n",
       "406      1             Low liquidity   0.013098\n",
       "404      1                  Low Risk   0.012664\n",
       "557      1                 financial   0.011284\n",
       "357      1        Financial Services   0.010877\n",
       "635      1      pictures photography   0.010601\n",
       "500      1              Total Cost 1   0.010001\n",
       "494      1                   Tencent   0.009907\n",
       "407      1         Low profitability   0.009730\n",
       "616      1               mobile bank   0.009681>"
      ]
     },
     "execution_count": 39,
     "metadata": {},
     "output_type": "execute_result"
    }
   ],
   "source": [
    "app_category2 = df3.groupby(['Adult', 'category']).device_id.nunique()\n",
    "app_category_df2 = pd.DataFrame(app_category2).reset_index()\n",
    "app_category_pnt2 = app_category_df2.groupby(['Adult','category'])['device_id'].sum().groupby(level = 0).transform(lambda x: x/x.sum())\n",
    "app_category_pnt_df2 = pd.DataFrame(app_category_pnt2).reset_index().sort(['Adult','device_id'], ascending = [True, False])\n",
    "app_category_pnt_df2.groupby('Adult').head(30).reset_index"
   ]
  },
  {
   "cell_type": "code",
   "execution_count": 40,
   "metadata": {
    "collapsed": false
   },
   "outputs": [
    {
     "name": "stderr",
     "output_type": "stream",
     "text": [
      "C:\\Users\\Felix\\Python\\lib\\site-packages\\ipykernel\\__main__.py:8: FutureWarning: sort(columns=....) is deprecated, use sort_values(by=.....)\n"
     ]
    },
    {
     "data": {
      "image/png": "[encoded data removed]",
      "text/plain": [
       "<matplotlib.figure.Figure at 0x18603126860>"
      ]
     },
     "metadata": {},
     "output_type": "display_data"
    }
   ],
   "source": [
    "app_category_feature =df3[(df3.category == 'Tencent')|(df3.category == 'Smart Shopping 1')\n",
    "                         |(df3.category == 'show')|(df3.category == 'Science and Technology 1')|(df3.category == 'reading platform')\n",
    "                         |(df3.category == 'P2P net loan')|(df3.category == 'Low liquidity')|(df3.category == 'Low income')\n",
    "                         |(df3.category == 'Liquid medium')|(df3.category == 'weibo')|(df3.category == 'community')\n",
    "                         |(df3.category == 'Cozy 1')].groupby(['Adult', 'category']).device_id.nunique()\n",
    "app_category_feature = pd.DataFrame(app_category_feature).reset_index()\n",
    "app_category_feature = app_category_feature.groupby(['Adult','category'])['device_id'].sum().groupby(level = 0).transform(lambda x: x/x.sum())\n",
    "app_category_feature = pd.DataFrame(app_category_feature).reset_index().sort(['Adult','device_id'], ascending = [True, False])\n",
    "\n",
    "sns.lmplot('device_id', 'Adult', data=app_category_feature , hue='category', fit_reg=False)\n",
    "plt.show()"
   ]
  },
  {
   "cell_type": "code",
   "execution_count": 41,
   "metadata": {
    "collapsed": false
   },
   "outputs": [
    {
     "data": {
      "image/png": "[encoded data removed]",
      "text/plain": [
       "<matplotlib.figure.Figure at 0x186001dd898>"
      ]
     },
     "metadata": {},
     "output_type": "display_data"
    }
   ],
   "source": [
    "import matplotlib.cm as cm\n",
    "b = pd.DataFrame(app_category_feature).reset_index()\n",
    "b = b[['Adult','category', 'device_id']]\n",
    "ag1 = b.groupby(['Adult','category']).sum().unstack()\n",
    "ag1.columns = ag1.columns.droplevel()\n",
    "ag1.plot(kind = 'bar')\n",
    "plt.show()"
   ]
  },
  {
   "cell_type": "markdown",
   "metadata": {
    "collapsed": true
   },
   "source": [
    "### Age vs. Activity Time During the Day\n"
   ]
  },
  {
   "cell_type": "code",
   "execution_count": 42,
   "metadata": {
    "collapsed": true
   },
   "outputs": [],
   "source": [
    "event_new = event.merge(gatrain, on = ['device_id'])"
   ]
  },
  {
   "cell_type": "code",
   "execution_count": 43,
   "metadata": {
    "collapsed": false
   },
   "outputs": [
    {
     "data": {
      "text/html": [
       "<div>\n",
       "<table border=\"1\" class=\"dataframe\">\n",
       "  <thead>\n",
       "    <tr style=\"text-align: right;\">\n",
       "      <th></th>\n",
       "      <th>event_id</th>\n",
       "      <th>device_id</th>\n",
       "      <th>timestamp</th>\n",
       "      <th>longitude</th>\n",
       "      <th>latitude</th>\n",
       "      <th>gender</th>\n",
       "      <th>age</th>\n",
       "      <th>group</th>\n",
       "      <th>hour</th>\n",
       "      <th>day</th>\n",
       "      <th>dayofweek</th>\n",
       "      <th>Adult</th>\n",
       "      <th>Middle_Age</th>\n",
       "      <th>AgeGroup</th>\n",
       "    </tr>\n",
       "  </thead>\n",
       "  <tbody>\n",
       "    <tr>\n",
       "      <th>0</th>\n",
       "      <td>1</td>\n",
       "      <td>29182687948017175</td>\n",
       "      <td>2016-05-01 00:55:25</td>\n",
       "      <td>121.38</td>\n",
       "      <td>31.24</td>\n",
       "      <td>M</td>\n",
       "      <td>46</td>\n",
       "      <td>M39+</td>\n",
       "      <td>0</td>\n",
       "      <td>1</td>\n",
       "      <td>7</td>\n",
       "      <td>1</td>\n",
       "      <td>0</td>\n",
       "      <td>40</td>\n",
       "    </tr>\n",
       "    <tr>\n",
       "      <th>1</th>\n",
       "      <td>7104</td>\n",
       "      <td>29182687948017175</td>\n",
       "      <td>2016-05-02 09:37:02</td>\n",
       "      <td>121.38</td>\n",
       "      <td>31.24</td>\n",
       "      <td>M</td>\n",
       "      <td>46</td>\n",
       "      <td>M39+</td>\n",
       "      <td>9</td>\n",
       "      <td>2</td>\n",
       "      <td>1</td>\n",
       "      <td>1</td>\n",
       "      <td>0</td>\n",
       "      <td>40</td>\n",
       "    </tr>\n",
       "    <tr>\n",
       "      <th>2</th>\n",
       "      <td>29661</td>\n",
       "      <td>29182687948017175</td>\n",
       "      <td>2016-05-04 00:56:04</td>\n",
       "      <td>121.39</td>\n",
       "      <td>31.23</td>\n",
       "      <td>M</td>\n",
       "      <td>46</td>\n",
       "      <td>M39+</td>\n",
       "      <td>0</td>\n",
       "      <td>4</td>\n",
       "      <td>3</td>\n",
       "      <td>1</td>\n",
       "      <td>0</td>\n",
       "      <td>40</td>\n",
       "    </tr>\n",
       "    <tr>\n",
       "      <th>3</th>\n",
       "      <td>33133</td>\n",
       "      <td>29182687948017175</td>\n",
       "      <td>2016-05-06 05:01:15</td>\n",
       "      <td>121.38</td>\n",
       "      <td>31.24</td>\n",
       "      <td>M</td>\n",
       "      <td>46</td>\n",
       "      <td>M39+</td>\n",
       "      <td>5</td>\n",
       "      <td>6</td>\n",
       "      <td>5</td>\n",
       "      <td>1</td>\n",
       "      <td>0</td>\n",
       "      <td>40</td>\n",
       "    </tr>\n",
       "    <tr>\n",
       "      <th>4</th>\n",
       "      <td>38980</td>\n",
       "      <td>29182687948017175</td>\n",
       "      <td>2016-05-06 09:55:04</td>\n",
       "      <td>121.16</td>\n",
       "      <td>31.00</td>\n",
       "      <td>M</td>\n",
       "      <td>46</td>\n",
       "      <td>M39+</td>\n",
       "      <td>9</td>\n",
       "      <td>6</td>\n",
       "      <td>5</td>\n",
       "      <td>1</td>\n",
       "      <td>0</td>\n",
       "      <td>40</td>\n",
       "    </tr>\n",
       "    <tr>\n",
       "      <th>5</th>\n",
       "      <td>66398</td>\n",
       "      <td>29182687948017175</td>\n",
       "      <td>2016-05-01 01:56:06</td>\n",
       "      <td>121.38</td>\n",
       "      <td>31.24</td>\n",
       "      <td>M</td>\n",
       "      <td>46</td>\n",
       "      <td>M39+</td>\n",
       "      <td>1</td>\n",
       "      <td>1</td>\n",
       "      <td>7</td>\n",
       "      <td>1</td>\n",
       "      <td>0</td>\n",
       "      <td>40</td>\n",
       "    </tr>\n",
       "    <tr>\n",
       "      <th>6</th>\n",
       "      <td>70894</td>\n",
       "      <td>29182687948017175</td>\n",
       "      <td>2016-05-06 01:14:46</td>\n",
       "      <td>121.38</td>\n",
       "      <td>31.24</td>\n",
       "      <td>M</td>\n",
       "      <td>46</td>\n",
       "      <td>M39+</td>\n",
       "      <td>1</td>\n",
       "      <td>6</td>\n",
       "      <td>5</td>\n",
       "      <td>1</td>\n",
       "      <td>0</td>\n",
       "      <td>40</td>\n",
       "    </tr>\n",
       "    <tr>\n",
       "      <th>7</th>\n",
       "      <td>87185</td>\n",
       "      <td>29182687948017175</td>\n",
       "      <td>2016-05-01 09:20:01</td>\n",
       "      <td>121.38</td>\n",
       "      <td>31.24</td>\n",
       "      <td>M</td>\n",
       "      <td>46</td>\n",
       "      <td>M39+</td>\n",
       "      <td>9</td>\n",
       "      <td>1</td>\n",
       "      <td>7</td>\n",
       "      <td>1</td>\n",
       "      <td>0</td>\n",
       "      <td>40</td>\n",
       "    </tr>\n",
       "    <tr>\n",
       "      <th>8</th>\n",
       "      <td>94644</td>\n",
       "      <td>29182687948017175</td>\n",
       "      <td>2016-05-07 07:16:35</td>\n",
       "      <td>121.38</td>\n",
       "      <td>31.24</td>\n",
       "      <td>M</td>\n",
       "      <td>46</td>\n",
       "      <td>M39+</td>\n",
       "      <td>7</td>\n",
       "      <td>7</td>\n",
       "      <td>6</td>\n",
       "      <td>1</td>\n",
       "      <td>0</td>\n",
       "      <td>40</td>\n",
       "    </tr>\n",
       "    <tr>\n",
       "      <th>9</th>\n",
       "      <td>110018</td>\n",
       "      <td>29182687948017175</td>\n",
       "      <td>2016-05-06 21:00:40</td>\n",
       "      <td>121.38</td>\n",
       "      <td>31.24</td>\n",
       "      <td>M</td>\n",
       "      <td>46</td>\n",
       "      <td>M39+</td>\n",
       "      <td>21</td>\n",
       "      <td>6</td>\n",
       "      <td>5</td>\n",
       "      <td>1</td>\n",
       "      <td>0</td>\n",
       "      <td>40</td>\n",
       "    </tr>\n",
       "    <tr>\n",
       "      <th>10</th>\n",
       "      <td>120190</td>\n",
       "      <td>29182687948017175</td>\n",
       "      <td>2016-05-02 00:20:38</td>\n",
       "      <td>121.38</td>\n",
       "      <td>31.24</td>\n",
       "      <td>M</td>\n",
       "      <td>46</td>\n",
       "      <td>M39+</td>\n",
       "      <td>0</td>\n",
       "      <td>2</td>\n",
       "      <td>1</td>\n",
       "      <td>1</td>\n",
       "      <td>0</td>\n",
       "      <td>40</td>\n",
       "    </tr>\n",
       "    <tr>\n",
       "      <th>11</th>\n",
       "      <td>120191</td>\n",
       "      <td>29182687948017175</td>\n",
       "      <td>2016-05-02 00:21:03</td>\n",
       "      <td>121.38</td>\n",
       "      <td>31.24</td>\n",
       "      <td>M</td>\n",
       "      <td>46</td>\n",
       "      <td>M39+</td>\n",
       "      <td>0</td>\n",
       "      <td>2</td>\n",
       "      <td>1</td>\n",
       "      <td>1</td>\n",
       "      <td>0</td>\n",
       "      <td>40</td>\n",
       "    </tr>\n",
       "    <tr>\n",
       "      <th>12</th>\n",
       "      <td>162735</td>\n",
       "      <td>29182687948017175</td>\n",
       "      <td>2016-05-04 02:19:36</td>\n",
       "      <td>121.39</td>\n",
       "      <td>31.23</td>\n",
       "      <td>M</td>\n",
       "      <td>46</td>\n",
       "      <td>M39+</td>\n",
       "      <td>2</td>\n",
       "      <td>4</td>\n",
       "      <td>3</td>\n",
       "      <td>1</td>\n",
       "      <td>0</td>\n",
       "      <td>40</td>\n",
       "    </tr>\n",
       "    <tr>\n",
       "      <th>13</th>\n",
       "      <td>184478</td>\n",
       "      <td>29182687948017175</td>\n",
       "      <td>2016-05-05 19:14:09</td>\n",
       "      <td>0.00</td>\n",
       "      <td>0.00</td>\n",
       "      <td>M</td>\n",
       "      <td>46</td>\n",
       "      <td>M39+</td>\n",
       "      <td>19</td>\n",
       "      <td>5</td>\n",
       "      <td>4</td>\n",
       "      <td>1</td>\n",
       "      <td>0</td>\n",
       "      <td>40</td>\n",
       "    </tr>\n",
       "    <tr>\n",
       "      <th>14</th>\n",
       "      <td>191673</td>\n",
       "      <td>29182687948017175</td>\n",
       "      <td>2016-05-01 05:24:36</td>\n",
       "      <td>121.38</td>\n",
       "      <td>31.24</td>\n",
       "      <td>M</td>\n",
       "      <td>46</td>\n",
       "      <td>M39+</td>\n",
       "      <td>5</td>\n",
       "      <td>1</td>\n",
       "      <td>7</td>\n",
       "      <td>1</td>\n",
       "      <td>1</td>\n",
       "      <td>40</td>\n",
       "    </tr>\n",
       "    <tr>\n",
       "      <th>15</th>\n",
       "      <td>217601</td>\n",
       "      <td>29182687948017175</td>\n",
       "      <td>2016-05-03 06:55:14</td>\n",
       "      <td>0.00</td>\n",
       "      <td>0.00</td>\n",
       "      <td>M</td>\n",
       "      <td>46</td>\n",
       "      <td>M39+</td>\n",
       "      <td>6</td>\n",
       "      <td>3</td>\n",
       "      <td>2</td>\n",
       "      <td>1</td>\n",
       "      <td>0</td>\n",
       "      <td>40</td>\n",
       "    </tr>\n",
       "    <tr>\n",
       "      <th>16</th>\n",
       "      <td>273512</td>\n",
       "      <td>29182687948017175</td>\n",
       "      <td>2016-05-02 09:35:49</td>\n",
       "      <td>121.38</td>\n",
       "      <td>31.24</td>\n",
       "      <td>M</td>\n",
       "      <td>46</td>\n",
       "      <td>M39+</td>\n",
       "      <td>9</td>\n",
       "      <td>2</td>\n",
       "      <td>1</td>\n",
       "      <td>1</td>\n",
       "      <td>0</td>\n",
       "      <td>40</td>\n",
       "    </tr>\n",
       "    <tr>\n",
       "      <th>17</th>\n",
       "      <td>273615</td>\n",
       "      <td>29182687948017175</td>\n",
       "      <td>2016-05-02 09:31:50</td>\n",
       "      <td>121.38</td>\n",
       "      <td>31.24</td>\n",
       "      <td>M</td>\n",
       "      <td>46</td>\n",
       "      <td>M39+</td>\n",
       "      <td>9</td>\n",
       "      <td>2</td>\n",
       "      <td>1</td>\n",
       "      <td>1</td>\n",
       "      <td>0</td>\n",
       "      <td>40</td>\n",
       "    </tr>\n",
       "    <tr>\n",
       "      <th>18</th>\n",
       "      <td>292765</td>\n",
       "      <td>29182687948017175</td>\n",
       "      <td>2016-05-06 00:09:45</td>\n",
       "      <td>121.38</td>\n",
       "      <td>31.24</td>\n",
       "      <td>M</td>\n",
       "      <td>46</td>\n",
       "      <td>M39+</td>\n",
       "      <td>0</td>\n",
       "      <td>6</td>\n",
       "      <td>5</td>\n",
       "      <td>1</td>\n",
       "      <td>1</td>\n",
       "      <td>40</td>\n",
       "    </tr>\n",
       "    <tr>\n",
       "      <th>19</th>\n",
       "      <td>293807</td>\n",
       "      <td>29182687948017175</td>\n",
       "      <td>2016-05-01 02:53:31</td>\n",
       "      <td>121.38</td>\n",
       "      <td>31.24</td>\n",
       "      <td>M</td>\n",
       "      <td>46</td>\n",
       "      <td>M39+</td>\n",
       "      <td>2</td>\n",
       "      <td>1</td>\n",
       "      <td>7</td>\n",
       "      <td>1</td>\n",
       "      <td>0</td>\n",
       "      <td>40</td>\n",
       "    </tr>\n",
       "    <tr>\n",
       "      <th>20</th>\n",
       "      <td>296013</td>\n",
       "      <td>29182687948017175</td>\n",
       "      <td>2016-05-01 06:12:21</td>\n",
       "      <td>121.38</td>\n",
       "      <td>31.24</td>\n",
       "      <td>M</td>\n",
       "      <td>46</td>\n",
       "      <td>M39+</td>\n",
       "      <td>6</td>\n",
       "      <td>1</td>\n",
       "      <td>7</td>\n",
       "      <td>1</td>\n",
       "      <td>0</td>\n",
       "      <td>40</td>\n",
       "    </tr>\n",
       "    <tr>\n",
       "      <th>21</th>\n",
       "      <td>298586</td>\n",
       "      <td>29182687948017175</td>\n",
       "      <td>2016-05-07 07:34:40</td>\n",
       "      <td>121.38</td>\n",
       "      <td>31.24</td>\n",
       "      <td>M</td>\n",
       "      <td>46</td>\n",
       "      <td>M39+</td>\n",
       "      <td>7</td>\n",
       "      <td>7</td>\n",
       "      <td>6</td>\n",
       "      <td>1</td>\n",
       "      <td>0</td>\n",
       "      <td>40</td>\n",
       "    </tr>\n",
       "    <tr>\n",
       "      <th>22</th>\n",
       "      <td>328924</td>\n",
       "      <td>29182687948017175</td>\n",
       "      <td>2016-05-06 06:00:33</td>\n",
       "      <td>121.38</td>\n",
       "      <td>31.24</td>\n",
       "      <td>M</td>\n",
       "      <td>46</td>\n",
       "      <td>M39+</td>\n",
       "      <td>6</td>\n",
       "      <td>6</td>\n",
       "      <td>5</td>\n",
       "      <td>1</td>\n",
       "      <td>0</td>\n",
       "      <td>40</td>\n",
       "    </tr>\n",
       "    <tr>\n",
       "      <th>23</th>\n",
       "      <td>337996</td>\n",
       "      <td>29182687948017175</td>\n",
       "      <td>2016-05-03 02:45:18</td>\n",
       "      <td>121.38</td>\n",
       "      <td>31.24</td>\n",
       "      <td>M</td>\n",
       "      <td>46</td>\n",
       "      <td>M39+</td>\n",
       "      <td>2</td>\n",
       "      <td>3</td>\n",
       "      <td>2</td>\n",
       "      <td>1</td>\n",
       "      <td>0</td>\n",
       "      <td>40</td>\n",
       "    </tr>\n",
       "    <tr>\n",
       "      <th>24</th>\n",
       "      <td>339549</td>\n",
       "      <td>29182687948017175</td>\n",
       "      <td>2016-05-06 05:34:04</td>\n",
       "      <td>121.38</td>\n",
       "      <td>31.24</td>\n",
       "      <td>M</td>\n",
       "      <td>46</td>\n",
       "      <td>M39+</td>\n",
       "      <td>5</td>\n",
       "      <td>6</td>\n",
       "      <td>5</td>\n",
       "      <td>1</td>\n",
       "      <td>0</td>\n",
       "      <td>40</td>\n",
       "    </tr>\n",
       "    <tr>\n",
       "      <th>25</th>\n",
       "      <td>339629</td>\n",
       "      <td>29182687948017175</td>\n",
       "      <td>2016-05-01 06:21:24</td>\n",
       "      <td>121.38</td>\n",
       "      <td>31.24</td>\n",
       "      <td>M</td>\n",
       "      <td>46</td>\n",
       "      <td>M39+</td>\n",
       "      <td>6</td>\n",
       "      <td>1</td>\n",
       "      <td>7</td>\n",
       "      <td>1</td>\n",
       "      <td>0</td>\n",
       "      <td>40</td>\n",
       "    </tr>\n",
       "    <tr>\n",
       "      <th>26</th>\n",
       "      <td>361483</td>\n",
       "      <td>29182687948017175</td>\n",
       "      <td>2016-05-05 20:08:49</td>\n",
       "      <td>0.00</td>\n",
       "      <td>0.00</td>\n",
       "      <td>M</td>\n",
       "      <td>46</td>\n",
       "      <td>M39+</td>\n",
       "      <td>20</td>\n",
       "      <td>5</td>\n",
       "      <td>4</td>\n",
       "      <td>1</td>\n",
       "      <td>0</td>\n",
       "      <td>40</td>\n",
       "    </tr>\n",
       "    <tr>\n",
       "      <th>27</th>\n",
       "      <td>388598</td>\n",
       "      <td>29182687948017175</td>\n",
       "      <td>2016-05-06 21:01:47</td>\n",
       "      <td>121.38</td>\n",
       "      <td>31.24</td>\n",
       "      <td>M</td>\n",
       "      <td>46</td>\n",
       "      <td>M39+</td>\n",
       "      <td>21</td>\n",
       "      <td>6</td>\n",
       "      <td>5</td>\n",
       "      <td>1</td>\n",
       "      <td>0</td>\n",
       "      <td>40</td>\n",
       "    </tr>\n",
       "    <tr>\n",
       "      <th>28</th>\n",
       "      <td>403384</td>\n",
       "      <td>29182687948017175</td>\n",
       "      <td>2016-05-01 06:03:04</td>\n",
       "      <td>121.38</td>\n",
       "      <td>31.24</td>\n",
       "      <td>M</td>\n",
       "      <td>46</td>\n",
       "      <td>M39+</td>\n",
       "      <td>6</td>\n",
       "      <td>1</td>\n",
       "      <td>7</td>\n",
       "      <td>1</td>\n",
       "      <td>0</td>\n",
       "      <td>40</td>\n",
       "    </tr>\n",
       "    <tr>\n",
       "      <th>29</th>\n",
       "      <td>406579</td>\n",
       "      <td>29182687948017175</td>\n",
       "      <td>2016-05-01 09:05:22</td>\n",
       "      <td>121.38</td>\n",
       "      <td>31.24</td>\n",
       "      <td>M</td>\n",
       "      <td>46</td>\n",
       "      <td>M39+</td>\n",
       "      <td>9</td>\n",
       "      <td>1</td>\n",
       "      <td>7</td>\n",
       "      <td>1</td>\n",
       "      <td>0</td>\n",
       "      <td>40</td>\n",
       "    </tr>\n",
       "    <tr>\n",
       "      <th>...</th>\n",
       "      <td>...</td>\n",
       "      <td>...</td>\n",
       "      <td>...</td>\n",
       "      <td>...</td>\n",
       "      <td>...</td>\n",
       "      <td>...</td>\n",
       "      <td>...</td>\n",
       "      <td>...</td>\n",
       "      <td>...</td>\n",
       "      <td>...</td>\n",
       "      <td>...</td>\n",
       "      <td>...</td>\n",
       "      <td>...</td>\n",
       "      <td>...</td>\n",
       "    </tr>\n",
       "    <tr>\n",
       "      <th>1215565</th>\n",
       "      <td>3215379</td>\n",
       "      <td>1159668935158019744</td>\n",
       "      <td>2016-05-01 23:48:25</td>\n",
       "      <td>0.00</td>\n",
       "      <td>0.00</td>\n",
       "      <td>F</td>\n",
       "      <td>26</td>\n",
       "      <td>F24-26</td>\n",
       "      <td>23</td>\n",
       "      <td>1</td>\n",
       "      <td>7</td>\n",
       "      <td>1</td>\n",
       "      <td>0</td>\n",
       "      <td>20</td>\n",
       "    </tr>\n",
       "    <tr>\n",
       "      <th>1215566</th>\n",
       "      <td>3216564</td>\n",
       "      <td>-3242071858053414185</td>\n",
       "      <td>2016-05-07 23:47:19</td>\n",
       "      <td>0.00</td>\n",
       "      <td>0.00</td>\n",
       "      <td>F</td>\n",
       "      <td>34</td>\n",
       "      <td>F33-42</td>\n",
       "      <td>23</td>\n",
       "      <td>7</td>\n",
       "      <td>6</td>\n",
       "      <td>1</td>\n",
       "      <td>0</td>\n",
       "      <td>30</td>\n",
       "    </tr>\n",
       "    <tr>\n",
       "      <th>1215567</th>\n",
       "      <td>3217750</td>\n",
       "      <td>7321248226775781541</td>\n",
       "      <td>2016-05-01 22:25:00</td>\n",
       "      <td>0.00</td>\n",
       "      <td>0.00</td>\n",
       "      <td>M</td>\n",
       "      <td>27</td>\n",
       "      <td>M27-28</td>\n",
       "      <td>22</td>\n",
       "      <td>1</td>\n",
       "      <td>7</td>\n",
       "      <td>1</td>\n",
       "      <td>0</td>\n",
       "      <td>20</td>\n",
       "    </tr>\n",
       "    <tr>\n",
       "      <th>1215568</th>\n",
       "      <td>3218829</td>\n",
       "      <td>-5519740765351759075</td>\n",
       "      <td>2016-05-01 22:59:41</td>\n",
       "      <td>0.00</td>\n",
       "      <td>0.00</td>\n",
       "      <td>F</td>\n",
       "      <td>27</td>\n",
       "      <td>F27-28</td>\n",
       "      <td>22</td>\n",
       "      <td>1</td>\n",
       "      <td>7</td>\n",
       "      <td>1</td>\n",
       "      <td>0</td>\n",
       "      <td>20</td>\n",
       "    </tr>\n",
       "    <tr>\n",
       "      <th>1215569</th>\n",
       "      <td>3219114</td>\n",
       "      <td>-5608256777778664777</td>\n",
       "      <td>2016-05-05 23:32:34</td>\n",
       "      <td>102.52</td>\n",
       "      <td>24.34</td>\n",
       "      <td>M</td>\n",
       "      <td>26</td>\n",
       "      <td>M23-26</td>\n",
       "      <td>23</td>\n",
       "      <td>5</td>\n",
       "      <td>4</td>\n",
       "      <td>1</td>\n",
       "      <td>0</td>\n",
       "      <td>20</td>\n",
       "    </tr>\n",
       "    <tr>\n",
       "      <th>1215570</th>\n",
       "      <td>3219423</td>\n",
       "      <td>-1285152434574825882</td>\n",
       "      <td>2016-05-07 23:34:17</td>\n",
       "      <td>0.00</td>\n",
       "      <td>0.00</td>\n",
       "      <td>F</td>\n",
       "      <td>34</td>\n",
       "      <td>F33-42</td>\n",
       "      <td>23</td>\n",
       "      <td>7</td>\n",
       "      <td>6</td>\n",
       "      <td>1</td>\n",
       "      <td>0</td>\n",
       "      <td>30</td>\n",
       "    </tr>\n",
       "    <tr>\n",
       "      <th>1215571</th>\n",
       "      <td>3219642</td>\n",
       "      <td>-5351149996525759107</td>\n",
       "      <td>2016-05-01 01:00:19</td>\n",
       "      <td>0.00</td>\n",
       "      <td>0.00</td>\n",
       "      <td>M</td>\n",
       "      <td>35</td>\n",
       "      <td>M32-38</td>\n",
       "      <td>1</td>\n",
       "      <td>1</td>\n",
       "      <td>7</td>\n",
       "      <td>1</td>\n",
       "      <td>0</td>\n",
       "      <td>30</td>\n",
       "    </tr>\n",
       "    <tr>\n",
       "      <th>1215572</th>\n",
       "      <td>3219939</td>\n",
       "      <td>-1636404312341089367</td>\n",
       "      <td>2016-05-03 00:12:22</td>\n",
       "      <td>0.00</td>\n",
       "      <td>0.00</td>\n",
       "      <td>F</td>\n",
       "      <td>20</td>\n",
       "      <td>F23-</td>\n",
       "      <td>0</td>\n",
       "      <td>3</td>\n",
       "      <td>2</td>\n",
       "      <td>1</td>\n",
       "      <td>0</td>\n",
       "      <td>20</td>\n",
       "    </tr>\n",
       "    <tr>\n",
       "      <th>1215573</th>\n",
       "      <td>3225387</td>\n",
       "      <td>3557849864919163609</td>\n",
       "      <td>2016-05-03 07:36:50</td>\n",
       "      <td>0.00</td>\n",
       "      <td>0.00</td>\n",
       "      <td>M</td>\n",
       "      <td>26</td>\n",
       "      <td>M23-26</td>\n",
       "      <td>7</td>\n",
       "      <td>3</td>\n",
       "      <td>2</td>\n",
       "      <td>1</td>\n",
       "      <td>0</td>\n",
       "      <td>20</td>\n",
       "    </tr>\n",
       "    <tr>\n",
       "      <th>1215574</th>\n",
       "      <td>3225877</td>\n",
       "      <td>-9171634610175383030</td>\n",
       "      <td>2016-05-05 07:18:17</td>\n",
       "      <td>0.00</td>\n",
       "      <td>0.00</td>\n",
       "      <td>M</td>\n",
       "      <td>31</td>\n",
       "      <td>M29-31</td>\n",
       "      <td>7</td>\n",
       "      <td>5</td>\n",
       "      <td>4</td>\n",
       "      <td>1</td>\n",
       "      <td>0</td>\n",
       "      <td>30</td>\n",
       "    </tr>\n",
       "    <tr>\n",
       "      <th>1215575</th>\n",
       "      <td>3228823</td>\n",
       "      <td>-4556680690105063633</td>\n",
       "      <td>2016-05-05 09:12:43</td>\n",
       "      <td>0.00</td>\n",
       "      <td>0.00</td>\n",
       "      <td>M</td>\n",
       "      <td>45</td>\n",
       "      <td>M39+</td>\n",
       "      <td>9</td>\n",
       "      <td>5</td>\n",
       "      <td>4</td>\n",
       "      <td>1</td>\n",
       "      <td>0</td>\n",
       "      <td>40</td>\n",
       "    </tr>\n",
       "    <tr>\n",
       "      <th>1215576</th>\n",
       "      <td>3229069</td>\n",
       "      <td>1681145581062616021</td>\n",
       "      <td>2016-05-06 09:26:20</td>\n",
       "      <td>0.00</td>\n",
       "      <td>0.00</td>\n",
       "      <td>F</td>\n",
       "      <td>34</td>\n",
       "      <td>F33-42</td>\n",
       "      <td>9</td>\n",
       "      <td>6</td>\n",
       "      <td>5</td>\n",
       "      <td>1</td>\n",
       "      <td>0</td>\n",
       "      <td>30</td>\n",
       "    </tr>\n",
       "    <tr>\n",
       "      <th>1215577</th>\n",
       "      <td>3229491</td>\n",
       "      <td>-8283967910318754940</td>\n",
       "      <td>2016-05-01 10:14:16</td>\n",
       "      <td>0.00</td>\n",
       "      <td>0.00</td>\n",
       "      <td>F</td>\n",
       "      <td>19</td>\n",
       "      <td>F23-</td>\n",
       "      <td>10</td>\n",
       "      <td>1</td>\n",
       "      <td>7</td>\n",
       "      <td>1</td>\n",
       "      <td>0</td>\n",
       "      <td>10</td>\n",
       "    </tr>\n",
       "    <tr>\n",
       "      <th>1215578</th>\n",
       "      <td>3232768</td>\n",
       "      <td>-2011883897776725841</td>\n",
       "      <td>2016-05-06 11:51:26</td>\n",
       "      <td>0.00</td>\n",
       "      <td>0.00</td>\n",
       "      <td>M</td>\n",
       "      <td>26</td>\n",
       "      <td>M23-26</td>\n",
       "      <td>11</td>\n",
       "      <td>6</td>\n",
       "      <td>5</td>\n",
       "      <td>1</td>\n",
       "      <td>0</td>\n",
       "      <td>20</td>\n",
       "    </tr>\n",
       "    <tr>\n",
       "      <th>1215579</th>\n",
       "      <td>3234575</td>\n",
       "      <td>-3242445506062353451</td>\n",
       "      <td>2016-05-06 12:43:44</td>\n",
       "      <td>0.00</td>\n",
       "      <td>0.00</td>\n",
       "      <td>M</td>\n",
       "      <td>31</td>\n",
       "      <td>M29-31</td>\n",
       "      <td>12</td>\n",
       "      <td>6</td>\n",
       "      <td>5</td>\n",
       "      <td>1</td>\n",
       "      <td>0</td>\n",
       "      <td>30</td>\n",
       "    </tr>\n",
       "    <tr>\n",
       "      <th>1215580</th>\n",
       "      <td>3234822</td>\n",
       "      <td>-567217566896647598</td>\n",
       "      <td>2016-05-01 13:29:45</td>\n",
       "      <td>0.00</td>\n",
       "      <td>0.00</td>\n",
       "      <td>M</td>\n",
       "      <td>27</td>\n",
       "      <td>M27-28</td>\n",
       "      <td>13</td>\n",
       "      <td>1</td>\n",
       "      <td>7</td>\n",
       "      <td>1</td>\n",
       "      <td>0</td>\n",
       "      <td>20</td>\n",
       "    </tr>\n",
       "    <tr>\n",
       "      <th>1215581</th>\n",
       "      <td>3237260</td>\n",
       "      <td>-5582647400069933573</td>\n",
       "      <td>2016-05-05 14:18:24</td>\n",
       "      <td>0.00</td>\n",
       "      <td>0.00</td>\n",
       "      <td>M</td>\n",
       "      <td>20</td>\n",
       "      <td>M22-</td>\n",
       "      <td>14</td>\n",
       "      <td>5</td>\n",
       "      <td>4</td>\n",
       "      <td>1</td>\n",
       "      <td>0</td>\n",
       "      <td>20</td>\n",
       "    </tr>\n",
       "    <tr>\n",
       "      <th>1215582</th>\n",
       "      <td>3237996</td>\n",
       "      <td>-4995582150385717109</td>\n",
       "      <td>2016-05-03 15:31:21</td>\n",
       "      <td>0.00</td>\n",
       "      <td>0.00</td>\n",
       "      <td>M</td>\n",
       "      <td>23</td>\n",
       "      <td>M23-26</td>\n",
       "      <td>15</td>\n",
       "      <td>3</td>\n",
       "      <td>2</td>\n",
       "      <td>1</td>\n",
       "      <td>0</td>\n",
       "      <td>20</td>\n",
       "    </tr>\n",
       "    <tr>\n",
       "      <th>1215583</th>\n",
       "      <td>3238608</td>\n",
       "      <td>1594355661583887272</td>\n",
       "      <td>2016-05-06 15:51:38</td>\n",
       "      <td>118.18</td>\n",
       "      <td>24.63</td>\n",
       "      <td>M</td>\n",
       "      <td>27</td>\n",
       "      <td>M27-28</td>\n",
       "      <td>15</td>\n",
       "      <td>6</td>\n",
       "      <td>5</td>\n",
       "      <td>1</td>\n",
       "      <td>0</td>\n",
       "      <td>20</td>\n",
       "    </tr>\n",
       "    <tr>\n",
       "      <th>1215584</th>\n",
       "      <td>3240035</td>\n",
       "      <td>8501488025560071182</td>\n",
       "      <td>2016-05-05 16:26:27</td>\n",
       "      <td>0.00</td>\n",
       "      <td>0.00</td>\n",
       "      <td>F</td>\n",
       "      <td>50</td>\n",
       "      <td>F43+</td>\n",
       "      <td>16</td>\n",
       "      <td>5</td>\n",
       "      <td>4</td>\n",
       "      <td>1</td>\n",
       "      <td>0</td>\n",
       "      <td>50</td>\n",
       "    </tr>\n",
       "    <tr>\n",
       "      <th>1215585</th>\n",
       "      <td>3242867</td>\n",
       "      <td>9062224834222300991</td>\n",
       "      <td>2016-05-02 18:03:32</td>\n",
       "      <td>0.00</td>\n",
       "      <td>0.00</td>\n",
       "      <td>F</td>\n",
       "      <td>27</td>\n",
       "      <td>F27-28</td>\n",
       "      <td>18</td>\n",
       "      <td>2</td>\n",
       "      <td>1</td>\n",
       "      <td>1</td>\n",
       "      <td>0</td>\n",
       "      <td>20</td>\n",
       "    </tr>\n",
       "    <tr>\n",
       "      <th>1215586</th>\n",
       "      <td>3242869</td>\n",
       "      <td>-4721537041481084817</td>\n",
       "      <td>2016-05-02 18:08:54</td>\n",
       "      <td>0.00</td>\n",
       "      <td>0.00</td>\n",
       "      <td>F</td>\n",
       "      <td>27</td>\n",
       "      <td>F27-28</td>\n",
       "      <td>18</td>\n",
       "      <td>2</td>\n",
       "      <td>1</td>\n",
       "      <td>1</td>\n",
       "      <td>0</td>\n",
       "      <td>20</td>\n",
       "    </tr>\n",
       "    <tr>\n",
       "      <th>1215587</th>\n",
       "      <td>3242958</td>\n",
       "      <td>-842356346022684204</td>\n",
       "      <td>2016-05-03 18:35:38</td>\n",
       "      <td>108.40</td>\n",
       "      <td>22.81</td>\n",
       "      <td>M</td>\n",
       "      <td>38</td>\n",
       "      <td>M32-38</td>\n",
       "      <td>18</td>\n",
       "      <td>3</td>\n",
       "      <td>2</td>\n",
       "      <td>1</td>\n",
       "      <td>0</td>\n",
       "      <td>30</td>\n",
       "    </tr>\n",
       "    <tr>\n",
       "      <th>1215588</th>\n",
       "      <td>3244943</td>\n",
       "      <td>-952607018636839949</td>\n",
       "      <td>2016-05-03 19:18:54</td>\n",
       "      <td>0.00</td>\n",
       "      <td>0.00</td>\n",
       "      <td>M</td>\n",
       "      <td>30</td>\n",
       "      <td>M29-31</td>\n",
       "      <td>19</td>\n",
       "      <td>3</td>\n",
       "      <td>2</td>\n",
       "      <td>1</td>\n",
       "      <td>0</td>\n",
       "      <td>30</td>\n",
       "    </tr>\n",
       "    <tr>\n",
       "      <th>1215589</th>\n",
       "      <td>3249176</td>\n",
       "      <td>-1012891494460290453</td>\n",
       "      <td>2016-05-06 21:16:29</td>\n",
       "      <td>0.00</td>\n",
       "      <td>0.00</td>\n",
       "      <td>M</td>\n",
       "      <td>36</td>\n",
       "      <td>M32-38</td>\n",
       "      <td>21</td>\n",
       "      <td>6</td>\n",
       "      <td>5</td>\n",
       "      <td>1</td>\n",
       "      <td>0</td>\n",
       "      <td>30</td>\n",
       "    </tr>\n",
       "    <tr>\n",
       "      <th>1215590</th>\n",
       "      <td>3249513</td>\n",
       "      <td>4374492668099697484</td>\n",
       "      <td>2016-05-07 21:46:56</td>\n",
       "      <td>0.00</td>\n",
       "      <td>0.00</td>\n",
       "      <td>M</td>\n",
       "      <td>18</td>\n",
       "      <td>M22-</td>\n",
       "      <td>21</td>\n",
       "      <td>7</td>\n",
       "      <td>6</td>\n",
       "      <td>0</td>\n",
       "      <td>0</td>\n",
       "      <td>10</td>\n",
       "    </tr>\n",
       "    <tr>\n",
       "      <th>1215591</th>\n",
       "      <td>3249757</td>\n",
       "      <td>-348628281270381461</td>\n",
       "      <td>2016-05-01 22:22:39</td>\n",
       "      <td>0.00</td>\n",
       "      <td>0.00</td>\n",
       "      <td>M</td>\n",
       "      <td>21</td>\n",
       "      <td>M22-</td>\n",
       "      <td>22</td>\n",
       "      <td>1</td>\n",
       "      <td>7</td>\n",
       "      <td>1</td>\n",
       "      <td>0</td>\n",
       "      <td>20</td>\n",
       "    </tr>\n",
       "    <tr>\n",
       "      <th>1215592</th>\n",
       "      <td>3250919</td>\n",
       "      <td>-634925280832154541</td>\n",
       "      <td>2016-05-06 22:09:44</td>\n",
       "      <td>0.00</td>\n",
       "      <td>0.00</td>\n",
       "      <td>M</td>\n",
       "      <td>49</td>\n",
       "      <td>M39+</td>\n",
       "      <td>22</td>\n",
       "      <td>6</td>\n",
       "      <td>5</td>\n",
       "      <td>1</td>\n",
       "      <td>0</td>\n",
       "      <td>40</td>\n",
       "    </tr>\n",
       "    <tr>\n",
       "      <th>1215593</th>\n",
       "      <td>3251114</td>\n",
       "      <td>2390927717095168323</td>\n",
       "      <td>2016-05-07 22:49:00</td>\n",
       "      <td>0.00</td>\n",
       "      <td>0.00</td>\n",
       "      <td>M</td>\n",
       "      <td>26</td>\n",
       "      <td>M23-26</td>\n",
       "      <td>22</td>\n",
       "      <td>7</td>\n",
       "      <td>6</td>\n",
       "      <td>1</td>\n",
       "      <td>0</td>\n",
       "      <td>20</td>\n",
       "    </tr>\n",
       "    <tr>\n",
       "      <th>1215594</th>\n",
       "      <td>3251686</td>\n",
       "      <td>-1184626127904161598</td>\n",
       "      <td>2016-05-03 23:33:02</td>\n",
       "      <td>0.00</td>\n",
       "      <td>0.00</td>\n",
       "      <td>F</td>\n",
       "      <td>20</td>\n",
       "      <td>F23-</td>\n",
       "      <td>23</td>\n",
       "      <td>3</td>\n",
       "      <td>2</td>\n",
       "      <td>1</td>\n",
       "      <td>0</td>\n",
       "      <td>20</td>\n",
       "    </tr>\n",
       "  </tbody>\n",
       "</table>\n",
       "<p>1215595 rows × 14 columns</p>\n",
       "</div>"
      ],
      "text/plain": [
       "         event_id            device_id           timestamp  longitude  \\\n",
       "0               1    29182687948017175 2016-05-01 00:55:25     121.38   \n",
       "1            7104    29182687948017175 2016-05-02 09:37:02     121.38   \n",
       "2           29661    29182687948017175 2016-05-04 00:56:04     121.39   \n",
       "3           33133    29182687948017175 2016-05-06 05:01:15     121.38   \n",
       "4           38980    29182687948017175 2016-05-06 09:55:04     121.16   \n",
       "5           66398    29182687948017175 2016-05-01 01:56:06     121.38   \n",
       "6           70894    29182687948017175 2016-05-06 01:14:46     121.38   \n",
       "7           87185    29182687948017175 2016-05-01 09:20:01     121.38   \n",
       "8           94644    29182687948017175 2016-05-07 07:16:35     121.38   \n",
       "9          110018    29182687948017175 2016-05-06 21:00:40     121.38   \n",
       "10         120190    29182687948017175 2016-05-02 00:20:38     121.38   \n",
       "11         120191    29182687948017175 2016-05-02 00:21:03     121.38   \n",
       "12         162735    29182687948017175 2016-05-04 02:19:36     121.39   \n",
       "13         184478    29182687948017175 2016-05-05 19:14:09       0.00   \n",
       "14         191673    29182687948017175 2016-05-01 05:24:36     121.38   \n",
       "15         217601    29182687948017175 2016-05-03 06:55:14       0.00   \n",
       "16         273512    29182687948017175 2016-05-02 09:35:49     121.38   \n",
       "17         273615    29182687948017175 2016-05-02 09:31:50     121.38   \n",
       "18         292765    29182687948017175 2016-05-06 00:09:45     121.38   \n",
       "19         293807    29182687948017175 2016-05-01 02:53:31     121.38   \n",
       "20         296013    29182687948017175 2016-05-01 06:12:21     121.38   \n",
       "21         298586    29182687948017175 2016-05-07 07:34:40     121.38   \n",
       "22         328924    29182687948017175 2016-05-06 06:00:33     121.38   \n",
       "23         337996    29182687948017175 2016-05-03 02:45:18     121.38   \n",
       "24         339549    29182687948017175 2016-05-06 05:34:04     121.38   \n",
       "25         339629    29182687948017175 2016-05-01 06:21:24     121.38   \n",
       "26         361483    29182687948017175 2016-05-05 20:08:49       0.00   \n",
       "27         388598    29182687948017175 2016-05-06 21:01:47     121.38   \n",
       "28         403384    29182687948017175 2016-05-01 06:03:04     121.38   \n",
       "29         406579    29182687948017175 2016-05-01 09:05:22     121.38   \n",
       "...           ...                  ...                 ...        ...   \n",
       "1215565   3215379  1159668935158019744 2016-05-01 23:48:25       0.00   \n",
       "1215566   3216564 -3242071858053414185 2016-05-07 23:47:19       0.00   \n",
       "1215567   3217750  7321248226775781541 2016-05-01 22:25:00       0.00   \n",
       "1215568   3218829 -5519740765351759075 2016-05-01 22:59:41       0.00   \n",
       "1215569   3219114 -5608256777778664777 2016-05-05 23:32:34     102.52   \n",
       "1215570   3219423 -1285152434574825882 2016-05-07 23:34:17       0.00   \n",
       "1215571   3219642 -5351149996525759107 2016-05-01 01:00:19       0.00   \n",
       "1215572   3219939 -1636404312341089367 2016-05-03 00:12:22       0.00   \n",
       "1215573   3225387  3557849864919163609 2016-05-03 07:36:50       0.00   \n",
       "1215574   3225877 -9171634610175383030 2016-05-05 07:18:17       0.00   \n",
       "1215575   3228823 -4556680690105063633 2016-05-05 09:12:43       0.00   \n",
       "1215576   3229069  1681145581062616021 2016-05-06 09:26:20       0.00   \n",
       "1215577   3229491 -8283967910318754940 2016-05-01 10:14:16       0.00   \n",
       "1215578   3232768 -2011883897776725841 2016-05-06 11:51:26       0.00   \n",
       "1215579   3234575 -3242445506062353451 2016-05-06 12:43:44       0.00   \n",
       "1215580   3234822  -567217566896647598 2016-05-01 13:29:45       0.00   \n",
       "1215581   3237260 -5582647400069933573 2016-05-05 14:18:24       0.00   \n",
       "1215582   3237996 -4995582150385717109 2016-05-03 15:31:21       0.00   \n",
       "1215583   3238608  1594355661583887272 2016-05-06 15:51:38     118.18   \n",
       "1215584   3240035  8501488025560071182 2016-05-05 16:26:27       0.00   \n",
       "1215585   3242867  9062224834222300991 2016-05-02 18:03:32       0.00   \n",
       "1215586   3242869 -4721537041481084817 2016-05-02 18:08:54       0.00   \n",
       "1215587   3242958  -842356346022684204 2016-05-03 18:35:38     108.40   \n",
       "1215588   3244943  -952607018636839949 2016-05-03 19:18:54       0.00   \n",
       "1215589   3249176 -1012891494460290453 2016-05-06 21:16:29       0.00   \n",
       "1215590   3249513  4374492668099697484 2016-05-07 21:46:56       0.00   \n",
       "1215591   3249757  -348628281270381461 2016-05-01 22:22:39       0.00   \n",
       "1215592   3250919  -634925280832154541 2016-05-06 22:09:44       0.00   \n",
       "1215593   3251114  2390927717095168323 2016-05-07 22:49:00       0.00   \n",
       "1215594   3251686 -1184626127904161598 2016-05-03 23:33:02       0.00   \n",
       "\n",
       "         latitude gender  age   group  hour  day  dayofweek  Adult  \\\n",
       "0           31.24      M   46    M39+     0    1          7      1   \n",
       "1           31.24      M   46    M39+     9    2          1      1   \n",
       "2           31.23      M   46    M39+     0    4          3      1   \n",
       "3           31.24      M   46    M39+     5    6          5      1   \n",
       "4           31.00      M   46    M39+     9    6          5      1   \n",
       "5           31.24      M   46    M39+     1    1          7      1   \n",
       "6           31.24      M   46    M39+     1    6          5      1   \n",
       "7           31.24      M   46    M39+     9    1          7      1   \n",
       "8           31.24      M   46    M39+     7    7          6      1   \n",
       "9           31.24      M   46    M39+    21    6          5      1   \n",
       "10          31.24      M   46    M39+     0    2          1      1   \n",
       "11          31.24      M   46    M39+     0    2          1      1   \n",
       "12          31.23      M   46    M39+     2    4          3      1   \n",
       "13           0.00      M   46    M39+    19    5          4      1   \n",
       "14          31.24      M   46    M39+     5    1          7      1   \n",
       "15           0.00      M   46    M39+     6    3          2      1   \n",
       "16          31.24      M   46    M39+     9    2          1      1   \n",
       "17          31.24      M   46    M39+     9    2          1      1   \n",
       "18          31.24      M   46    M39+     0    6          5      1   \n",
       "19          31.24      M   46    M39+     2    1          7      1   \n",
       "20          31.24      M   46    M39+     6    1          7      1   \n",
       "21          31.24      M   46    M39+     7    7          6      1   \n",
       "22          31.24      M   46    M39+     6    6          5      1   \n",
       "23          31.24      M   46    M39+     2    3          2      1   \n",
       "24          31.24      M   46    M39+     5    6          5      1   \n",
       "25          31.24      M   46    M39+     6    1          7      1   \n",
       "26           0.00      M   46    M39+    20    5          4      1   \n",
       "27          31.24      M   46    M39+    21    6          5      1   \n",
       "28          31.24      M   46    M39+     6    1          7      1   \n",
       "29          31.24      M   46    M39+     9    1          7      1   \n",
       "...           ...    ...  ...     ...   ...  ...        ...    ...   \n",
       "1215565      0.00      F   26  F24-26    23    1          7      1   \n",
       "1215566      0.00      F   34  F33-42    23    7          6      1   \n",
       "1215567      0.00      M   27  M27-28    22    1          7      1   \n",
       "1215568      0.00      F   27  F27-28    22    1          7      1   \n",
       "1215569     24.34      M   26  M23-26    23    5          4      1   \n",
       "1215570      0.00      F   34  F33-42    23    7          6      1   \n",
       "1215571      0.00      M   35  M32-38     1    1          7      1   \n",
       "1215572      0.00      F   20    F23-     0    3          2      1   \n",
       "1215573      0.00      M   26  M23-26     7    3          2      1   \n",
       "1215574      0.00      M   31  M29-31     7    5          4      1   \n",
       "1215575      0.00      M   45    M39+     9    5          4      1   \n",
       "1215576      0.00      F   34  F33-42     9    6          5      1   \n",
       "1215577      0.00      F   19    F23-    10    1          7      1   \n",
       "1215578      0.00      M   26  M23-26    11    6          5      1   \n",
       "1215579      0.00      M   31  M29-31    12    6          5      1   \n",
       "1215580      0.00      M   27  M27-28    13    1          7      1   \n",
       "1215581      0.00      M   20    M22-    14    5          4      1   \n",
       "1215582      0.00      M   23  M23-26    15    3          2      1   \n",
       "1215583     24.63      M   27  M27-28    15    6          5      1   \n",
       "1215584      0.00      F   50    F43+    16    5          4      1   \n",
       "1215585      0.00      F   27  F27-28    18    2          1      1   \n",
       "1215586      0.00      F   27  F27-28    18    2          1      1   \n",
       "1215587     22.81      M   38  M32-38    18    3          2      1   \n",
       "1215588      0.00      M   30  M29-31    19    3          2      1   \n",
       "1215589      0.00      M   36  M32-38    21    6          5      1   \n",
       "1215590      0.00      M   18    M22-    21    7          6      0   \n",
       "1215591      0.00      M   21    M22-    22    1          7      1   \n",
       "1215592      0.00      M   49    M39+    22    6          5      1   \n",
       "1215593      0.00      M   26  M23-26    22    7          6      1   \n",
       "1215594      0.00      F   20    F23-    23    3          2      1   \n",
       "\n",
       "         Middle_Age  AgeGroup  \n",
       "0                 0        40  \n",
       "1                 0        40  \n",
       "2                 0        40  \n",
       "3                 0        40  \n",
       "4                 0        40  \n",
       "5                 0        40  \n",
       "6                 0        40  \n",
       "7                 0        40  \n",
       "8                 0        40  \n",
       "9                 0        40  \n",
       "10                0        40  \n",
       "11                0        40  \n",
       "12                0        40  \n",
       "13                0        40  \n",
       "14                1        40  \n",
       "15                0        40  \n",
       "16                0        40  \n",
       "17                0        40  \n",
       "18                1        40  \n",
       "19                0        40  \n",
       "20                0        40  \n",
       "21                0        40  \n",
       "22                0        40  \n",
       "23                0        40  \n",
       "24                0        40  \n",
       "25                0        40  \n",
       "26                0        40  \n",
       "27                0        40  \n",
       "28                0        40  \n",
       "29                0        40  \n",
       "...             ...       ...  \n",
       "1215565           0        20  \n",
       "1215566           0        30  \n",
       "1215567           0        20  \n",
       "1215568           0        20  \n",
       "1215569           0        20  \n",
       "1215570           0        30  \n",
       "1215571           0        30  \n",
       "1215572           0        20  \n",
       "1215573           0        20  \n",
       "1215574           0        30  \n",
       "1215575           0        40  \n",
       "1215576           0        30  \n",
       "1215577           0        10  \n",
       "1215578           0        20  \n",
       "1215579           0        30  \n",
       "1215580           0        20  \n",
       "1215581           0        20  \n",
       "1215582           0        20  \n",
       "1215583           0        20  \n",
       "1215584           0        50  \n",
       "1215585           0        20  \n",
       "1215586           0        20  \n",
       "1215587           0        30  \n",
       "1215588           0        30  \n",
       "1215589           0        30  \n",
       "1215590           0        10  \n",
       "1215591           0        20  \n",
       "1215592           0        40  \n",
       "1215593           0        20  \n",
       "1215594           0        20  \n",
       "\n",
       "[1215595 rows x 14 columns]"
      ]
     },
     "execution_count": 43,
     "metadata": {},
     "output_type": "execute_result"
    }
   ],
   "source": [
    "# re-format timestamp column to datetime format in order to get other time attributes later\n",
    "event_new.timestamp = event_new.timestamp.apply(pd.to_datetime)\n",
    "event_new['hour'] = event_new['timestamp'].dt.hour\n",
    "event_new['day'] = event_new['timestamp'].dt.day\n",
    "event_new['dayofweek'] = event_new['timestamp'].dt.dayofweek+1\n",
    "event_new['Adult'] = np.where(event_new.age<=18,0,1)\n",
    "event_new['Middle_Age'] = np.where((event_new.age<=65) & (df.age>=45),1,0)\n",
    "event_new['AgeGroup'] = event_new.age//10*10\n",
    "event_new"
   ]
  },
  {
   "cell_type": "code",
   "execution_count": 44,
   "metadata": {
    "collapsed": false
   },
   "outputs": [
    {
     "name": "stderr",
     "output_type": "stream",
     "text": [
      "C:\\Users\\Felix\\Python\\lib\\site-packages\\ipykernel\\__main__.py:6: FutureWarning: sort(columns=....) is deprecated, use sort_values(by=.....)\n"
     ]
    },
    {
     "data": {
      "text/plain": [
       "<bound method DataFrame.reset_index of      AgeGroup  hour  device_id\n",
       "18         10    18   0.055642\n",
       "12         10    12   0.055420\n",
       "22         10    22   0.054090\n",
       "21         10    21   0.052982\n",
       "13         10    13   0.052760\n",
       "20         10    20   0.052760\n",
       "11         10    11   0.052317\n",
       "23         10    23   0.052317\n",
       "19         10    19   0.051652\n",
       "10         10    10   0.049656\n",
       "9          10     9   0.049213\n",
       "15         10    15   0.046553\n",
       "14         10    14   0.046331\n",
       "17         10    17   0.046331\n",
       "16         10    16   0.044114\n",
       "0          10     0   0.040346\n",
       "8          10     8   0.039902\n",
       "7          10     7   0.039459\n",
       "1          10     1   0.027488\n",
       "6          10     6   0.025493\n",
       "2          10     2   0.020173\n",
       "5          10     5   0.016183\n",
       "3          10     3   0.015518\n",
       "4          10     4   0.013301\n",
       "34         20    10   0.051681\n",
       "36         20    12   0.051394\n",
       "35         20    11   0.051214\n",
       "45         20    21   0.050819\n",
       "44         20    20   0.050232\n",
       "46         20    22   0.050028\n",
       "..        ...   ...        ...\n",
       "144        70     0   0.020067\n",
       "149        70     5   0.018395\n",
       "145        70     1   0.015050\n",
       "147        70     3   0.013378\n",
       "146        70     2   0.011706\n",
       "148        70     4   0.008361\n",
       "189        80    21   0.075862\n",
       "178        80    10   0.068966\n",
       "181        80    13   0.062069\n",
       "188        80    20   0.062069\n",
       "177        80     9   0.055172\n",
       "182        80    14   0.055172\n",
       "179        80    11   0.048276\n",
       "184        80    16   0.048276\n",
       "186        80    18   0.048276\n",
       "174        80     6   0.041379\n",
       "175        80     7   0.041379\n",
       "176        80     8   0.041379\n",
       "185        80    17   0.041379\n",
       "187        80    19   0.041379\n",
       "190        80    22   0.041379\n",
       "191        80    23   0.041379\n",
       "168        80     0   0.034483\n",
       "180        80    12   0.034483\n",
       "183        80    15   0.034483\n",
       "173        80     5   0.027586\n",
       "169        80     1   0.013793\n",
       "170        80     2   0.013793\n",
       "171        80     3   0.013793\n",
       "172        80     4   0.013793\n",
       "\n",
       "[192 rows x 3 columns]>"
      ]
     },
     "execution_count": 44,
     "metadata": {},
     "output_type": "execute_result"
    }
   ],
   "source": [
    "# group by age and hour\n",
    "en = event_new.groupby(['AgeGroup', 'hour']).device_id.nunique()\n",
    "#top_hours = en.groupby(level=0).nlargest(5)\n",
    "en  = pd.DataFrame(en ).reset_index()\n",
    "en  = en.groupby(['AgeGroup','hour'])['device_id'].sum().groupby(level = 0).transform(lambda x: x/x.sum())\n",
    "en  = pd.DataFrame(en).reset_index().sort(['AgeGroup','device_id'], ascending = [True, False])\n",
    "en.groupby('AgeGroup').head(30).reset_index\n"
   ]
  },
  {
   "cell_type": "code",
   "execution_count": 45,
   "metadata": {
    "collapsed": false
   },
   "outputs": [
    {
     "name": "stderr",
     "output_type": "stream",
     "text": [
      "C:\\Users\\Felix\\Python\\lib\\site-packages\\ipykernel\\__main__.py:5: FutureWarning: sort(columns=....) is deprecated, use sort_values(by=.....)\n"
     ]
    },
    {
     "data": {
      "text/plain": [
       "<bound method DataFrame.reset_index of     Adult  hour  device_id\n",
       "18      0    18   0.058155\n",
       "21      0    21   0.056818\n",
       "12      0    12   0.056150\n",
       "13      0    13   0.055481\n",
       "22      0    22   0.055481\n",
       "19      0    19   0.052807\n",
       "23      0    23   0.052139\n",
       "10      0    10   0.050802\n",
       "20      0    20   0.050134\n",
       "11      0    11   0.049465\n",
       "9       0     9   0.046123\n",
       "16      0    16   0.046123\n",
       "17      0    17   0.046123\n",
       "14      0    14   0.044118\n",
       "15      0    15   0.043449\n",
       "0       0     0   0.038770\n",
       "7       0     7   0.037433\n",
       "8       0     8   0.036096\n",
       "6       0     6   0.030080\n",
       "1       0     1   0.026738\n",
       "2       0     2   0.019385\n",
       "5       0     5   0.018717\n",
       "3       0     3   0.015374\n",
       "4       0     4   0.014037\n",
       "34      1    10   0.051776\n",
       "45      1    21   0.051426\n",
       "35      1    11   0.050747\n",
       "36      1    12   0.050613\n",
       "44      1    20   0.050469\n",
       "33      1     9   0.049713\n",
       "43      1    19   0.049702\n",
       "46      1    22   0.048750\n",
       "42      1    18   0.048549\n",
       "37      1    13   0.048539\n",
       "41      1    17   0.048313\n",
       "38      1    14   0.048076\n",
       "32      1     8   0.047731\n",
       "39      1    15   0.047572\n",
       "40      1    16   0.047541\n",
       "31      1     7   0.044257\n",
       "47      1    23   0.042229\n",
       "30      1     6   0.035219\n",
       "24      1     0   0.034715\n",
       "25      1     1   0.025255\n",
       "29      1     5   0.023001\n",
       "26      1     2   0.020381\n",
       "27      1     3   0.018070\n",
       "28      1     4   0.017355>"
      ]
     },
     "execution_count": 45,
     "metadata": {},
     "output_type": "execute_result"
    }
   ],
   "source": [
    "en2 = event_new.groupby(['Adult', 'hour']).device_id.nunique()\n",
    "#top_hours = en.groupby(level=0).nlargest(20)\n",
    "en2  = pd.DataFrame(en2).reset_index()\n",
    "en2  = en2.groupby(['Adult','hour'])['device_id'].sum().groupby(level = 0).transform(lambda x: x/x.sum())\n",
    "en2  = pd.DataFrame(en2).reset_index().sort(['Adult','device_id'], ascending = [True, False])\n",
    "en2.groupby('Adult').head(24).reset_index"
   ]
  },
  {
   "cell_type": "code",
   "execution_count": 46,
   "metadata": {
    "collapsed": false
   },
   "outputs": [
    {
     "data": {
      "image/png": "[encoded data removed]",
      "text/plain": [
       "<matplotlib.figure.Figure at 0x18601549128>"
      ]
     },
     "metadata": {},
     "output_type": "display_data"
    }
   ],
   "source": [
    "import matplotlib.cm as cm\n",
    "a = pd.DataFrame(en2).reset_index()\n",
    "a = a[['Adult','hour', 'device_id']]\n",
    "ag = a.groupby(['Adult','hour']).sum().unstack()\n",
    "ag.columns = ag.columns.droplevel()\n",
    "ag.plot(kind = 'bar', colormap = cm.Accent, width = 0.7)\n",
    "plt.show()"
   ]
  },
  {
   "cell_type": "markdown",
   "metadata": {
    "collapsed": true
   },
   "source": [
    "### Logistic Regression Predict Age-30-Split Based on Phone Brand and App Category\n",
    "\n",
    "* First, downsize Adult Sample Size & upsize Non-Adult group\n",
    "* Logistic Regression\n",
    "* Cross Validation\n",
    "* ROC curve and check AUC"
   ]
  },
  {
   "cell_type": "code",
   "execution_count": 47,
   "metadata": {
    "collapsed": false
   },
   "outputs": [
    {
     "data": {
      "text/plain": [
       "1    1984089\n",
       "0      13492\n",
       "Name: Adult, dtype: int64"
      ]
     },
     "execution_count": 47,
     "metadata": {},
     "output_type": "execute_result"
    }
   ],
   "source": [
    "df_model_base_data = df2\n",
    "df2.Adult.value_counts()"
   ]
  },
  {
   "cell_type": "code",
   "execution_count": 49,
   "metadata": {
    "collapsed": false
   },
   "outputs": [],
   "source": [
    "# Duplicate non-adult group dataframe\n",
    "non_adult = np.array(df2[df2.Adult == 0])\n",
    "non_adult_newsample = pd.DataFrame(pd.np.tile(non_adult, (150, 1)))"
   ]
  },
  {
   "cell_type": "code",
   "execution_count": 50,
   "metadata": {
    "collapsed": false
   },
   "outputs": [],
   "source": [
    "# Consolidate non adult new sample and adult sample to new training sample\n",
    "adult = df2[df2.Adult ==1]\n",
    "all_dfs = [adult, non_adult_newsample]\n",
    "# Give all df's common column names\n",
    "for df_new in all_dfs:\n",
    "    df_new.columns = ['device_id', 'gender', 'age', 'group', 'phone_brand', 'device_model', 'Brand_Model', 'Adult', \n",
    "                     'Middle_Age', 'AgeGroup', 'app_id', 'label_id', 'category']\n",
    "\n",
    "df_model_base_data = pd.concat(all_dfs).reset_index(drop=True)"
   ]
  },
  {
   "cell_type": "code",
   "execution_count": 52,
   "metadata": {
    "collapsed": true
   },
   "outputs": [],
   "source": [
    "# Create dummy variables for each feature\n",
    "df_model_base_data['Samsung_Brand'] = np.where(df_model_base_data.phone_brand=='三星',1, 0)\n",
    "df_model_base_data['Kupai_Brand'] = np.where(df_model_base_data.phone_brand=='酷派',1, 0)\n",
    "df_model_base_data['Liquid_medium'] = np.where(df_model_base_data.category =='Liquid medium',1, 0)\n",
    "df_model_base_data['Low_income'] = np.where(df_model_base_data.category =='Low income',1, 0)\n",
    "df_model_base_data['Low_liquidity'] = np.where(df_model_base_data.category =='Low liquidity',1, 0)\n",
    "df_model_base_data['P2P_net_loan'] = np.where(df_model_base_data.category =='P2P net loan',1, 0)\n",
    "df_model_base_data['show'] = np.where(df_model_base_data.category =='show',1, 0)\n",
    "df_model_base_data['Science_Technology'] = np.where(df_model_base_data.category =='Science and Technology 1',1, 0)\n",
    "df_model_base_data['Adult_Flag'] = np.where(df_model_base_data.age >=18 ,1, 0)"
   ]
  },
  {
   "cell_type": "code",
   "execution_count": 53,
   "metadata": {
    "collapsed": false
   },
   "outputs": [
    {
     "data": {
      "text/html": [
       "<div>\n",
       "<table border=\"1\" class=\"dataframe\">\n",
       "  <thead>\n",
       "    <tr style=\"text-align: right;\">\n",
       "      <th></th>\n",
       "      <th>device_id</th>\n",
       "      <th>gender</th>\n",
       "      <th>age</th>\n",
       "      <th>group</th>\n",
       "      <th>phone_brand</th>\n",
       "      <th>device_model</th>\n",
       "      <th>Brand_Model</th>\n",
       "      <th>Adult</th>\n",
       "      <th>Middle_Age</th>\n",
       "      <th>AgeGroup</th>\n",
       "      <th>...</th>\n",
       "      <th>category</th>\n",
       "      <th>Samsung_Brand</th>\n",
       "      <th>Kupai_Brand</th>\n",
       "      <th>Liquid_medium</th>\n",
       "      <th>Low_income</th>\n",
       "      <th>Low_liquidity</th>\n",
       "      <th>P2P_net_loan</th>\n",
       "      <th>show</th>\n",
       "      <th>Science_Technology</th>\n",
       "      <th>Adult_Flag</th>\n",
       "    </tr>\n",
       "  </thead>\n",
       "  <tbody>\n",
       "    <tr>\n",
       "      <th>0</th>\n",
       "      <td>-8260683887967679142</td>\n",
       "      <td>M</td>\n",
       "      <td>35</td>\n",
       "      <td>M32-38</td>\n",
       "      <td>小米</td>\n",
       "      <td>MI 2</td>\n",
       "      <td>小米,MI 2</td>\n",
       "      <td>1</td>\n",
       "      <td>0</td>\n",
       "      <td>30</td>\n",
       "      <td>...</td>\n",
       "      <td>Property Industry 1.0</td>\n",
       "      <td>0</td>\n",
       "      <td>0</td>\n",
       "      <td>0</td>\n",
       "      <td>0</td>\n",
       "      <td>0</td>\n",
       "      <td>0</td>\n",
       "      <td>0</td>\n",
       "      <td>0</td>\n",
       "      <td>1</td>\n",
       "    </tr>\n",
       "    <tr>\n",
       "      <th>1</th>\n",
       "      <td>-8260683887967679142</td>\n",
       "      <td>M</td>\n",
       "      <td>35</td>\n",
       "      <td>M32-38</td>\n",
       "      <td>小米</td>\n",
       "      <td>MI 2</td>\n",
       "      <td>小米,MI 2</td>\n",
       "      <td>1</td>\n",
       "      <td>0</td>\n",
       "      <td>30</td>\n",
       "      <td>...</td>\n",
       "      <td>Property Industry 1.0</td>\n",
       "      <td>0</td>\n",
       "      <td>0</td>\n",
       "      <td>0</td>\n",
       "      <td>0</td>\n",
       "      <td>0</td>\n",
       "      <td>0</td>\n",
       "      <td>0</td>\n",
       "      <td>0</td>\n",
       "      <td>1</td>\n",
       "    </tr>\n",
       "    <tr>\n",
       "      <th>2</th>\n",
       "      <td>-8260683887967679142</td>\n",
       "      <td>M</td>\n",
       "      <td>35</td>\n",
       "      <td>M32-38</td>\n",
       "      <td>小米</td>\n",
       "      <td>MI 2</td>\n",
       "      <td>小米,MI 2</td>\n",
       "      <td>1</td>\n",
       "      <td>0</td>\n",
       "      <td>30</td>\n",
       "      <td>...</td>\n",
       "      <td>Property Industry 1.0</td>\n",
       "      <td>0</td>\n",
       "      <td>0</td>\n",
       "      <td>0</td>\n",
       "      <td>0</td>\n",
       "      <td>0</td>\n",
       "      <td>0</td>\n",
       "      <td>0</td>\n",
       "      <td>0</td>\n",
       "      <td>1</td>\n",
       "    </tr>\n",
       "    <tr>\n",
       "      <th>3</th>\n",
       "      <td>-8260683887967679142</td>\n",
       "      <td>M</td>\n",
       "      <td>35</td>\n",
       "      <td>M32-38</td>\n",
       "      <td>小米</td>\n",
       "      <td>MI 2</td>\n",
       "      <td>小米,MI 2</td>\n",
       "      <td>1</td>\n",
       "      <td>0</td>\n",
       "      <td>30</td>\n",
       "      <td>...</td>\n",
       "      <td>Personal Effectiveness 1</td>\n",
       "      <td>0</td>\n",
       "      <td>0</td>\n",
       "      <td>0</td>\n",
       "      <td>0</td>\n",
       "      <td>0</td>\n",
       "      <td>0</td>\n",
       "      <td>0</td>\n",
       "      <td>0</td>\n",
       "      <td>1</td>\n",
       "    </tr>\n",
       "    <tr>\n",
       "      <th>4</th>\n",
       "      <td>-8260683887967679142</td>\n",
       "      <td>M</td>\n",
       "      <td>35</td>\n",
       "      <td>M32-38</td>\n",
       "      <td>小米</td>\n",
       "      <td>MI 2</td>\n",
       "      <td>小米,MI 2</td>\n",
       "      <td>1</td>\n",
       "      <td>0</td>\n",
       "      <td>30</td>\n",
       "      <td>...</td>\n",
       "      <td>Property Industry 2.0</td>\n",
       "      <td>0</td>\n",
       "      <td>0</td>\n",
       "      <td>0</td>\n",
       "      <td>0</td>\n",
       "      <td>0</td>\n",
       "      <td>0</td>\n",
       "      <td>0</td>\n",
       "      <td>0</td>\n",
       "      <td>1</td>\n",
       "    </tr>\n",
       "  </tbody>\n",
       "</table>\n",
       "<p>5 rows × 22 columns</p>\n",
       "</div>"
      ],
      "text/plain": [
       "              device_id gender age   group phone_brand device_model  \\\n",
       "0  -8260683887967679142      M  35  M32-38          小米         MI 2   \n",
       "1  -8260683887967679142      M  35  M32-38          小米         MI 2   \n",
       "2  -8260683887967679142      M  35  M32-38          小米         MI 2   \n",
       "3  -8260683887967679142      M  35  M32-38          小米         MI 2   \n",
       "4  -8260683887967679142      M  35  M32-38          小米         MI 2   \n",
       "\n",
       "  Brand_Model Adult Middle_Age AgeGroup     ...                      category  \\\n",
       "0     小米,MI 2     1          0       30     ...         Property Industry 1.0   \n",
       "1     小米,MI 2     1          0       30     ...         Property Industry 1.0   \n",
       "2     小米,MI 2     1          0       30     ...         Property Industry 1.0   \n",
       "3     小米,MI 2     1          0       30     ...      Personal Effectiveness 1   \n",
       "4     小米,MI 2     1          0       30     ...         Property Industry 2.0   \n",
       "\n",
       "  Samsung_Brand Kupai_Brand  Liquid_medium  Low_income  Low_liquidity  \\\n",
       "0             0           0              0           0              0   \n",
       "1             0           0              0           0              0   \n",
       "2             0           0              0           0              0   \n",
       "3             0           0              0           0              0   \n",
       "4             0           0              0           0              0   \n",
       "\n",
       "   P2P_net_loan  show  Science_Technology  Adult_Flag  \n",
       "0             0     0                   0           1  \n",
       "1             0     0                   0           1  \n",
       "2             0     0                   0           1  \n",
       "3             0     0                   0           1  \n",
       "4             0     0                   0           1  \n",
       "\n",
       "[5 rows x 22 columns]"
      ]
     },
     "execution_count": 53,
     "metadata": {},
     "output_type": "execute_result"
    }
   ],
   "source": [
    "df_model_base_data.head()"
   ]
  },
  {
   "cell_type": "code",
   "execution_count": 54,
   "metadata": {
    "collapsed": false
   },
   "outputs": [
    {
     "name": "stderr",
     "output_type": "stream",
     "text": [
      "C:\\Users\\Felix\\Python\\lib\\site-packages\\ipykernel\\__main__.py:5: SettingWithCopyWarning: \n",
      "A value is trying to be set on a copy of a slice from a DataFrame.\n",
      "Try using .loc[row_indexer,col_indexer] = value instead\n",
      "\n",
      "See the caveats in the documentation: http://pandas.pydata.org/pandas-docs/stable/indexing.html#indexing-view-versus-copy\n"
     ]
    }
   ],
   "source": [
    "# Keep all useful columns\n",
    "df_model_base_data_New = df_model_base_data[['Adult_Flag', 'Samsung_Brand', 'Kupai_Brand', 'Liquid_medium', 'Low_income', 'Low_liquidity', \n",
    "                                            'P2P_net_loan', 'show', 'Science_Technology']]\n",
    "# manually add the intercept\n",
    "df_model_base_data_New['intercept'] = 1"
   ]
  },
  {
   "cell_type": "code",
   "execution_count": 55,
   "metadata": {
    "collapsed": false
   },
   "outputs": [
    {
     "data": {
      "text/html": [
       "<div>\n",
       "<table border=\"1\" class=\"dataframe\">\n",
       "  <thead>\n",
       "    <tr style=\"text-align: right;\">\n",
       "      <th></th>\n",
       "      <th>Adult_Flag</th>\n",
       "      <th>Samsung_Brand</th>\n",
       "      <th>Kupai_Brand</th>\n",
       "      <th>Liquid_medium</th>\n",
       "      <th>Low_income</th>\n",
       "      <th>Low_liquidity</th>\n",
       "      <th>P2P_net_loan</th>\n",
       "      <th>show</th>\n",
       "      <th>Science_Technology</th>\n",
       "      <th>intercept</th>\n",
       "    </tr>\n",
       "  </thead>\n",
       "  <tbody>\n",
       "    <tr>\n",
       "      <th>0</th>\n",
       "      <td>1</td>\n",
       "      <td>0</td>\n",
       "      <td>0</td>\n",
       "      <td>0</td>\n",
       "      <td>0</td>\n",
       "      <td>0</td>\n",
       "      <td>0</td>\n",
       "      <td>0</td>\n",
       "      <td>0</td>\n",
       "      <td>1</td>\n",
       "    </tr>\n",
       "    <tr>\n",
       "      <th>1</th>\n",
       "      <td>1</td>\n",
       "      <td>0</td>\n",
       "      <td>0</td>\n",
       "      <td>0</td>\n",
       "      <td>0</td>\n",
       "      <td>0</td>\n",
       "      <td>0</td>\n",
       "      <td>0</td>\n",
       "      <td>0</td>\n",
       "      <td>1</td>\n",
       "    </tr>\n",
       "    <tr>\n",
       "      <th>2</th>\n",
       "      <td>1</td>\n",
       "      <td>0</td>\n",
       "      <td>0</td>\n",
       "      <td>0</td>\n",
       "      <td>0</td>\n",
       "      <td>0</td>\n",
       "      <td>0</td>\n",
       "      <td>0</td>\n",
       "      <td>0</td>\n",
       "      <td>1</td>\n",
       "    </tr>\n",
       "    <tr>\n",
       "      <th>3</th>\n",
       "      <td>1</td>\n",
       "      <td>0</td>\n",
       "      <td>0</td>\n",
       "      <td>0</td>\n",
       "      <td>0</td>\n",
       "      <td>0</td>\n",
       "      <td>0</td>\n",
       "      <td>0</td>\n",
       "      <td>0</td>\n",
       "      <td>1</td>\n",
       "    </tr>\n",
       "    <tr>\n",
       "      <th>4</th>\n",
       "      <td>1</td>\n",
       "      <td>0</td>\n",
       "      <td>0</td>\n",
       "      <td>0</td>\n",
       "      <td>0</td>\n",
       "      <td>0</td>\n",
       "      <td>0</td>\n",
       "      <td>0</td>\n",
       "      <td>0</td>\n",
       "      <td>1</td>\n",
       "    </tr>\n",
       "  </tbody>\n",
       "</table>\n",
       "</div>"
      ],
      "text/plain": [
       "   Adult_Flag  Samsung_Brand  Kupai_Brand  Liquid_medium  Low_income  \\\n",
       "0           1              0            0              0           0   \n",
       "1           1              0            0              0           0   \n",
       "2           1              0            0              0           0   \n",
       "3           1              0            0              0           0   \n",
       "4           1              0            0              0           0   \n",
       "\n",
       "   Low_liquidity  P2P_net_loan  show  Science_Technology  intercept  \n",
       "0              0             0     0                   0          1  \n",
       "1              0             0     0                   0          1  \n",
       "2              0             0     0                   0          1  \n",
       "3              0             0     0                   0          1  \n",
       "4              0             0     0                   0          1  "
      ]
     },
     "execution_count": 55,
     "metadata": {},
     "output_type": "execute_result"
    }
   ],
   "source": [
    "df_model_base_data_New.head()"
   ]
  },
  {
   "cell_type": "code",
   "execution_count": 75,
   "metadata": {
    "collapsed": false
   },
   "outputs": [],
   "source": [
    "train_cols = df_model_base_data_New.iloc[:,1:7]"
   ]
  },
  {
   "cell_type": "code",
   "execution_count": 76,
   "metadata": {
    "collapsed": false
   },
   "outputs": [
    {
     "data": {
      "text/html": [
       "<div>\n",
       "<table border=\"1\" class=\"dataframe\">\n",
       "  <thead>\n",
       "    <tr style=\"text-align: right;\">\n",
       "      <th></th>\n",
       "      <th>Samsung_Brand</th>\n",
       "      <th>Kupai_Brand</th>\n",
       "      <th>Liquid_medium</th>\n",
       "      <th>Low_income</th>\n",
       "      <th>Low_liquidity</th>\n",
       "      <th>P2P_net_loan</th>\n",
       "    </tr>\n",
       "  </thead>\n",
       "  <tbody>\n",
       "    <tr>\n",
       "      <th>0</th>\n",
       "      <td>0</td>\n",
       "      <td>0</td>\n",
       "      <td>0</td>\n",
       "      <td>0</td>\n",
       "      <td>0</td>\n",
       "      <td>0</td>\n",
       "    </tr>\n",
       "    <tr>\n",
       "      <th>1</th>\n",
       "      <td>0</td>\n",
       "      <td>0</td>\n",
       "      <td>0</td>\n",
       "      <td>0</td>\n",
       "      <td>0</td>\n",
       "      <td>0</td>\n",
       "    </tr>\n",
       "    <tr>\n",
       "      <th>2</th>\n",
       "      <td>0</td>\n",
       "      <td>0</td>\n",
       "      <td>0</td>\n",
       "      <td>0</td>\n",
       "      <td>0</td>\n",
       "      <td>0</td>\n",
       "    </tr>\n",
       "    <tr>\n",
       "      <th>3</th>\n",
       "      <td>0</td>\n",
       "      <td>0</td>\n",
       "      <td>0</td>\n",
       "      <td>0</td>\n",
       "      <td>0</td>\n",
       "      <td>0</td>\n",
       "    </tr>\n",
       "    <tr>\n",
       "      <th>4</th>\n",
       "      <td>0</td>\n",
       "      <td>0</td>\n",
       "      <td>0</td>\n",
       "      <td>0</td>\n",
       "      <td>0</td>\n",
       "      <td>0</td>\n",
       "    </tr>\n",
       "  </tbody>\n",
       "</table>\n",
       "</div>"
      ],
      "text/plain": [
       "   Samsung_Brand  Kupai_Brand  Liquid_medium  Low_income  Low_liquidity  \\\n",
       "0              0            0              0           0              0   \n",
       "1              0            0              0           0              0   \n",
       "2              0            0              0           0              0   \n",
       "3              0            0              0           0              0   \n",
       "4              0            0              0           0              0   \n",
       "\n",
       "   P2P_net_loan  \n",
       "0             0  \n",
       "1             0  \n",
       "2             0  \n",
       "3             0  \n",
       "4             0  "
      ]
     },
     "execution_count": 76,
     "metadata": {},
     "output_type": "execute_result"
    }
   ],
   "source": [
    "train_cols.head()"
   ]
  },
  {
   "cell_type": "code",
   "execution_count": 77,
   "metadata": {
    "collapsed": false
   },
   "outputs": [
    {
     "data": {
      "text/plain": [
       "0    3972660\n",
       "1      35229\n",
       "Name: Liquid_medium, dtype: int64"
      ]
     },
     "execution_count": 77,
     "metadata": {},
     "output_type": "execute_result"
    }
   ],
   "source": [
    "train_cols.Liquid_medium.value_counts()"
   ]
  },
  {
   "cell_type": "code",
   "execution_count": 78,
   "metadata": {
    "collapsed": false
   },
   "outputs": [
    {
     "name": "stdout",
     "output_type": "stream",
     "text": [
      "(3005916, 6)\n",
      "(1001973, 6)\n",
      "(3005916,)\n",
      "(1001973,)\n"
     ]
    }
   ],
   "source": [
    "X_train, X_test, Y_train, Y_test = sklearn.model_selection.train_test_split(\n",
    "    train_cols, df_model_base_data_New.Adult_Flag, test_size=0.25, random_state = 5)\n",
    "print (X_train.shape)\n",
    "print (X_test.shape)\n",
    "print (Y_train.shape)\n",
    "print (Y_test.shape)"
   ]
  },
  {
   "cell_type": "code",
   "execution_count": 79,
   "metadata": {
    "collapsed": false
   },
   "outputs": [],
   "source": [
    "Y_train = pd.DataFrame(Y_train)\n",
    "Y_test = pd.DataFrame(Y_test)"
   ]
  },
  {
   "cell_type": "code",
   "execution_count": 80,
   "metadata": {
    "collapsed": false
   },
   "outputs": [
    {
     "data": {
      "text/plain": [
       "Adult_Flag            int32\n",
       "Samsung_Brand         int32\n",
       "Kupai_Brand           int32\n",
       "Liquid_medium         int32\n",
       "Low_income            int32\n",
       "Low_liquidity         int32\n",
       "P2P_net_loan          int32\n",
       "show                  int32\n",
       "Science_Technology    int32\n",
       "intercept             int64\n",
       "dtype: object"
      ]
     },
     "execution_count": 80,
     "metadata": {},
     "output_type": "execute_result"
    }
   ],
   "source": [
    "df_model_base_data_New.dtypes"
   ]
  },
  {
   "cell_type": "code",
   "execution_count": 81,
   "metadata": {
    "collapsed": false
   },
   "outputs": [
    {
     "name": "stderr",
     "output_type": "stream",
     "text": [
      "C:\\Users\\Felix\\Python\\lib\\site-packages\\sklearn\\utils\\validation.py:526: DataConversionWarning: A column-vector y was passed when a 1d array was expected. Please change the shape of y to (n_samples, ), for example using ravel().\n",
      "  y = column_or_1d(y, warn=True)\n"
     ]
    },
    {
     "name": "stdout",
     "output_type": "stream",
     "text": [
      "0.753900554207\n"
     ]
    }
   ],
   "source": [
    "clf = LogisticRegression()\n",
    "# Fit the model on the trainng data.\n",
    "clf.fit(X_train, Y_train)\n",
    "# Print the accuracy from the testing data.\n",
    "print(accuracy_score(clf.predict(X_test), Y_test))"
   ]
  },
  {
   "cell_type": "markdown",
   "metadata": {},
   "source": [
    "### Tuning the Model"
   ]
  },
  {
   "cell_type": "code",
   "execution_count": 64,
   "metadata": {
    "collapsed": true
   },
   "outputs": [],
   "source": [
    "from sklearn.model_selection import KFold\n",
    "from sklearn.metrics import accuracy_score\n",
    "\n",
    "def cv_score(clf, x, y, score_func=accuracy_score):\n",
    "    result = 0\n",
    "    nfold = 5\n",
    "    for train, test in KFold(nfold).split(x): # split data into train/test groups, 5 times\n",
    "        clf.fit(x[train], y[train]) # fit\n",
    "        result += score_func(clf.predict(x[test]), y[test]) # evaluate score function on held-out data\n",
    "    return result / nfold # average"
   ]
  },
  {
   "cell_type": "code",
   "execution_count": 65,
   "metadata": {
    "collapsed": false,
    "scrolled": true
   },
   "outputs": [
    {
     "name": "stderr",
     "output_type": "stream",
     "text": [
      "C:\\Users\\Felix\\Python\\lib\\site-packages\\sklearn\\utils\\validation.py:526: DataConversionWarning: A column-vector y was passed when a 1d array was expected. Please change the shape of y to (n_samples, ), for example using ravel().\n",
      "  y = column_or_1d(y, warn=True)\n"
     ]
    },
    {
     "name": "stdout",
     "output_type": "stream",
     "text": [
      "0.753904300829\n"
     ]
    }
   ],
   "source": [
    "clf = LogisticRegression()\n",
    "X_train_array = DataFrame.as_matrix(X_train)\n",
    "Y_train_array = DataFrame.as_matrix(Y_train)\n",
    "score = cv_score(clf, X_train_array, Y_train_array)\n",
    "print(score)"
   ]
  },
  {
   "cell_type": "code",
   "execution_count": 88,
   "metadata": {
    "collapsed": false
   },
   "outputs": [
    {
     "data": {
      "text/plain": [
       "array([[ 1.33043694, -0.55804738,  1.27068568,  0.85414957,  0.95888461,\n",
       "         1.28935062]])"
      ]
     },
     "execution_count": 88,
     "metadata": {},
     "output_type": "execute_result"
    }
   ],
   "source": [
    "clf.coef_"
   ]
  },
  {
   "cell_type": "code",
   "execution_count": 66,
   "metadata": {
    "collapsed": false
   },
   "outputs": [
    {
     "name": "stderr",
     "output_type": "stream",
     "text": [
      "C:\\Users\\Felix\\Python\\lib\\site-packages\\sklearn\\utils\\validation.py:526: DataConversionWarning: A column-vector y was passed when a 1d array was expected. Please change the shape of y to (n_samples, ), for example using ravel().\n",
      "  y = column_or_1d(y, warn=True)\n"
     ]
    },
    {
     "name": "stdout",
     "output_type": "stream",
     "text": [
      "0.753904300829 0.05\n"
     ]
    }
   ],
   "source": [
    "#Find the best C\n",
    "#the grid of parameters to search over\n",
    "Cs = [0.001,0.05,0.01, 0.1,1, 10, 100]\n",
    "\n",
    "max_score = 0\n",
    "\n",
    "for C in Cs:\n",
    "        clf = LogisticRegression(C=C)\n",
    "        score = cv_score(clf, X_train_array, Y_train_array)\n",
    "\n",
    "        if score > max_score:\n",
    "            max_score = score\n",
    "            best_C =C\n",
    "print (max_score, best_C)"
   ]
  },
  {
   "cell_type": "markdown",
   "metadata": {},
   "source": [
    "### AUC ROC Evaluation"
   ]
  },
  {
   "cell_type": "code",
   "execution_count": 82,
   "metadata": {
    "collapsed": true
   },
   "outputs": [],
   "source": [
    "from sklearn.metrics import roc_curve, auc"
   ]
  },
  {
   "cell_type": "code",
   "execution_count": 89,
   "metadata": {
    "collapsed": false
   },
   "outputs": [],
   "source": [
    "Predictions= clf.predict(X_test)\n",
    "Actual= np.array(Y_test)"
   ]
  },
  {
   "cell_type": "code",
   "execution_count": 90,
   "metadata": {
    "collapsed": false
   },
   "outputs": [
    {
     "data": {
      "text/plain": [
       "0.5"
      ]
     },
     "execution_count": 90,
     "metadata": {},
     "output_type": "execute_result"
    }
   ],
   "source": [
    "false_positive_rate, true_positive_rate, thresholds = roc_curve(Actual, Predictions)\n",
    "roc_auc = auc(false_positive_rate, true_positive_rate)\n",
    "roc_auc"
   ]
  },
  {
   "cell_type": "code",
   "execution_count": 91,
   "metadata": {
    "collapsed": false
   },
   "outputs": [
    {
     "data": {
      "image/png": "[encoded data removed]",
      "text/plain": [
       "<matplotlib.figure.Figure at 0x18601677a58>"
      ]
     },
     "metadata": {},
     "output_type": "display_data"
    }
   ],
   "source": [
    "plt.title('Receiver Operating Characteristic')\n",
    "plt.plot(false_positive_rate, true_positive_rate, 'b',\n",
    "label='AUC = %0.2f'% roc_auc)\n",
    "plt.legend(loc='lower right')\n",
    "plt.plot([0,1],[0,1],'r--')\n",
    "plt.xlim([-0.1,1.2])\n",
    "plt.ylim([-0.1,1.2])\n",
    "plt.ylabel('True Positive Rate')\n",
    "plt.xlabel('False Positive Rate')\n",
    "plt.show()\n",
    "\n"
   ]
  },
  {
   "cell_type": "code",
   "execution_count": 92,
   "metadata": {
    "collapsed": false
   },
   "outputs": [
    {
     "data": {
      "text/plain": [
       "array([[ 1.33043694, -0.55804738,  1.27068568,  0.85414957,  0.95888461,\n",
       "         1.28935062]])"
      ]
     },
     "execution_count": 92,
     "metadata": {},
     "output_type": "execute_result"
    }
   ],
   "source": [
    "clf.coef_"
   ]
  },
  {
   "cell_type": "code",
   "execution_count": null,
   "metadata": {
    "collapsed": true
   },
   "outputs": [],
   "source": []
  },
  {
   "cell_type": "code",
   "execution_count": null,
   "metadata": {
    "collapsed": true
   },
   "outputs": [],
   "source": []
  },
  {
   "cell_type": "code",
   "execution_count": null,
   "metadata": {
    "collapsed": true
   },
   "outputs": [],
   "source": []
  },
  {
   "cell_type": "code",
   "execution_count": null,
   "metadata": {
    "collapsed": true
   },
   "outputs": [],
   "source": []
  }
 ],
 "metadata": {
  "kernelspec": {
   "display_name": "Python 3",
   "language": "python",
   "name": "python3"
  },
  "language_info": {
   "codemirror_mode": {
    "name": "ipython",
    "version": 3
   },
   "file_extension": ".py",
   "mimetype": "text/x-python",
   "name": "python",
   "nbconvert_exporter": "python",
   "pygments_lexer": "ipython3",
   "version": "3.6.0"
  }
 },
 "nbformat": 4,
 "nbformat_minor": 0
}
