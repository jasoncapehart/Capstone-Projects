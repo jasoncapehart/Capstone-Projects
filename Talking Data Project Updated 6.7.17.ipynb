{
 "cells": [
  {
   "cell_type": "code",
   "execution_count": 1,
   "metadata": {
    "collapsed": false
   },
   "outputs": [],
   "source": [
    "%matplotlib inline\n",
    "import pandas as pd\n",
    "import numpy as np\n",
    "from pandas import DataFrame\n",
    "from pandas import Series\n",
    "import matplotlib.pyplot as plt\n",
    "from datetime import datetime\n",
    "from sklearn.preprocessing import LabelEncoder\n",
    "from sklearn.linear_model import LogisticRegression\n",
    "import sklearn\n",
    "from sklearn.metrics import accuracy_score"
   ]
  },
  {
   "cell_type": "markdown",
   "metadata": {},
   "source": [
    "### Import Raw Data"
   ]
  },
  {
   "cell_type": "code",
   "execution_count": 2,
   "metadata": {
    "collapsed": false
   },
   "outputs": [],
   "source": [
    "app_event = pd.read_csv(\"C:/Users/Felix/Documents/data/TalkingData Kaggle/app_events.csv\")\n",
    "app_label = pd.read_csv(\"C:/Users/Felix/Documents/data/TalkingData Kaggle/app_labels.csv\")\n",
    "label_cat = pd.read_csv(\"C:/Users/Felix/Documents/data/TalkingData Kaggle/label_categories.csv\")\n",
    "event = pd.read_csv(\"C:/Users/Felix/Documents/data/TalkingData Kaggle/events.csv\")\n",
    "phone = pd.read_csv(\"C:/Users/Felix/Documents/data/TalkingData Kaggle/phone_brand_device_model.csv\")\n",
    "gatrain = pd.read_csv(\"C:/Users/Felix/Documents/data/TalkingData Kaggle/gender_age_train.csv\")\n",
    "gatest = pd.read_csv(\"C:/Users/Felix/Documents/data/TalkingData Kaggle/gender_age_test.csv\")"
   ]
  },
  {
   "cell_type": "code",
   "execution_count": 3,
   "metadata": {
    "collapsed": false
   },
   "outputs": [
    {
     "name": "stdout",
     "output_type": "stream",
     "text": [
      "----------------------------------------------------\n",
      "app_event:\n",
      "   event_id               app_id  is_installed  is_active\n",
      "0         2  5927333115845830913             1          1\n",
      "1         2 -5720078949152207372             1          0\n",
      "2         2 -1633887856876571208             1          0\n",
      "3         2  -653184325010919369             1          1\n",
      "4         2  8693964245073640147             1          1\n",
      "----------------------------------------------------\n",
      "app_label:\n",
      "                app_id  label_id\n",
      "0  7324884708820027918       251\n",
      "1 -4494216993218550286       251\n",
      "2  6058196446775239644       406\n",
      "3  6058196446775239644       407\n",
      "4  8694625920731541625       406\n",
      "----------------------------------------------------\n",
      "label_cat:\n",
      "   label_id           category\n",
      "0         1                NaN\n",
      "1         2     game-game type\n",
      "2         3   game-Game themes\n",
      "3         4     game-Art Style\n",
      "4         5  game-Leisure time\n",
      "----------------------------------------------------\n",
      "event:\n",
      "   event_id            device_id            timestamp  longitude  latitude\n",
      "0         1    29182687948017175  2016-05-01 00:55:25     121.38     31.24\n",
      "1         2 -6401643145415154744  2016-05-01 00:54:12     103.65     30.97\n",
      "2         3 -4833982096941402721  2016-05-01 00:08:05     106.60     29.70\n",
      "3         4 -6815121365017318426  2016-05-01 00:06:40     104.27     23.28\n",
      "4         5 -5373797595892518570  2016-05-01 00:07:18     115.88     28.66\n",
      "----------------------------------------------------\n",
      "phone:\n",
      "             device_id phone_brand   device_model\n",
      "0 -8890648629457979026          小米             红米\n",
      "1  1277779817574759137          小米           MI 2\n",
      "2  5137427614288105724          三星      Galaxy S4\n",
      "3  3669464369358936369       SUGAR           时尚手机\n",
      "4 -5019277647504317457          三星  Galaxy Note 2\n",
      "----------------------------------------------------\n",
      "gatrain:\n",
      "             device_id gender  age   group\n",
      "0 -8076087639492063270      M   35  M32-38\n",
      "1 -2897161552818060146      M   35  M32-38\n",
      "2 -8260683887967679142      M   35  M32-38\n",
      "3 -4938849341048082022      M   30  M29-31\n",
      "4   245133531816851882      M   30  M29-31\n",
      "----------------------------------------------------\n"
     ]
    }
   ],
   "source": [
    "# Quick look at the data\n",
    "print ('----------------------------------------------------')\n",
    "print ('app_event:')\n",
    "print (app_event.head())\n",
    "print ('----------------------------------------------------')\n",
    "print ('app_label:')\n",
    "print (app_label.head())\n",
    "print ('----------------------------------------------------')\n",
    "print ('label_cat:')\n",
    "print (label_cat.head())\n",
    "print ('----------------------------------------------------')\n",
    "print ('event:')\n",
    "print (event.head())\n",
    "print ('----------------------------------------------------')\n",
    "print ('phone:')\n",
    "print (phone.head())\n",
    "print ('----------------------------------------------------')\n",
    "print ('gatrain:')\n",
    "print (gatrain.head())\n",
    "print ('----------------------------------------------------')\n"
   ]
  },
  {
   "cell_type": "code",
   "execution_count": 4,
   "metadata": {
    "collapsed": false
   },
   "outputs": [
    {
     "name": "stdout",
     "output_type": "stream",
     "text": [
      "True\n"
     ]
    }
   ],
   "source": [
    "# Check if all phones in \"phone brand\" table is in \"gender train table\"\n",
    "# The result show the table \"gatrain\" is the subset of phone list\n",
    "phone_list = phone.device_id.unique()\n",
    "phone_in_gatrain = gatrain.device_id.unique()\n",
    "phone_in_event = event.device_id.unique()\n",
    "print (set(phone_list) > set(phone_in_gatrain))"
   ]
  },
  {
   "cell_type": "code",
   "execution_count": 5,
   "metadata": {
    "collapsed": false
   },
   "outputs": [
    {
     "name": "stdout",
     "output_type": "stream",
     "text": [
      "74645\n",
      "74646\n"
     ]
    }
   ],
   "source": [
    "# Merge \"gatrain\" with \"phone\" to get phone brand, model and age groups in the same table\n",
    "gatrain = gatrain.drop_duplicates()\n",
    "phone = phone.drop_duplicates()\n",
    "df = gatrain.merge(phone, on = ['device_id'])\n",
    "print (len(gatrain))\n",
    "print (len(df))"
   ]
  },
  {
   "cell_type": "code",
   "execution_count": 6,
   "metadata": {
    "collapsed": false
   },
   "outputs": [
    {
     "data": {
      "text/plain": [
       "device_id        int64\n",
       "gender          object\n",
       "age              int64\n",
       "group           object\n",
       "phone_brand     object\n",
       "device_model    object\n",
       "dtype: object"
      ]
     },
     "execution_count": 6,
     "metadata": {},
     "output_type": "execute_result"
    }
   ],
   "source": [
    "df.dtypes"
   ]
  },
  {
   "cell_type": "code",
   "execution_count": 7,
   "metadata": {
    "collapsed": false
   },
   "outputs": [
    {
     "data": {
      "text/plain": [
       "array(['M32-38', 'M29-31', 'F24-26', 'F33-42', 'F27-28', 'M39+', 'M23-26',\n",
       "       'M27-28', 'M22-', 'F43+', 'F23-', 'F29-32'], dtype=object)"
      ]
     },
     "execution_count": 7,
     "metadata": {},
     "output_type": "execute_result"
    }
   ],
   "source": [
    "df.group.unique()"
   ]
  },
  {
   "cell_type": "code",
   "execution_count": 8,
   "metadata": {
    "collapsed": false
   },
   "outputs": [],
   "source": [
    "df['Brand_Model'] = df['phone_brand']+','+df['device_model']\n",
    "#df['agegroup'] = df.group.str[1:]\n",
    "df['Adult'] = np.where(df.age<=18,'Teen', 'Adult')\n",
    "df['Age_30_Split'] = np.where(df.age<30,'Below 30', '30 and Above')\n",
    "df['AgeGroup'] = df.age//10*10\n"
   ]
  },
  {
   "cell_type": "code",
   "execution_count": 9,
   "metadata": {
    "collapsed": false
   },
   "outputs": [
    {
     "data": {
      "text/html": [
       "<div>\n",
       "<table border=\"1\" class=\"dataframe\">\n",
       "  <thead>\n",
       "    <tr style=\"text-align: right;\">\n",
       "      <th></th>\n",
       "      <th>device_id</th>\n",
       "      <th>gender</th>\n",
       "      <th>age</th>\n",
       "      <th>group</th>\n",
       "      <th>phone_brand</th>\n",
       "      <th>device_model</th>\n",
       "      <th>Brand_Model</th>\n",
       "      <th>Adult</th>\n",
       "      <th>Age_30_Split</th>\n",
       "      <th>AgeGroup</th>\n",
       "    </tr>\n",
       "  </thead>\n",
       "  <tbody>\n",
       "    <tr>\n",
       "      <th>0</th>\n",
       "      <td>-8076087639492063270</td>\n",
       "      <td>M</td>\n",
       "      <td>35</td>\n",
       "      <td>M32-38</td>\n",
       "      <td>小米</td>\n",
       "      <td>MI 2</td>\n",
       "      <td>小米,MI 2</td>\n",
       "      <td>Adult</td>\n",
       "      <td>30 and Above</td>\n",
       "      <td>30</td>\n",
       "    </tr>\n",
       "    <tr>\n",
       "      <th>1</th>\n",
       "      <td>-2897161552818060146</td>\n",
       "      <td>M</td>\n",
       "      <td>35</td>\n",
       "      <td>M32-38</td>\n",
       "      <td>小米</td>\n",
       "      <td>MI 2</td>\n",
       "      <td>小米,MI 2</td>\n",
       "      <td>Adult</td>\n",
       "      <td>30 and Above</td>\n",
       "      <td>30</td>\n",
       "    </tr>\n",
       "    <tr>\n",
       "      <th>2</th>\n",
       "      <td>-8260683887967679142</td>\n",
       "      <td>M</td>\n",
       "      <td>35</td>\n",
       "      <td>M32-38</td>\n",
       "      <td>小米</td>\n",
       "      <td>MI 2</td>\n",
       "      <td>小米,MI 2</td>\n",
       "      <td>Adult</td>\n",
       "      <td>30 and Above</td>\n",
       "      <td>30</td>\n",
       "    </tr>\n",
       "    <tr>\n",
       "      <th>3</th>\n",
       "      <td>-4938849341048082022</td>\n",
       "      <td>M</td>\n",
       "      <td>30</td>\n",
       "      <td>M29-31</td>\n",
       "      <td>小米</td>\n",
       "      <td>红米note</td>\n",
       "      <td>小米,红米note</td>\n",
       "      <td>Adult</td>\n",
       "      <td>30 and Above</td>\n",
       "      <td>30</td>\n",
       "    </tr>\n",
       "    <tr>\n",
       "      <th>4</th>\n",
       "      <td>245133531816851882</td>\n",
       "      <td>M</td>\n",
       "      <td>30</td>\n",
       "      <td>M29-31</td>\n",
       "      <td>小米</td>\n",
       "      <td>MI 3</td>\n",
       "      <td>小米,MI 3</td>\n",
       "      <td>Adult</td>\n",
       "      <td>30 and Above</td>\n",
       "      <td>30</td>\n",
       "    </tr>\n",
       "  </tbody>\n",
       "</table>\n",
       "</div>"
      ],
      "text/plain": [
       "             device_id gender  age   group phone_brand device_model  \\\n",
       "0 -8076087639492063270      M   35  M32-38          小米         MI 2   \n",
       "1 -2897161552818060146      M   35  M32-38          小米         MI 2   \n",
       "2 -8260683887967679142      M   35  M32-38          小米         MI 2   \n",
       "3 -4938849341048082022      M   30  M29-31          小米       红米note   \n",
       "4   245133531816851882      M   30  M29-31          小米         MI 3   \n",
       "\n",
       "  Brand_Model  Adult  Age_30_Split  AgeGroup  \n",
       "0     小米,MI 2  Adult  30 and Above        30  \n",
       "1     小米,MI 2  Adult  30 and Above        30  \n",
       "2     小米,MI 2  Adult  30 and Above        30  \n",
       "3   小米,红米note  Adult  30 and Above        30  \n",
       "4     小米,MI 3  Adult  30 and Above        30  "
      ]
     },
     "execution_count": 9,
     "metadata": {},
     "output_type": "execute_result"
    }
   ],
   "source": [
    "df.head()"
   ]
  },
  {
   "cell_type": "markdown",
   "metadata": {},
   "source": [
    "### Plot User Age Distribution"
   ]
  },
  {
   "cell_type": "code",
   "execution_count": 10,
   "metadata": {
    "collapsed": false
   },
   "outputs": [
    {
     "data": {
      "image/png": "[encoded data removed]",
      "text/plain": [
       "<matplotlib.figure.Figure at 0x112ce0d4c50>"
      ]
     },
     "metadata": {},
     "output_type": "display_data"
    }
   ],
   "source": [
    "age_distr1 = df.groupby(['Adult']).device_id.nunique()\n",
    "age_distr2 = df.groupby(['Age_30_Split']).device_id.nunique()\n",
    "age_distr3 = df.groupby(['AgeGroup']).device_id.nunique()\n",
    "ax1 = age_distr1.plot(kind = 'bar', title = 'Age Distribution by Adult (Y/N)')\n",
    "# set labels for both axes\n",
    "ax1.set(xlabel='Age Group', ylabel='Population')\n",
    "plt.show()"
   ]
  },
  {
   "cell_type": "code",
   "execution_count": 11,
   "metadata": {
    "collapsed": false
   },
   "outputs": [
    {
     "data": {
      "image/png": "[encoded data removed]",
      "text/plain": [
       "<matplotlib.figure.Figure at 0x1128bf92d68>"
      ]
     },
     "metadata": {},
     "output_type": "display_data"
    }
   ],
   "source": [
    "ax2 = age_distr2.plot(kind = 'bar', title = 'Age Distribution by 30 Split')\n",
    "ax2.set(xlabel='Age Group', ylabel='Population')\n",
    "plt.show()"
   ]
  },
  {
   "cell_type": "code",
   "execution_count": 12,
   "metadata": {
    "collapsed": false
   },
   "outputs": [
    {
     "data": {
      "image/png": "[encoded data removed]",
      "text/plain": [
       "<matplotlib.figure.Figure at 0x1128c650c50>"
      ]
     },
     "metadata": {},
     "output_type": "display_data"
    }
   ],
   "source": [
    "ax3 = age_distr3.plot(kind = 'bar', title = 'Age Distribution')\n",
    "ax3.set(xlabel='Age Group', ylabel='Population')\n",
    "plt.show()"
   ]
  },
  {
   "cell_type": "markdown",
   "metadata": {},
   "source": [
    "### Age vs. Phone Brand\n",
    "* One brand stands out between \"above 30\" & \"below 30\" groups - Meizu!\n",
    "* Younger generations tend to use Meizu brand which is a cheaper version of IPhone or Samsung"
   ]
  },
  {
   "cell_type": "code",
   "execution_count": 13,
   "metadata": {
    "collapsed": false
   },
   "outputs": [
    {
     "data": {
      "text/html": [
       "<div>\n",
       "<table border=\"1\" class=\"dataframe\">\n",
       "  <thead>\n",
       "    <tr style=\"text-align: right;\">\n",
       "      <th></th>\n",
       "      <th>counts</th>\n",
       "      <th>cum_pnt</th>\n",
       "      <th>per</th>\n",
       "    </tr>\n",
       "  </thead>\n",
       "  <tbody>\n",
       "    <tr>\n",
       "      <th>小米,红米note</th>\n",
       "      <td>3013</td>\n",
       "      <td>4.0%</td>\n",
       "      <td>4.0%</td>\n",
       "    </tr>\n",
       "    <tr>\n",
       "      <th>小米,MI 3</th>\n",
       "      <td>2299</td>\n",
       "      <td>7.1%</td>\n",
       "      <td>3.1%</td>\n",
       "    </tr>\n",
       "    <tr>\n",
       "      <th>小米,MI 2S</th>\n",
       "      <td>2136</td>\n",
       "      <td>10.0%</td>\n",
       "      <td>2.9%</td>\n",
       "    </tr>\n",
       "    <tr>\n",
       "      <th>三星,Galaxy Note 3</th>\n",
       "      <td>2065</td>\n",
       "      <td>12.7%</td>\n",
       "      <td>2.8%</td>\n",
       "    </tr>\n",
       "    <tr>\n",
       "      <th>小米,MI 4</th>\n",
       "      <td>1910</td>\n",
       "      <td>15.3%</td>\n",
       "      <td>2.6%</td>\n",
       "    </tr>\n",
       "    <tr>\n",
       "      <th>三星,Galaxy Note 2</th>\n",
       "      <td>1610</td>\n",
       "      <td>17.5%</td>\n",
       "      <td>2.2%</td>\n",
       "    </tr>\n",
       "    <tr>\n",
       "      <th>三星,Galaxy S4</th>\n",
       "      <td>1568</td>\n",
       "      <td>19.6%</td>\n",
       "      <td>2.1%</td>\n",
       "    </tr>\n",
       "    <tr>\n",
       "      <th>华为,荣耀6</th>\n",
       "      <td>1239</td>\n",
       "      <td>21.2%</td>\n",
       "      <td>1.7%</td>\n",
       "    </tr>\n",
       "    <tr>\n",
       "      <th>华为,荣耀畅玩4X</th>\n",
       "      <td>1102</td>\n",
       "      <td>22.7%</td>\n",
       "      <td>1.5%</td>\n",
       "    </tr>\n",
       "    <tr>\n",
       "      <th>华为,荣耀3C</th>\n",
       "      <td>1067</td>\n",
       "      <td>24.1%</td>\n",
       "      <td>1.4%</td>\n",
       "    </tr>\n",
       "    <tr>\n",
       "      <th>小米,红米1S</th>\n",
       "      <td>972</td>\n",
       "      <td>25.4%</td>\n",
       "      <td>1.3%</td>\n",
       "    </tr>\n",
       "    <tr>\n",
       "      <th>小米,红米</th>\n",
       "      <td>970</td>\n",
       "      <td>26.7%</td>\n",
       "      <td>1.3%</td>\n",
       "    </tr>\n",
       "    <tr>\n",
       "      <th>三星,Galaxy S3</th>\n",
       "      <td>966</td>\n",
       "      <td>28.0%</td>\n",
       "      <td>1.3%</td>\n",
       "    </tr>\n",
       "    <tr>\n",
       "      <th>华为,Mate 7</th>\n",
       "      <td>958</td>\n",
       "      <td>29.3%</td>\n",
       "      <td>1.3%</td>\n",
       "    </tr>\n",
       "    <tr>\n",
       "      <th>魅族,魅蓝NOTE</th>\n",
       "      <td>841</td>\n",
       "      <td>30.4%</td>\n",
       "      <td>1.1%</td>\n",
       "    </tr>\n",
       "    <tr>\n",
       "      <th>小米,红米2</th>\n",
       "      <td>824</td>\n",
       "      <td>31.5%</td>\n",
       "      <td>1.1%</td>\n",
       "    </tr>\n",
       "    <tr>\n",
       "      <th>小米,红米Note2</th>\n",
       "      <td>806</td>\n",
       "      <td>32.6%</td>\n",
       "      <td>1.1%</td>\n",
       "    </tr>\n",
       "    <tr>\n",
       "      <th>三星,Galaxy S5</th>\n",
       "      <td>726</td>\n",
       "      <td>33.6%</td>\n",
       "      <td>1.0%</td>\n",
       "    </tr>\n",
       "    <tr>\n",
       "      <th>魅族,魅蓝Note 2</th>\n",
       "      <td>696</td>\n",
       "      <td>34.5%</td>\n",
       "      <td>0.9%</td>\n",
       "    </tr>\n",
       "    <tr>\n",
       "      <th>小米,红米2A</th>\n",
       "      <td>692</td>\n",
       "      <td>35.4%</td>\n",
       "      <td>0.9%</td>\n",
       "    </tr>\n",
       "    <tr>\n",
       "      <th>小米,红米note增强版</th>\n",
       "      <td>684</td>\n",
       "      <td>36.4%</td>\n",
       "      <td>0.9%</td>\n",
       "    </tr>\n",
       "    <tr>\n",
       "      <th>魅族,MX3</th>\n",
       "      <td>677</td>\n",
       "      <td>37.3%</td>\n",
       "      <td>0.9%</td>\n",
       "    </tr>\n",
       "    <tr>\n",
       "      <th>华为,荣耀6 Plus</th>\n",
       "      <td>660</td>\n",
       "      <td>38.2%</td>\n",
       "      <td>0.9%</td>\n",
       "    </tr>\n",
       "    <tr>\n",
       "      <th>华为,荣耀3X畅玩版</th>\n",
       "      <td>634</td>\n",
       "      <td>39.0%</td>\n",
       "      <td>0.8%</td>\n",
       "    </tr>\n",
       "    <tr>\n",
       "      <th>魅族,MX4</th>\n",
       "      <td>628</td>\n",
       "      <td>39.8%</td>\n",
       "      <td>0.8%</td>\n",
       "    </tr>\n",
       "    <tr>\n",
       "      <th>小米,小米note</th>\n",
       "      <td>620</td>\n",
       "      <td>40.7%</td>\n",
       "      <td>0.8%</td>\n",
       "    </tr>\n",
       "    <tr>\n",
       "      <th>OPPO,R7</th>\n",
       "      <td>586</td>\n",
       "      <td>41.5%</td>\n",
       "      <td>0.8%</td>\n",
       "    </tr>\n",
       "    <tr>\n",
       "      <th>华为,Ascend P7</th>\n",
       "      <td>548</td>\n",
       "      <td>42.2%</td>\n",
       "      <td>0.7%</td>\n",
       "    </tr>\n",
       "    <tr>\n",
       "      <th>华为,荣耀畅玩4C</th>\n",
       "      <td>527</td>\n",
       "      <td>42.9%</td>\n",
       "      <td>0.7%</td>\n",
       "    </tr>\n",
       "    <tr>\n",
       "      <th>小米,MI 2</th>\n",
       "      <td>511</td>\n",
       "      <td>43.6%</td>\n",
       "      <td>0.7%</td>\n",
       "    </tr>\n",
       "    <tr>\n",
       "      <th>酷派,F2</th>\n",
       "      <td>496</td>\n",
       "      <td>44.3%</td>\n",
       "      <td>0.7%</td>\n",
       "    </tr>\n",
       "    <tr>\n",
       "      <th>OPPO,R7 Plus</th>\n",
       "      <td>420</td>\n",
       "      <td>44.8%</td>\n",
       "      <td>0.6%</td>\n",
       "    </tr>\n",
       "    <tr>\n",
       "      <th>三星,Galaxy Grand 2</th>\n",
       "      <td>419</td>\n",
       "      <td>45.4%</td>\n",
       "      <td>0.6%</td>\n",
       "    </tr>\n",
       "    <tr>\n",
       "      <th>华为,荣耀7</th>\n",
       "      <td>418</td>\n",
       "      <td>45.9%</td>\n",
       "      <td>0.6%</td>\n",
       "    </tr>\n",
       "    <tr>\n",
       "      <th>三星,Galaxy Win</th>\n",
       "      <td>417</td>\n",
       "      <td>46.5%</td>\n",
       "      <td>0.6%</td>\n",
       "    </tr>\n",
       "    <tr>\n",
       "      <th>酷派,大神F1</th>\n",
       "      <td>414</td>\n",
       "      <td>47.0%</td>\n",
       "      <td>0.6%</td>\n",
       "    </tr>\n",
       "    <tr>\n",
       "      <th>小米,MI 2A</th>\n",
       "      <td>390</td>\n",
       "      <td>47.6%</td>\n",
       "      <td>0.5%</td>\n",
       "    </tr>\n",
       "    <tr>\n",
       "      <th>华为,Ascend P8</th>\n",
       "      <td>388</td>\n",
       "      <td>48.1%</td>\n",
       "      <td>0.5%</td>\n",
       "    </tr>\n",
       "    <tr>\n",
       "      <th>vivo,X3T</th>\n",
       "      <td>380</td>\n",
       "      <td>48.6%</td>\n",
       "      <td>0.5%</td>\n",
       "    </tr>\n",
       "    <tr>\n",
       "      <th>OPPO,R7s</th>\n",
       "      <td>372</td>\n",
       "      <td>49.1%</td>\n",
       "      <td>0.5%</td>\n",
       "    </tr>\n",
       "    <tr>\n",
       "      <th>魅族,MX2</th>\n",
       "      <td>371</td>\n",
       "      <td>49.6%</td>\n",
       "      <td>0.5%</td>\n",
       "    </tr>\n",
       "    <tr>\n",
       "      <th>魅族,MX5</th>\n",
       "      <td>352</td>\n",
       "      <td>50.1%</td>\n",
       "      <td>0.5%</td>\n",
       "    </tr>\n",
       "    <tr>\n",
       "      <th>vivo,X5Pro</th>\n",
       "      <td>347</td>\n",
       "      <td>50.5%</td>\n",
       "      <td>0.5%</td>\n",
       "    </tr>\n",
       "    <tr>\n",
       "      <th>乐视,超级手机1s</th>\n",
       "      <td>343</td>\n",
       "      <td>51.0%</td>\n",
       "      <td>0.5%</td>\n",
       "    </tr>\n",
       "    <tr>\n",
       "      <th>华为,荣耀畅玩4</th>\n",
       "      <td>339</td>\n",
       "      <td>51.4%</td>\n",
       "      <td>0.5%</td>\n",
       "    </tr>\n",
       "    <tr>\n",
       "      <th>三星,Galaxy Mega 5.8</th>\n",
       "      <td>336</td>\n",
       "      <td>51.9%</td>\n",
       "      <td>0.5%</td>\n",
       "    </tr>\n",
       "    <tr>\n",
       "      <th>OPPO,Find 7</th>\n",
       "      <td>331</td>\n",
       "      <td>52.3%</td>\n",
       "      <td>0.4%</td>\n",
       "    </tr>\n",
       "    <tr>\n",
       "      <th>小米,红米Note3</th>\n",
       "      <td>330</td>\n",
       "      <td>52.8%</td>\n",
       "      <td>0.4%</td>\n",
       "    </tr>\n",
       "    <tr>\n",
       "      <th>小米,小米4C</th>\n",
       "      <td>325</td>\n",
       "      <td>53.2%</td>\n",
       "      <td>0.4%</td>\n",
       "    </tr>\n",
       "    <tr>\n",
       "      <th>魅族,魅蓝2</th>\n",
       "      <td>319</td>\n",
       "      <td>53.6%</td>\n",
       "      <td>0.4%</td>\n",
       "    </tr>\n",
       "  </tbody>\n",
       "</table>\n",
       "</div>"
      ],
      "text/plain": [
       "                    counts cum_pnt   per\n",
       "小米,红米note             3013    4.0%  4.0%\n",
       "小米,MI 3               2299    7.1%  3.1%\n",
       "小米,MI 2S              2136   10.0%  2.9%\n",
       "三星,Galaxy Note 3      2065   12.7%  2.8%\n",
       "小米,MI 4               1910   15.3%  2.6%\n",
       "三星,Galaxy Note 2      1610   17.5%  2.2%\n",
       "三星,Galaxy S4          1568   19.6%  2.1%\n",
       "华为,荣耀6                1239   21.2%  1.7%\n",
       "华为,荣耀畅玩4X             1102   22.7%  1.5%\n",
       "华为,荣耀3C               1067   24.1%  1.4%\n",
       "小米,红米1S                972   25.4%  1.3%\n",
       "小米,红米                  970   26.7%  1.3%\n",
       "三星,Galaxy S3           966   28.0%  1.3%\n",
       "华为,Mate 7              958   29.3%  1.3%\n",
       "魅族,魅蓝NOTE              841   30.4%  1.1%\n",
       "小米,红米2                 824   31.5%  1.1%\n",
       "小米,红米Note2             806   32.6%  1.1%\n",
       "三星,Galaxy S5           726   33.6%  1.0%\n",
       "魅族,魅蓝Note 2            696   34.5%  0.9%\n",
       "小米,红米2A                692   35.4%  0.9%\n",
       "小米,红米note增强版           684   36.4%  0.9%\n",
       "魅族,MX3                 677   37.3%  0.9%\n",
       "华为,荣耀6 Plus            660   38.2%  0.9%\n",
       "华为,荣耀3X畅玩版             634   39.0%  0.8%\n",
       "魅族,MX4                 628   39.8%  0.8%\n",
       "小米,小米note              620   40.7%  0.8%\n",
       "OPPO,R7                586   41.5%  0.8%\n",
       "华为,Ascend P7           548   42.2%  0.7%\n",
       "华为,荣耀畅玩4C              527   42.9%  0.7%\n",
       "小米,MI 2                511   43.6%  0.7%\n",
       "酷派,F2                  496   44.3%  0.7%\n",
       "OPPO,R7 Plus           420   44.8%  0.6%\n",
       "三星,Galaxy Grand 2      419   45.4%  0.6%\n",
       "华为,荣耀7                 418   45.9%  0.6%\n",
       "三星,Galaxy Win          417   46.5%  0.6%\n",
       "酷派,大神F1                414   47.0%  0.6%\n",
       "小米,MI 2A               390   47.6%  0.5%\n",
       "华为,Ascend P8           388   48.1%  0.5%\n",
       "vivo,X3T               380   48.6%  0.5%\n",
       "OPPO,R7s               372   49.1%  0.5%\n",
       "魅族,MX2                 371   49.6%  0.5%\n",
       "魅族,MX5                 352   50.1%  0.5%\n",
       "vivo,X5Pro             347   50.5%  0.5%\n",
       "乐视,超级手机1s              343   51.0%  0.5%\n",
       "华为,荣耀畅玩4               339   51.4%  0.5%\n",
       "三星,Galaxy Mega 5.8     336   51.9%  0.5%\n",
       "OPPO,Find 7            331   52.3%  0.4%\n",
       "小米,红米Note3             330   52.8%  0.4%\n",
       "小米,小米4C                325   53.2%  0.4%\n",
       "魅族,魅蓝2                 319   53.6%  0.4%"
      ]
     },
     "execution_count": 13,
     "metadata": {},
     "output_type": "execute_result"
    }
   ],
   "source": [
    "# Phone Brand Model Distribution\n",
    "df.Brand_Model.value_counts()\n",
    "counts = df.Brand_Model.value_counts()\n",
    "percent = df.Brand_Model.value_counts(normalize=True) \\\n",
    "           .mul(100).round(1).astype(str) + '%'\n",
    "cum_pnct = (counts.cumsum()/counts.sum())\\\n",
    "           .mul(100).round(1).astype(str) + '%'\n",
    "BrandModel = pd.DataFrame({'counts': counts, 'per': percent, 'cum_pnt':cum_pnct })\n",
    "BrandModel.head(50)"
   ]
  },
  {
   "cell_type": "code",
   "execution_count": 14,
   "metadata": {
    "collapsed": false
   },
   "outputs": [
    {
     "data": {
      "text/html": [
       "<div>\n",
       "<table border=\"1\" class=\"dataframe\">\n",
       "  <thead>\n",
       "    <tr style=\"text-align: right;\">\n",
       "      <th></th>\n",
       "      <th>counts</th>\n",
       "      <th>cum_pnt</th>\n",
       "      <th>per</th>\n",
       "    </tr>\n",
       "  </thead>\n",
       "  <tbody>\n",
       "    <tr>\n",
       "      <th>小米</th>\n",
       "      <td>17300</td>\n",
       "      <td>23.2%</td>\n",
       "      <td>23.2%</td>\n",
       "    </tr>\n",
       "    <tr>\n",
       "      <th>三星</th>\n",
       "      <td>13669</td>\n",
       "      <td>41.5%</td>\n",
       "      <td>18.3%</td>\n",
       "    </tr>\n",
       "    <tr>\n",
       "      <th>华为</th>\n",
       "      <td>12960</td>\n",
       "      <td>58.8%</td>\n",
       "      <td>17.4%</td>\n",
       "    </tr>\n",
       "    <tr>\n",
       "      <th>OPPO</th>\n",
       "      <td>5783</td>\n",
       "      <td>66.6%</td>\n",
       "      <td>7.7%</td>\n",
       "    </tr>\n",
       "    <tr>\n",
       "      <th>vivo</th>\n",
       "      <td>5637</td>\n",
       "      <td>74.1%</td>\n",
       "      <td>7.6%</td>\n",
       "    </tr>\n",
       "    <tr>\n",
       "      <th>魅族</th>\n",
       "      <td>4699</td>\n",
       "      <td>80.4%</td>\n",
       "      <td>6.3%</td>\n",
       "    </tr>\n",
       "    <tr>\n",
       "      <th>酷派</th>\n",
       "      <td>3339</td>\n",
       "      <td>84.9%</td>\n",
       "      <td>4.5%</td>\n",
       "    </tr>\n",
       "    <tr>\n",
       "      <th>联想</th>\n",
       "      <td>2691</td>\n",
       "      <td>88.5%</td>\n",
       "      <td>3.6%</td>\n",
       "    </tr>\n",
       "    <tr>\n",
       "      <th>金立</th>\n",
       "      <td>1123</td>\n",
       "      <td>90.0%</td>\n",
       "      <td>1.5%</td>\n",
       "    </tr>\n",
       "    <tr>\n",
       "      <th>HTC</th>\n",
       "      <td>1013</td>\n",
       "      <td>91.4%</td>\n",
       "      <td>1.4%</td>\n",
       "    </tr>\n",
       "    <tr>\n",
       "      <th>中兴</th>\n",
       "      <td>861</td>\n",
       "      <td>92.5%</td>\n",
       "      <td>1.2%</td>\n",
       "    </tr>\n",
       "    <tr>\n",
       "      <th>乐视</th>\n",
       "      <td>757</td>\n",
       "      <td>93.6%</td>\n",
       "      <td>1.0%</td>\n",
       "    </tr>\n",
       "    <tr>\n",
       "      <th>索尼</th>\n",
       "      <td>715</td>\n",
       "      <td>94.5%</td>\n",
       "      <td>1.0%</td>\n",
       "    </tr>\n",
       "    <tr>\n",
       "      <th>努比亚</th>\n",
       "      <td>483</td>\n",
       "      <td>95.2%</td>\n",
       "      <td>0.6%</td>\n",
       "    </tr>\n",
       "    <tr>\n",
       "      <th>LG</th>\n",
       "      <td>332</td>\n",
       "      <td>95.6%</td>\n",
       "      <td>0.4%</td>\n",
       "    </tr>\n",
       "    <tr>\n",
       "      <th>中国移动</th>\n",
       "      <td>275</td>\n",
       "      <td>96.0%</td>\n",
       "      <td>0.4%</td>\n",
       "    </tr>\n",
       "    <tr>\n",
       "      <th>TCL</th>\n",
       "      <td>220</td>\n",
       "      <td>96.3%</td>\n",
       "      <td>0.3%</td>\n",
       "    </tr>\n",
       "    <tr>\n",
       "      <th>朵唯</th>\n",
       "      <td>213</td>\n",
       "      <td>96.5%</td>\n",
       "      <td>0.3%</td>\n",
       "    </tr>\n",
       "    <tr>\n",
       "      <th>海信</th>\n",
       "      <td>204</td>\n",
       "      <td>96.8%</td>\n",
       "      <td>0.3%</td>\n",
       "    </tr>\n",
       "    <tr>\n",
       "      <th>优米</th>\n",
       "      <td>192</td>\n",
       "      <td>97.1%</td>\n",
       "      <td>0.3%</td>\n",
       "    </tr>\n",
       "  </tbody>\n",
       "</table>\n",
       "</div>"
      ],
      "text/plain": [
       "      counts cum_pnt    per\n",
       "小米     17300   23.2%  23.2%\n",
       "三星     13669   41.5%  18.3%\n",
       "华为     12960   58.8%  17.4%\n",
       "OPPO    5783   66.6%   7.7%\n",
       "vivo    5637   74.1%   7.6%\n",
       "魅族      4699   80.4%   6.3%\n",
       "酷派      3339   84.9%   4.5%\n",
       "联想      2691   88.5%   3.6%\n",
       "金立      1123   90.0%   1.5%\n",
       "HTC     1013   91.4%   1.4%\n",
       "中兴       861   92.5%   1.2%\n",
       "乐视       757   93.6%   1.0%\n",
       "索尼       715   94.5%   1.0%\n",
       "努比亚      483   95.2%   0.6%\n",
       "LG       332   95.6%   0.4%\n",
       "中国移动     275   96.0%   0.4%\n",
       "TCL      220   96.3%   0.3%\n",
       "朵唯       213   96.5%   0.3%\n",
       "海信       204   96.8%   0.3%\n",
       "优米       192   97.1%   0.3%"
      ]
     },
     "execution_count": 14,
     "metadata": {},
     "output_type": "execute_result"
    }
   ],
   "source": [
    "# Phone Brand Distribution\n",
    "df.phone_brand.value_counts()\n",
    "counts = df.phone_brand.value_counts()\n",
    "percent = df.phone_brand.value_counts(normalize=True) \\\n",
    "           .mul(100).round(1).astype(str) + '%'\n",
    "cum_pnct = (counts.cumsum()/counts.sum())\\\n",
    "           .mul(100).round(1).astype(str) + '%'\n",
    "Brand = pd.DataFrame({'counts': counts, 'per': percent, 'cum_pnt':cum_pnct })\n",
    "Brand_top20 = Brand.head(20)\n",
    "Brand_top20"
   ]
  },
  {
   "cell_type": "code",
   "execution_count": 15,
   "metadata": {
    "collapsed": false
   },
   "outputs": [],
   "source": [
    "# Get subset of data where users using top 20 phone brand\n",
    "# valuelist =Brand_top20.iloc[:,0]\n",
    "valuelist = Brand_top20.index.values.tolist()\n",
    "df_subset = df[df.phone_brand.isin(valuelist)]\n",
    "#a = df_subset.unstack('phone_brand')\n",
    "#a"
   ]
  },
  {
   "cell_type": "code",
   "execution_count": 16,
   "metadata": {
    "collapsed": false
   },
   "outputs": [
    {
     "name": "stderr",
     "output_type": "stream",
     "text": [
      "C:\\Users\\Felix\\Python\\lib\\site-packages\\ipykernel\\__main__.py:3: SettingWithCopyWarning: \n",
      "A value is trying to be set on a copy of a slice from a DataFrame.\n",
      "Try using .loc[row_indexer,col_indexer] = value instead\n",
      "\n",
      "See the caveats in the documentation: http://pandas.pydata.org/pandas-docs/stable/indexing.html#indexing-view-versus-copy\n",
      "  app.launch_new_instance()\n"
     ]
    }
   ],
   "source": [
    "# Assign number to top 20 phone brand;\n",
    "brandencoder = LabelEncoder().fit(df_subset.phone_brand)\n",
    "df_subset['brand_encode'] = brandencoder.transform(df_subset['phone_brand'])"
   ]
  },
  {
   "cell_type": "code",
   "execution_count": 17,
   "metadata": {
    "collapsed": false
   },
   "outputs": [],
   "source": [
    "brand_by_agegroup = df_subset.groupby(['AgeGroup', 'phone_brand']).device_id.nunique()#.unstack(1)\n",
    "brand_by_agegroup_df = pd.DataFrame(brand_by_agegroup)#.fillna(method='ffill')"
   ]
  },
  {
   "cell_type": "code",
   "execution_count": 18,
   "metadata": {
    "collapsed": false
   },
   "outputs": [
    {
     "data": {
      "text/plain": [
       "AgeGroup  AgeGroup  phone_brand\n",
       "0         0         魅族                4\n",
       "                    三星                1\n",
       "10        10        小米              728\n",
       "                    华为              388\n",
       "                    OPPO            376\n",
       "                    vivo            362\n",
       "                    三星              288\n",
       "20        20        小米             8795\n",
       "                    三星             5784\n",
       "                    华为             5404\n",
       "                    vivo           3340\n",
       "                    OPPO           3202\n",
       "30        30        小米             5025\n",
       "                    三星             4726\n",
       "                    华为             4406\n",
       "                    OPPO           1462\n",
       "                    vivo           1287\n",
       "40        40        华为             1892\n",
       "                    三星             1891\n",
       "                    小米             1767\n",
       "                    OPPO            521\n",
       "                    酷派              465\n",
       "50        50        小米              652\n",
       "                    三星              645\n",
       "                    华为              603\n",
       "                    酷派              144\n",
       "                    联想              140\n",
       "60        60        小米              279\n",
       "                    三星              266\n",
       "                    华为              209\n",
       "                    酷派               80\n",
       "                    OPPO             72\n",
       "70        70        三星               57\n",
       "                    华为               43\n",
       "                    小米               43\n",
       "                    OPPO             14\n",
       "                    vivo             13\n",
       "80        80        华为               14\n",
       "                    三星               11\n",
       "                    小米               11\n",
       "                    vivo              4\n",
       "                    酷派                4\n",
       "90        90        HTC               1\n",
       "                    华为                1\n",
       "                    金立                1\n",
       "Name: device_id, dtype: int64"
      ]
     },
     "execution_count": 18,
     "metadata": {},
     "output_type": "execute_result"
    }
   ],
   "source": [
    "# Keep Top 5 Phone Brands by 30 split flag\n",
    "top5_brand = brand_by_agegroup.groupby(level=0).nlargest(5)\n",
    "top5_brand"
   ]
  },
  {
   "cell_type": "code",
   "execution_count": 19,
   "metadata": {
    "collapsed": true
   },
   "outputs": [],
   "source": [
    "brand_by_agegroup2 = df_subset.groupby(['Age_30_Split', 'phone_brand']).device_id.nunique()#.unstack(1)\n",
    "brand_by_agegroup_df2 = pd.DataFrame(brand_by_agegroup2)"
   ]
  },
  {
   "cell_type": "code",
   "execution_count": 20,
   "metadata": {
    "collapsed": false
   },
   "outputs": [
    {
     "data": {
      "text/plain": [
       "Age_30_Split  Age_30_Split  phone_brand\n",
       "30 and Above  30 and Above  小米             7777\n",
       "                            三星             7596\n",
       "                            华为             7168\n",
       "                            OPPO           2205\n",
       "                            vivo           1935\n",
       "                            酷派             1695\n",
       "                            魅族             1448\n",
       "                            联想             1397\n",
       "                            金立              528\n",
       "                            HTC             485\n",
       "Below 30      Below 30      小米             9523\n",
       "                            三星             6073\n",
       "                            华为             5792\n",
       "                            vivo           3702\n",
       "                            OPPO           3578\n",
       "                            魅族             3251\n",
       "                            酷派             1644\n",
       "                            联想             1294\n",
       "                            金立              595\n",
       "                            HTC             528\n",
       "Name: device_id, dtype: int64"
      ]
     },
     "execution_count": 20,
     "metadata": {},
     "output_type": "execute_result"
    }
   ],
   "source": [
    "# Keep Top 5 Phone Brands by 30 split flag\n",
    "top5_brand = brand_by_agegroup2.groupby(level=0).nlargest(10)\n",
    "top5_brand"
   ]
  },
  {
   "cell_type": "code",
   "execution_count": 21,
   "metadata": {
    "collapsed": true
   },
   "outputs": [],
   "source": [
    "model_by_agegroup = df_subset.groupby(['Age_30_Split', 'Brand_Model']).device_id.nunique()#.unstack(1)\n",
    "model_by_agegroup_df = pd.DataFrame(model_by_agegroup)#.fillna(method='ffill')"
   ]
  },
  {
   "cell_type": "code",
   "execution_count": 22,
   "metadata": {
    "collapsed": false
   },
   "outputs": [
    {
     "data": {
      "text/plain": [
       "Age_30_Split  Age_30_Split  Brand_Model     \n",
       "30 and Above  30 and Above  小米,红米note           1552\n",
       "                            三星,Galaxy Note 3    1165\n",
       "                            三星,Galaxy Note 2     977\n",
       "                            小米,MI 3              932\n",
       "                            三星,Galaxy S4         799\n",
       "                            小米,MI 4              789\n",
       "                            小米,MI 2S             782\n",
       "                            华为,Mate 7            658\n",
       "                            华为,荣耀畅玩4X            651\n",
       "                            华为,荣耀6               624\n",
       "                            三星,Galaxy S3         520\n",
       "                            小米,红米                490\n",
       "                            小米,红米1S              489\n",
       "                            华为,荣耀3C              473\n",
       "                            三星,Galaxy S5         398\n",
       "                            小米,红米2               398\n",
       "                            华为,荣耀6 Plus          385\n",
       "                            小米,红米Note2           380\n",
       "                            小米,红米2A              326\n",
       "                            华为,荣耀3X畅玩版           318\n",
       "Below 30      Below 30      小米,红米note           1461\n",
       "                            小米,MI 3             1367\n",
       "                            小米,MI 2S            1354\n",
       "                            小米,MI 4             1121\n",
       "                            三星,Galaxy Note 3     900\n",
       "                            三星,Galaxy S4         769\n",
       "                            三星,Galaxy Note 2     633\n",
       "                            华为,荣耀6               615\n",
       "                            华为,荣耀3C              594\n",
       "                            魅族,魅蓝NOTE            547\n",
       "                            小米,红米1S              483\n",
       "                            小米,红米                480\n",
       "                            魅族,MX3               480\n",
       "                            魅族,魅蓝Note 2          471\n",
       "                            华为,荣耀畅玩4X            451\n",
       "                            三星,Galaxy S3         446\n",
       "                            小米,红米2               426\n",
       "                            小米,红米Note2           426\n",
       "                            魅族,MX4               421\n",
       "                            OPPO,R7              413\n",
       "Name: device_id, dtype: int64"
      ]
     },
     "execution_count": 22,
     "metadata": {},
     "output_type": "execute_result"
    }
   ],
   "source": [
    "# Keep Top 5 Phone Brands by 30 split flag\n",
    "top5_model = model_by_agegroup.groupby(level=0).nlargest(20)\n",
    "top5_model"
   ]
  },
  {
   "cell_type": "code",
   "execution_count": 23,
   "metadata": {
    "collapsed": false
   },
   "outputs": [
    {
     "data": {
      "text/html": [
       "<div>\n",
       "<table border=\"1\" class=\"dataframe\">\n",
       "  <thead>\n",
       "    <tr style=\"text-align: right;\">\n",
       "      <th></th>\n",
       "      <th>Age_30_Split</th>\n",
       "      <th>30 and Above</th>\n",
       "      <th>Below 30</th>\n",
       "    </tr>\n",
       "    <tr>\n",
       "      <th>Age_30_Split</th>\n",
       "      <th>device_model</th>\n",
       "      <th></th>\n",
       "      <th></th>\n",
       "    </tr>\n",
       "  </thead>\n",
       "  <tbody>\n",
       "    <tr>\n",
       "      <th rowspan=\"10\" valign=\"top\">30 and Above</th>\n",
       "      <th>Galaxy Note 2</th>\n",
       "      <td>977.0</td>\n",
       "      <td>NaN</td>\n",
       "    </tr>\n",
       "    <tr>\n",
       "      <th>Galaxy Note 3</th>\n",
       "      <td>1165.0</td>\n",
       "      <td>NaN</td>\n",
       "    </tr>\n",
       "    <tr>\n",
       "      <th>Galaxy S4</th>\n",
       "      <td>799.0</td>\n",
       "      <td>NaN</td>\n",
       "    </tr>\n",
       "    <tr>\n",
       "      <th>MI 2S</th>\n",
       "      <td>782.0</td>\n",
       "      <td>NaN</td>\n",
       "    </tr>\n",
       "    <tr>\n",
       "      <th>MI 3</th>\n",
       "      <td>932.0</td>\n",
       "      <td>NaN</td>\n",
       "    </tr>\n",
       "    <tr>\n",
       "      <th>MI 4</th>\n",
       "      <td>789.0</td>\n",
       "      <td>NaN</td>\n",
       "    </tr>\n",
       "    <tr>\n",
       "      <th>Mate 7</th>\n",
       "      <td>658.0</td>\n",
       "      <td>NaN</td>\n",
       "    </tr>\n",
       "    <tr>\n",
       "      <th>红米note</th>\n",
       "      <td>1552.0</td>\n",
       "      <td>NaN</td>\n",
       "    </tr>\n",
       "    <tr>\n",
       "      <th>荣耀6</th>\n",
       "      <td>624.0</td>\n",
       "      <td>NaN</td>\n",
       "    </tr>\n",
       "    <tr>\n",
       "      <th>荣耀畅玩4X</th>\n",
       "      <td>651.0</td>\n",
       "      <td>NaN</td>\n",
       "    </tr>\n",
       "    <tr>\n",
       "      <th rowspan=\"10\" valign=\"top\">Below 30</th>\n",
       "      <th>Galaxy Note 2</th>\n",
       "      <td>NaN</td>\n",
       "      <td>633.0</td>\n",
       "    </tr>\n",
       "    <tr>\n",
       "      <th>Galaxy Note 3</th>\n",
       "      <td>NaN</td>\n",
       "      <td>900.0</td>\n",
       "    </tr>\n",
       "    <tr>\n",
       "      <th>Galaxy S4</th>\n",
       "      <td>NaN</td>\n",
       "      <td>769.0</td>\n",
       "    </tr>\n",
       "    <tr>\n",
       "      <th>MI 2S</th>\n",
       "      <td>NaN</td>\n",
       "      <td>1354.0</td>\n",
       "    </tr>\n",
       "    <tr>\n",
       "      <th>MI 3</th>\n",
       "      <td>NaN</td>\n",
       "      <td>1367.0</td>\n",
       "    </tr>\n",
       "    <tr>\n",
       "      <th>MI 4</th>\n",
       "      <td>NaN</td>\n",
       "      <td>1121.0</td>\n",
       "    </tr>\n",
       "    <tr>\n",
       "      <th>红米note</th>\n",
       "      <td>NaN</td>\n",
       "      <td>1461.0</td>\n",
       "    </tr>\n",
       "    <tr>\n",
       "      <th>荣耀3C</th>\n",
       "      <td>NaN</td>\n",
       "      <td>594.0</td>\n",
       "    </tr>\n",
       "    <tr>\n",
       "      <th>荣耀6</th>\n",
       "      <td>NaN</td>\n",
       "      <td>615.0</td>\n",
       "    </tr>\n",
       "    <tr>\n",
       "      <th>魅蓝NOTE</th>\n",
       "      <td>NaN</td>\n",
       "      <td>547.0</td>\n",
       "    </tr>\n",
       "  </tbody>\n",
       "</table>\n",
       "</div>"
      ],
      "text/plain": [
       "Age_30_Split                30 and Above  Below 30\n",
       "Age_30_Split device_model                         \n",
       "30 and Above Galaxy Note 2         977.0       NaN\n",
       "             Galaxy Note 3        1165.0       NaN\n",
       "             Galaxy S4             799.0       NaN\n",
       "             MI 2S                 782.0       NaN\n",
       "             MI 3                  932.0       NaN\n",
       "             MI 4                  789.0       NaN\n",
       "             Mate 7                658.0       NaN\n",
       "             红米note               1552.0       NaN\n",
       "             荣耀6                   624.0       NaN\n",
       "             荣耀畅玩4X                651.0       NaN\n",
       "Below 30     Galaxy Note 2           NaN     633.0\n",
       "             Galaxy Note 3           NaN     900.0\n",
       "             Galaxy S4               NaN     769.0\n",
       "             MI 2S                   NaN    1354.0\n",
       "             MI 3                    NaN    1367.0\n",
       "             MI 4                    NaN    1121.0\n",
       "             红米note                  NaN    1461.0\n",
       "             荣耀3C                    NaN     594.0\n",
       "             荣耀6                     NaN     615.0\n",
       "             魅蓝NOTE                  NaN     547.0"
      ]
     },
     "execution_count": 23,
     "metadata": {},
     "output_type": "execute_result"
    }
   ],
   "source": [
    "model_by_agegroup2=df_subset.groupby(['Age_30_Split', 'device_model']).device_id.nunique()\n",
    "top5_model = model_by_agegroup2.groupby(level=0).nlargest(10).unstack(1)\n",
    "top5_model"
   ]
  },
  {
   "cell_type": "markdown",
   "metadata": {},
   "source": [
    "### Age vs. App Category\n",
    "* It appears that app categories such as \"wealth management\" & \"P2P net loan\" are tend to be used by above 30 groups\n",
    "* App categories such as \"onlinemalls\" & \"Liquid medium\" are tend to be use by younger crowd (below 30)"
   ]
  },
  {
   "cell_type": "code",
   "execution_count": 24,
   "metadata": {
    "collapsed": false
   },
   "outputs": [],
   "source": [
    "device_list = df['device_id'].tolist()\n",
    "df_eventsubset = event[event.device_id.isin(device_list)]\n",
    "df_events = df_eventsubset.merge(app_event, on = ['event_id'])\n",
    "#df_events = df_events[df_events.is_active == 1]"
   ]
  },
  {
   "cell_type": "code",
   "execution_count": 25,
   "metadata": {
    "collapsed": false
   },
   "outputs": [],
   "source": [
    "df_events_new = df_events.loc[:,('device_id', 'app_id')].drop_duplicates()\n",
    "app_label = app_label.drop_duplicates()\n",
    "label_cat = label_cat.drop_duplicates()"
   ]
  },
  {
   "cell_type": "code",
   "execution_count": 26,
   "metadata": {
    "collapsed": false
   },
   "outputs": [
    {
     "data": {
      "text/plain": [
       "5753988"
      ]
     },
     "execution_count": 26,
     "metadata": {},
     "output_type": "execute_result"
    }
   ],
   "source": [
    "device_app = df_events_new.merge(app_label, on = ['app_id']).merge(label_cat, on = ['label_id'])\n",
    "df2 = df.merge(device_app, on = ['device_id'])\n",
    "len(df2)"
   ]
  },
  {
   "cell_type": "code",
   "execution_count": 27,
   "metadata": {
    "collapsed": false
   },
   "outputs": [
    {
     "data": {
      "text/plain": [
       "AgeGroup  AgeGroup  category                \n",
       "10        10        Personal Effectiveness 1     671\n",
       "                    video                        671\n",
       "                    music                        669\n",
       "                    Cozy 1                       659\n",
       "                    Finance                      653\n",
       "20        20        Finance                     9898\n",
       "                    Internet banking            9704\n",
       "                    Personal Effectiveness 1    9698\n",
       "                    Low risk                    9465\n",
       "                    video                       9396\n",
       "30        30        Finance                     7048\n",
       "                    Internet banking            6976\n",
       "                    Personal Effectiveness 1    6870\n",
       "                    Low risk                    6775\n",
       "                    Pay                         6592\n",
       "40        40        Finance                     2970\n",
       "                    Internet banking            2926\n",
       "                    Personal Effectiveness 1    2845\n",
       "                    Low risk                    2778\n",
       "                    Pay                         2702\n",
       "50        50        Finance                      934\n",
       "                    Internet banking             918\n",
       "                    Personal Effectiveness 1     906\n",
       "                    Low risk                     866\n",
       "                    Pay                          847\n",
       "60        60        Personal Effectiveness 1     323\n",
       "                    Finance                      318\n",
       "                    Internet banking             316\n",
       "                    Low risk                     303\n",
       "                    Pay                          299\n",
       "70        70        Finance                       69\n",
       "                    Internet banking              68\n",
       "                    Low risk                      63\n",
       "                    Pay                           61\n",
       "                    Moderate profitability        60\n",
       "80        80        Personal Effectiveness 1      17\n",
       "                    Finance                       16\n",
       "                    Cozy 1                        15\n",
       "                    music                         15\n",
       "                    High risk                     14\n",
       "Name: device_id, dtype: int64"
      ]
     },
     "execution_count": 27,
     "metadata": {},
     "output_type": "execute_result"
    }
   ],
   "source": [
    "df3 = df2[(df2.category != 'Industry tag') & (df2.category != 'Property Industry 1.0') & (df2.category != 'Property Industry 2.0')\n",
    "         & (df2.category != 'unknown') & (df2.category != 'Relatives 1') & (df2.category != 'Services 1') & (df2.category != '1 free')\n",
    "         & (df2.category != 'Custom label') & (df2.category != 'And the Church') & (df2.category != 'IM')]\n",
    "a = df3.groupby(['AgeGroup', 'category']).device_id.nunique()\n",
    "top5_app = a.groupby(level=0).nlargest(5)\n",
    "top5_app"
   ]
  },
  {
   "cell_type": "code",
   "execution_count": 28,
   "metadata": {
    "collapsed": false
   },
   "outputs": [
    {
     "data": {
      "text/plain": [
       "Age_30_Split  Age_30_Split  category                \n",
       "30 and Above  30 and Above  Finance                     11355\n",
       "                            Internet banking            11218\n",
       "                            Personal Effectiveness 1    11019\n",
       "                            Low risk                    10798\n",
       "                            Pay                         10514\n",
       "                            Moderate profitability      10142\n",
       "                            High Flow                   10089\n",
       "                            video                       10072\n",
       "                            Third party payment         10052\n",
       "                            Liquid medium               10003\n",
       "Below 30      Below 30      Finance                     10551\n",
       "                            Personal Effectiveness 1    10369\n",
       "                            Internet banking            10340\n",
       "                            Low risk                    10079\n",
       "                            video                       10067\n",
       "                            Pay                          9855\n",
       "                            Moderate profitability       9649\n",
       "                            High Flow                    9641\n",
       "                            Third party payment          9628\n",
       "                            online malls                 9580\n",
       "Name: device_id, dtype: int64"
      ]
     },
     "execution_count": 28,
     "metadata": {},
     "output_type": "execute_result"
    }
   ],
   "source": [
    "df3 = df2[(df2.category != 'Industry tag') & (df2.category != 'Property Industry 1.0') & (df2.category != 'Property Industry 2.0')\n",
    "         & (df2.category != 'unknown') & (df2.category != 'Relatives 1') & (df2.category != 'Services 1') & (df2.category != '1 free')\n",
    "         & (df2.category != 'Custom label') & (df2.category != 'And the Church') & (df2.category != 'IM')]\n",
    "b = df3.groupby(['Age_30_Split', 'category']).device_id.nunique()\n",
    "top10_app2 = b.groupby(level=0).nlargest(10)\n",
    "top10_app2"
   ]
  },
  {
   "cell_type": "code",
   "execution_count": 37,
   "metadata": {
    "collapsed": false
   },
   "outputs": [
    {
     "data": {
      "text/html": [
       "<div>\n",
       "<table border=\"1\" class=\"dataframe\">\n",
       "  <thead>\n",
       "    <tr style=\"text-align: right;\">\n",
       "      <th></th>\n",
       "      <th>AgeGroup</th>\n",
       "      <th>category</th>\n",
       "      <th>device_count</th>\n",
       "    </tr>\n",
       "  </thead>\n",
       "  <tbody>\n",
       "    <tr>\n",
       "      <th>0</th>\n",
       "      <td>10</td>\n",
       "      <td>Liquid medium</td>\n",
       "      <td>400</td>\n",
       "    </tr>\n",
       "    <tr>\n",
       "      <th>1</th>\n",
       "      <td>10</td>\n",
       "      <td>P2P net loan</td>\n",
       "      <td>306</td>\n",
       "    </tr>\n",
       "    <tr>\n",
       "      <th>2</th>\n",
       "      <td>10</td>\n",
       "      <td>Personal Effectiveness 1</td>\n",
       "      <td>671</td>\n",
       "    </tr>\n",
       "    <tr>\n",
       "      <th>3</th>\n",
       "      <td>10</td>\n",
       "      <td>Wealth Management</td>\n",
       "      <td>353</td>\n",
       "    </tr>\n",
       "    <tr>\n",
       "      <th>4</th>\n",
       "      <td>10</td>\n",
       "      <td>online malls</td>\n",
       "      <td>622</td>\n",
       "    </tr>\n",
       "  </tbody>\n",
       "</table>\n",
       "</div>"
      ],
      "text/plain": [
       "   AgeGroup                  category  device_count\n",
       "0        10             Liquid medium           400\n",
       "1        10              P2P net loan           306\n",
       "2        10  Personal Effectiveness 1           671\n",
       "3        10         Wealth Management           353\n",
       "4        10              online malls           622"
      ]
     },
     "execution_count": 37,
     "metadata": {},
     "output_type": "execute_result"
    }
   ],
   "source": [
    "# Focus on top 10 apps \n",
    "df4 = df3[(df3.category == 'Personal Effectiveness 1')|(df3.category == 'Wealth Management')|(df3.category == 'P2P net loan')\n",
    "          |(df3.category == 'P2P net loan')|(df3.category == 'online malls')|(df3.category == 'Liquid medium')]\n",
    "df_agg = pd.DataFrame({'device_count' : df4.groupby( [ \"AgeGroup\", \"category\"] ).device_id.nunique()}).reset_index()\n",
    "df_agg.head()"
   ]
  },
  {
   "cell_type": "code",
   "execution_count": 38,
   "metadata": {
    "collapsed": false
   },
   "outputs": [
    {
     "data": {
      "image/png": "[encoded data removed]",
      "text/plain": [
       "<matplotlib.figure.Figure at 0x112d0986860>"
      ]
     },
     "metadata": {},
     "output_type": "display_data"
    }
   ],
   "source": [
    "import seaborn as sns\n",
    "sns.lmplot('device_count', 'AgeGroup', data=df_agg, hue='category', fit_reg=False)\n",
    "plt.show()"
   ]
  },
  {
   "cell_type": "markdown",
   "metadata": {
    "collapsed": true
   },
   "source": [
    "### Age vs. Activity Time During the Day\n",
    "* People above 30 tend to get up earlier than below 30 group... more activities before 8 for former group"
   ]
  },
  {
   "cell_type": "code",
   "execution_count": 39,
   "metadata": {
    "collapsed": true
   },
   "outputs": [],
   "source": [
    "event_new = event.merge(gatrain, on = ['device_id'])"
   ]
  },
  {
   "cell_type": "code",
   "execution_count": 41,
   "metadata": {
    "collapsed": false
   },
   "outputs": [
    {
     "data": {
      "text/html": [
       "<div>\n",
       "<table border=\"1\" class=\"dataframe\">\n",
       "  <thead>\n",
       "    <tr style=\"text-align: right;\">\n",
       "      <th></th>\n",
       "      <th>event_id</th>\n",
       "      <th>device_id</th>\n",
       "      <th>timestamp</th>\n",
       "      <th>longitude</th>\n",
       "      <th>latitude</th>\n",
       "      <th>gender</th>\n",
       "      <th>age</th>\n",
       "      <th>group</th>\n",
       "      <th>hour</th>\n",
       "      <th>day</th>\n",
       "      <th>dayofweek</th>\n",
       "      <th>Adult</th>\n",
       "      <th>Age_30_Split</th>\n",
       "      <th>AgeGroup</th>\n",
       "    </tr>\n",
       "  </thead>\n",
       "  <tbody>\n",
       "    <tr>\n",
       "      <th>0</th>\n",
       "      <td>1</td>\n",
       "      <td>29182687948017175</td>\n",
       "      <td>2016-05-01 00:55:25</td>\n",
       "      <td>121.38</td>\n",
       "      <td>31.24</td>\n",
       "      <td>M</td>\n",
       "      <td>46</td>\n",
       "      <td>M39+</td>\n",
       "      <td>0</td>\n",
       "      <td>1</td>\n",
       "      <td>7</td>\n",
       "      <td>Adult</td>\n",
       "      <td>30 and Above</td>\n",
       "      <td>40</td>\n",
       "    </tr>\n",
       "    <tr>\n",
       "      <th>1</th>\n",
       "      <td>7104</td>\n",
       "      <td>29182687948017175</td>\n",
       "      <td>2016-05-02 09:37:02</td>\n",
       "      <td>121.38</td>\n",
       "      <td>31.24</td>\n",
       "      <td>M</td>\n",
       "      <td>46</td>\n",
       "      <td>M39+</td>\n",
       "      <td>9</td>\n",
       "      <td>2</td>\n",
       "      <td>1</td>\n",
       "      <td>Adult</td>\n",
       "      <td>30 and Above</td>\n",
       "      <td>40</td>\n",
       "    </tr>\n",
       "    <tr>\n",
       "      <th>2</th>\n",
       "      <td>29661</td>\n",
       "      <td>29182687948017175</td>\n",
       "      <td>2016-05-04 00:56:04</td>\n",
       "      <td>121.39</td>\n",
       "      <td>31.23</td>\n",
       "      <td>M</td>\n",
       "      <td>46</td>\n",
       "      <td>M39+</td>\n",
       "      <td>0</td>\n",
       "      <td>4</td>\n",
       "      <td>3</td>\n",
       "      <td>Adult</td>\n",
       "      <td>30 and Above</td>\n",
       "      <td>40</td>\n",
       "    </tr>\n",
       "    <tr>\n",
       "      <th>3</th>\n",
       "      <td>33133</td>\n",
       "      <td>29182687948017175</td>\n",
       "      <td>2016-05-06 05:01:15</td>\n",
       "      <td>121.38</td>\n",
       "      <td>31.24</td>\n",
       "      <td>M</td>\n",
       "      <td>46</td>\n",
       "      <td>M39+</td>\n",
       "      <td>5</td>\n",
       "      <td>6</td>\n",
       "      <td>5</td>\n",
       "      <td>Adult</td>\n",
       "      <td>30 and Above</td>\n",
       "      <td>40</td>\n",
       "    </tr>\n",
       "    <tr>\n",
       "      <th>4</th>\n",
       "      <td>38980</td>\n",
       "      <td>29182687948017175</td>\n",
       "      <td>2016-05-06 09:55:04</td>\n",
       "      <td>121.16</td>\n",
       "      <td>31.00</td>\n",
       "      <td>M</td>\n",
       "      <td>46</td>\n",
       "      <td>M39+</td>\n",
       "      <td>9</td>\n",
       "      <td>6</td>\n",
       "      <td>5</td>\n",
       "      <td>Adult</td>\n",
       "      <td>30 and Above</td>\n",
       "      <td>40</td>\n",
       "    </tr>\n",
       "  </tbody>\n",
       "</table>\n",
       "</div>"
      ],
      "text/plain": [
       "   event_id          device_id           timestamp  longitude  latitude  \\\n",
       "0         1  29182687948017175 2016-05-01 00:55:25     121.38     31.24   \n",
       "1      7104  29182687948017175 2016-05-02 09:37:02     121.38     31.24   \n",
       "2     29661  29182687948017175 2016-05-04 00:56:04     121.39     31.23   \n",
       "3     33133  29182687948017175 2016-05-06 05:01:15     121.38     31.24   \n",
       "4     38980  29182687948017175 2016-05-06 09:55:04     121.16     31.00   \n",
       "\n",
       "  gender  age group  hour  day  dayofweek  Adult  Age_30_Split  AgeGroup  \n",
       "0      M   46  M39+     0    1          7  Adult  30 and Above        40  \n",
       "1      M   46  M39+     9    2          1  Adult  30 and Above        40  \n",
       "2      M   46  M39+     0    4          3  Adult  30 and Above        40  \n",
       "3      M   46  M39+     5    6          5  Adult  30 and Above        40  \n",
       "4      M   46  M39+     9    6          5  Adult  30 and Above        40  "
      ]
     },
     "execution_count": 41,
     "metadata": {},
     "output_type": "execute_result"
    }
   ],
   "source": [
    "# re-format timestamp column to datetime format in order to get other time attributes later\n",
    "event_new.timestamp = event_new.timestamp.apply(pd.to_datetime)\n",
    "event_new['hour'] = event_new['timestamp'].dt.hour\n",
    "event_new['day'] = event_new['timestamp'].dt.day\n",
    "event_new['dayofweek'] = event_new['timestamp'].dt.dayofweek+1\n",
    "event_new['Adult'] = np.where(event_new.age<=18,'Teen', 'Adult')\n",
    "event_new['Age_30_Split'] = np.where(event_new.age<30,'Below 30', '30 and Above')\n",
    "event_new['AgeGroup'] = event_new.age//10*10\n",
    "event_new.head()"
   ]
  },
  {
   "cell_type": "code",
   "execution_count": 42,
   "metadata": {
    "collapsed": false
   },
   "outputs": [
    {
     "data": {
      "text/plain": [
       "AgeGroup  AgeGroup  hour\n",
       "10        10        18       251\n",
       "                    12       250\n",
       "                    22       244\n",
       "                    21       239\n",
       "                    13       238\n",
       "20        20        10      4314\n",
       "                    12      4290\n",
       "                    11      4275\n",
       "                    21      4242\n",
       "                    20      4193\n",
       "30        30        21      3438\n",
       "                    10      3434\n",
       "                    9       3336\n",
       "                    20      3329\n",
       "                    12      3316\n",
       "40        40        10      1515\n",
       "                    21      1510\n",
       "                    9       1493\n",
       "                    20      1492\n",
       "                    19      1466\n",
       "50        50        8        474\n",
       "                    10       470\n",
       "                    11       467\n",
       "                    21       464\n",
       "                    9        463\n",
       "60        60        11       159\n",
       "                    12       157\n",
       "                    9        144\n",
       "                    15       144\n",
       "                    21       144\n",
       "70        70        11        40\n",
       "                    17        36\n",
       "                    19        36\n",
       "                    8         34\n",
       "                    13        34\n",
       "80        80        21        11\n",
       "                    10        10\n",
       "                    13         9\n",
       "                    20         9\n",
       "                    9          8\n",
       "Name: device_id, dtype: int64"
      ]
     },
     "execution_count": 42,
     "metadata": {},
     "output_type": "execute_result"
    }
   ],
   "source": [
    "# group by age and hour\n",
    "en = event_new.groupby(['AgeGroup', 'hour']).device_id.nunique()\n",
    "top_hours = en.groupby(level=0).nlargest(5)\n",
    "top_hours"
   ]
  },
  {
   "cell_type": "code",
   "execution_count": 43,
   "metadata": {
    "collapsed": false
   },
   "outputs": [
    {
     "data": {
      "text/plain": [
       "Age_30_Split  Age_30_Split  hour\n",
       "30 and Above  30 and Above  10      5598\n",
       "                            21      5596\n",
       "                            9       5475\n",
       "                            20      5450\n",
       "                            11      5423\n",
       "                            12      5378\n",
       "                            19      5377\n",
       "                            8       5336\n",
       "                            18      5208\n",
       "                            17      5205\n",
       "                            13      5145\n",
       "                            22      5135\n",
       "                            14      5077\n",
       "                            7       5071\n",
       "                            15      5067\n",
       "                            16      5060\n",
       "                            23      4311\n",
       "                            6       4251\n",
       "                            0       3556\n",
       "                            5       2710\n",
       "Below 30      Below 30      12      4540\n",
       "                            10      4538\n",
       "                            11      4511\n",
       "                            21      4481\n",
       "                            20      4431\n",
       "                            22      4420\n",
       "                            13      4369\n",
       "                            19      4359\n",
       "                            14      4330\n",
       "                            18      4312\n",
       "                            9       4253\n",
       "                            17      4251\n",
       "                            16      4246\n",
       "                            15      4241\n",
       "                            8       3992\n",
       "                            23      3972\n",
       "                            7       3584\n",
       "                            0       3247\n",
       "                            6       2637\n",
       "                            1       2407\n",
       "Name: device_id, dtype: int64"
      ]
     },
     "execution_count": 43,
     "metadata": {},
     "output_type": "execute_result"
    }
   ],
   "source": [
    "en = event_new.groupby(['Age_30_Split', 'hour']).device_id.nunique()\n",
    "top_hours = en.groupby(level=0).nlargest(20)\n",
    "top_hours"
   ]
  },
  {
   "cell_type": "code",
   "execution_count": 44,
   "metadata": {
    "collapsed": false
   },
   "outputs": [
    {
     "data": {
      "text/plain": [
       "<matplotlib.axes._subplots.AxesSubplot at 0x112d096c358>"
      ]
     },
     "execution_count": 44,
     "metadata": {},
     "output_type": "execute_result"
    },
    {
     "data": {
      "image/png": "[encoded data removed]",
      "text/plain": [
       "<matplotlib.figure.Figure at 0x112ced2abe0>"
      ]
     },
     "metadata": {},
     "output_type": "display_data"
    }
   ],
   "source": [
    "event_new.groupby(['Age_30_Split', 'hour']).device_id.nunique().unstack(0).plot()\n",
    "#model_by_agegroup_df = pd.DataFrame(brand_by_agegroup)#.fillna(method='ffill')"
   ]
  },
  {
   "cell_type": "markdown",
   "metadata": {
    "collapsed": true
   },
   "source": [
    "### Logistic Regression Predict Age-30-Split Based on Phone Brand and App Category"
   ]
  },
  {
   "cell_type": "code",
   "execution_count": 45,
   "metadata": {
    "collapsed": false
   },
   "outputs": [
    {
     "data": {
      "text/html": [
       "<div>\n",
       "<table border=\"1\" class=\"dataframe\">\n",
       "  <thead>\n",
       "    <tr style=\"text-align: right;\">\n",
       "      <th></th>\n",
       "      <th>device_id</th>\n",
       "      <th>gender</th>\n",
       "      <th>age</th>\n",
       "      <th>group</th>\n",
       "      <th>phone_brand</th>\n",
       "      <th>device_model</th>\n",
       "      <th>Brand_Model</th>\n",
       "      <th>Adult</th>\n",
       "      <th>Age_30_Split</th>\n",
       "      <th>AgeGroup</th>\n",
       "      <th>app_id</th>\n",
       "      <th>label_id</th>\n",
       "      <th>category</th>\n",
       "    </tr>\n",
       "  </thead>\n",
       "  <tbody>\n",
       "    <tr>\n",
       "      <th>0</th>\n",
       "      <td>-8260683887967679142</td>\n",
       "      <td>M</td>\n",
       "      <td>35</td>\n",
       "      <td>M32-38</td>\n",
       "      <td>小米</td>\n",
       "      <td>MI 2</td>\n",
       "      <td>小米,MI 2</td>\n",
       "      <td>Adult</td>\n",
       "      <td>30 and Above</td>\n",
       "      <td>30</td>\n",
       "      <td>1665047061121005617</td>\n",
       "      <td>549</td>\n",
       "      <td>Property Industry 1.0</td>\n",
       "    </tr>\n",
       "    <tr>\n",
       "      <th>1</th>\n",
       "      <td>-8260683887967679142</td>\n",
       "      <td>M</td>\n",
       "      <td>35</td>\n",
       "      <td>M32-38</td>\n",
       "      <td>小米</td>\n",
       "      <td>MI 2</td>\n",
       "      <td>小米,MI 2</td>\n",
       "      <td>Adult</td>\n",
       "      <td>30 and Above</td>\n",
       "      <td>30</td>\n",
       "      <td>-2145434552412465677</td>\n",
       "      <td>549</td>\n",
       "      <td>Property Industry 1.0</td>\n",
       "    </tr>\n",
       "    <tr>\n",
       "      <th>2</th>\n",
       "      <td>-8260683887967679142</td>\n",
       "      <td>M</td>\n",
       "      <td>35</td>\n",
       "      <td>M32-38</td>\n",
       "      <td>小米</td>\n",
       "      <td>MI 2</td>\n",
       "      <td>小米,MI 2</td>\n",
       "      <td>Adult</td>\n",
       "      <td>30 and Above</td>\n",
       "      <td>30</td>\n",
       "      <td>-3425831168385824047</td>\n",
       "      <td>549</td>\n",
       "      <td>Property Industry 1.0</td>\n",
       "    </tr>\n",
       "    <tr>\n",
       "      <th>3</th>\n",
       "      <td>-8260683887967679142</td>\n",
       "      <td>M</td>\n",
       "      <td>35</td>\n",
       "      <td>M32-38</td>\n",
       "      <td>小米</td>\n",
       "      <td>MI 2</td>\n",
       "      <td>小米,MI 2</td>\n",
       "      <td>Adult</td>\n",
       "      <td>30 and Above</td>\n",
       "      <td>30</td>\n",
       "      <td>-4822828198118893639</td>\n",
       "      <td>549</td>\n",
       "      <td>Property Industry 1.0</td>\n",
       "    </tr>\n",
       "    <tr>\n",
       "      <th>4</th>\n",
       "      <td>-8260683887967679142</td>\n",
       "      <td>M</td>\n",
       "      <td>35</td>\n",
       "      <td>M32-38</td>\n",
       "      <td>小米</td>\n",
       "      <td>MI 2</td>\n",
       "      <td>小米,MI 2</td>\n",
       "      <td>Adult</td>\n",
       "      <td>30 and Above</td>\n",
       "      <td>30</td>\n",
       "      <td>-4547357956657275284</td>\n",
       "      <td>549</td>\n",
       "      <td>Property Industry 1.0</td>\n",
       "    </tr>\n",
       "  </tbody>\n",
       "</table>\n",
       "</div>"
      ],
      "text/plain": [
       "             device_id gender  age   group phone_brand device_model  \\\n",
       "0 -8260683887967679142      M   35  M32-38          小米         MI 2   \n",
       "1 -8260683887967679142      M   35  M32-38          小米         MI 2   \n",
       "2 -8260683887967679142      M   35  M32-38          小米         MI 2   \n",
       "3 -8260683887967679142      M   35  M32-38          小米         MI 2   \n",
       "4 -8260683887967679142      M   35  M32-38          小米         MI 2   \n",
       "\n",
       "  Brand_Model  Adult  Age_30_Split  AgeGroup               app_id  label_id  \\\n",
       "0     小米,MI 2  Adult  30 and Above        30  1665047061121005617       549   \n",
       "1     小米,MI 2  Adult  30 and Above        30 -2145434552412465677       549   \n",
       "2     小米,MI 2  Adult  30 and Above        30 -3425831168385824047       549   \n",
       "3     小米,MI 2  Adult  30 and Above        30 -4822828198118893639       549   \n",
       "4     小米,MI 2  Adult  30 and Above        30 -4547357956657275284       549   \n",
       "\n",
       "                category  \n",
       "0  Property Industry 1.0  \n",
       "1  Property Industry 1.0  \n",
       "2  Property Industry 1.0  \n",
       "3  Property Industry 1.0  \n",
       "4  Property Industry 1.0  "
      ]
     },
     "execution_count": 45,
     "metadata": {},
     "output_type": "execute_result"
    }
   ],
   "source": [
    "df2.head()"
   ]
  },
  {
   "cell_type": "code",
   "execution_count": 46,
   "metadata": {
    "collapsed": false
   },
   "outputs": [
    {
     "data": {
      "image/png": "[encoded data removed]",
      "text/plain": [
       "<matplotlib.figure.Figure at 0x112d096cf28>"
      ]
     },
     "metadata": {},
     "output_type": "display_data"
    }
   ],
   "source": [
    "# Select Features and Show Distribution of Each Feature\n",
    "# Feature 1 - Meizu Brand\n",
    "df_model_base_data = df2\n",
    "Meizu = df_model_base_data[df_model_base_data.phone_brand == '魅族']\n",
    "Meizu_Dis = Meizu.groupby('AgeGroup').device_id.nunique().plot(kind='bar',title = 'Meizu Distribution by Age Group')\n",
    "Meizu_Dis.set(xlabel='Age Group', ylabel='Population')\n",
    "plt.show()"
   ]
  },
  {
   "cell_type": "code",
   "execution_count": 47,
   "metadata": {
    "collapsed": false
   },
   "outputs": [
    {
     "data": {
      "image/png": "[encoded data removed]",
      "text/plain": [
       "<matplotlib.figure.Figure at 0x112d09fdf28>"
      ]
     },
     "metadata": {},
     "output_type": "display_data"
    }
   ],
   "source": [
    "# Feature 2 - vivo Brand\n",
    "vivo = df_model_base_data[df_model_base_data.phone_brand == 'vivo']\n",
    "vivo_Dis = vivo.groupby('AgeGroup').device_id.nunique().plot(kind='bar',title = 'vivo Distribution by Age Group')\n",
    "vivo_Dis.set(xlabel='Age Group', ylabel='Population')\n",
    "plt.show()"
   ]
  },
  {
   "cell_type": "code",
   "execution_count": 48,
   "metadata": {
    "collapsed": false
   },
   "outputs": [
    {
     "data": {
      "image/png": "[encoded data removed]",
      "text/plain": [
       "<matplotlib.figure.Figure at 0x11308d6e6a0>"
      ]
     },
     "metadata": {},
     "output_type": "display_data"
    }
   ],
   "source": [
    "# Feature 3 - Wealth Management App\n",
    "WealthMgmt = df_model_base_data[df_model_base_data.category == 'Wealth Management']\n",
    "WealthMgmt_Dis = vivo.groupby('AgeGroup').device_id.nunique().plot(kind='bar',title = 'Wealth Management App Distribution by Age Group')\n",
    "WealthMgmt_Dis.set(xlabel='Age Group', ylabel='Population')\n",
    "plt.show()"
   ]
  },
  {
   "cell_type": "code",
   "execution_count": 49,
   "metadata": {
    "collapsed": false
   },
   "outputs": [
    {
     "data": {
      "image/png": "[encoded data removed]",
      "text/plain": [
       "<matplotlib.figure.Figure at 0x11309459438>"
      ]
     },
     "metadata": {},
     "output_type": "display_data"
    }
   ],
   "source": [
    "# Feature 4 - P2P net loan App\n",
    "P2PNetLoan = df_model_base_data[df_model_base_data.category == 'P2P net loan']\n",
    "P2PNetLoan_Dis = vivo.groupby('AgeGroup').device_id.nunique().plot(kind='bar',title = 'P2P net loan App Distribution by Age Group')\n",
    "P2PNetLoan_Dis.set(xlabel='Age Group', ylabel='Population')\n",
    "plt.show()"
   ]
  },
  {
   "cell_type": "code",
   "execution_count": 50,
   "metadata": {
    "collapsed": false
   },
   "outputs": [
    {
     "data": {
      "image/png": "[encoded data removed]",
      "text/plain": [
       "<matplotlib.figure.Figure at 0x11309abb080>"
      ]
     },
     "metadata": {},
     "output_type": "display_data"
    }
   ],
   "source": [
    "OnlineMall = df_model_base_data[df_model_base_data.category == 'online malls']\n",
    "OnlineMall_Dis = vivo.groupby('AgeGroup').device_id.nunique().plot(kind='bar',title = 'online malls App Distribution by Age Group')\n",
    "OnlineMall_Dis.set(xlabel='Age Group', ylabel='Population')\n",
    "plt.show()"
   ]
  },
  {
   "cell_type": "code",
   "execution_count": 51,
   "metadata": {
    "collapsed": false
   },
   "outputs": [
    {
     "data": {
      "image/png": "[encoded data removed]",
      "text/plain": [
       "<matplotlib.figure.Figure at 0x112d0906198>"
      ]
     },
     "metadata": {},
     "output_type": "display_data"
    }
   ],
   "source": [
    "Video = df_model_base_data[df_model_base_data.category == 'video']\n",
    "Video_Dis = vivo.groupby('AgeGroup').device_id.nunique().plot(kind='bar',title = 'Video App Distribution by Age Group')\n",
    "Video_Dis.set(xlabel='Age Group', ylabel='Population')\n",
    "plt.show()"
   ]
  },
  {
   "cell_type": "code",
   "execution_count": 53,
   "metadata": {
    "collapsed": true
   },
   "outputs": [],
   "source": [
    "# Create dummy variables for each feature\n",
    "df_model_base_data['Meizu_Brand'] = np.where(df_model_base_data.phone_brand=='魅族',1, 0)\n",
    "df_model_base_data['vivo_Brand'] = np.where(df_model_base_data.phone_brand=='vivo',1, 0)\n",
    "df_model_base_data['Wealth_Management'] = np.where(df_model_base_data.category =='Wealth Management',1, 0)\n",
    "df_model_base_data['P2PLoan'] = np.where(df_model_base_data.category =='P2P net loan',1, 0)\n",
    "df_model_base_data['OnlineShopping'] = np.where(df_model_base_data.category =='online malls',1, 0)\n",
    "df_model_base_data['Liquid_medium'] = np.where(df_model_base_data.category =='Liquid medium',1, 0)\n",
    "df_model_base_data['Age_30_Cutoff'] = np.where(df_model_base_data.age<30, 1, 0)"
   ]
  },
  {
   "cell_type": "code",
   "execution_count": 54,
   "metadata": {
    "collapsed": false
   },
   "outputs": [
    {
     "data": {
      "text/html": [
       "<div>\n",
       "<table border=\"1\" class=\"dataframe\">\n",
       "  <thead>\n",
       "    <tr style=\"text-align: right;\">\n",
       "      <th></th>\n",
       "      <th>device_id</th>\n",
       "      <th>gender</th>\n",
       "      <th>age</th>\n",
       "      <th>group</th>\n",
       "      <th>phone_brand</th>\n",
       "      <th>device_model</th>\n",
       "      <th>Brand_Model</th>\n",
       "      <th>Adult</th>\n",
       "      <th>Age_30_Split</th>\n",
       "      <th>AgeGroup</th>\n",
       "      <th>...</th>\n",
       "      <th>label_id</th>\n",
       "      <th>category</th>\n",
       "      <th>Meizu_Brand</th>\n",
       "      <th>vivo_Brand</th>\n",
       "      <th>Wealth_Management</th>\n",
       "      <th>P2PLoan</th>\n",
       "      <th>OnlineShopping</th>\n",
       "      <th>Video</th>\n",
       "      <th>Age_30_Cutoff</th>\n",
       "      <th>Liquid_medium</th>\n",
       "    </tr>\n",
       "  </thead>\n",
       "  <tbody>\n",
       "    <tr>\n",
       "      <th>0</th>\n",
       "      <td>-8260683887967679142</td>\n",
       "      <td>M</td>\n",
       "      <td>35</td>\n",
       "      <td>M32-38</td>\n",
       "      <td>小米</td>\n",
       "      <td>MI 2</td>\n",
       "      <td>小米,MI 2</td>\n",
       "      <td>Adult</td>\n",
       "      <td>30 and Above</td>\n",
       "      <td>30</td>\n",
       "      <td>...</td>\n",
       "      <td>549</td>\n",
       "      <td>Property Industry 1.0</td>\n",
       "      <td>0</td>\n",
       "      <td>0</td>\n",
       "      <td>0</td>\n",
       "      <td>0</td>\n",
       "      <td>0</td>\n",
       "      <td>0</td>\n",
       "      <td>0</td>\n",
       "      <td>0</td>\n",
       "    </tr>\n",
       "    <tr>\n",
       "      <th>1</th>\n",
       "      <td>-8260683887967679142</td>\n",
       "      <td>M</td>\n",
       "      <td>35</td>\n",
       "      <td>M32-38</td>\n",
       "      <td>小米</td>\n",
       "      <td>MI 2</td>\n",
       "      <td>小米,MI 2</td>\n",
       "      <td>Adult</td>\n",
       "      <td>30 and Above</td>\n",
       "      <td>30</td>\n",
       "      <td>...</td>\n",
       "      <td>549</td>\n",
       "      <td>Property Industry 1.0</td>\n",
       "      <td>0</td>\n",
       "      <td>0</td>\n",
       "      <td>0</td>\n",
       "      <td>0</td>\n",
       "      <td>0</td>\n",
       "      <td>0</td>\n",
       "      <td>0</td>\n",
       "      <td>0</td>\n",
       "    </tr>\n",
       "    <tr>\n",
       "      <th>2</th>\n",
       "      <td>-8260683887967679142</td>\n",
       "      <td>M</td>\n",
       "      <td>35</td>\n",
       "      <td>M32-38</td>\n",
       "      <td>小米</td>\n",
       "      <td>MI 2</td>\n",
       "      <td>小米,MI 2</td>\n",
       "      <td>Adult</td>\n",
       "      <td>30 and Above</td>\n",
       "      <td>30</td>\n",
       "      <td>...</td>\n",
       "      <td>549</td>\n",
       "      <td>Property Industry 1.0</td>\n",
       "      <td>0</td>\n",
       "      <td>0</td>\n",
       "      <td>0</td>\n",
       "      <td>0</td>\n",
       "      <td>0</td>\n",
       "      <td>0</td>\n",
       "      <td>0</td>\n",
       "      <td>0</td>\n",
       "    </tr>\n",
       "    <tr>\n",
       "      <th>3</th>\n",
       "      <td>-8260683887967679142</td>\n",
       "      <td>M</td>\n",
       "      <td>35</td>\n",
       "      <td>M32-38</td>\n",
       "      <td>小米</td>\n",
       "      <td>MI 2</td>\n",
       "      <td>小米,MI 2</td>\n",
       "      <td>Adult</td>\n",
       "      <td>30 and Above</td>\n",
       "      <td>30</td>\n",
       "      <td>...</td>\n",
       "      <td>549</td>\n",
       "      <td>Property Industry 1.0</td>\n",
       "      <td>0</td>\n",
       "      <td>0</td>\n",
       "      <td>0</td>\n",
       "      <td>0</td>\n",
       "      <td>0</td>\n",
       "      <td>0</td>\n",
       "      <td>0</td>\n",
       "      <td>0</td>\n",
       "    </tr>\n",
       "    <tr>\n",
       "      <th>4</th>\n",
       "      <td>-8260683887967679142</td>\n",
       "      <td>M</td>\n",
       "      <td>35</td>\n",
       "      <td>M32-38</td>\n",
       "      <td>小米</td>\n",
       "      <td>MI 2</td>\n",
       "      <td>小米,MI 2</td>\n",
       "      <td>Adult</td>\n",
       "      <td>30 and Above</td>\n",
       "      <td>30</td>\n",
       "      <td>...</td>\n",
       "      <td>549</td>\n",
       "      <td>Property Industry 1.0</td>\n",
       "      <td>0</td>\n",
       "      <td>0</td>\n",
       "      <td>0</td>\n",
       "      <td>0</td>\n",
       "      <td>0</td>\n",
       "      <td>0</td>\n",
       "      <td>0</td>\n",
       "      <td>0</td>\n",
       "    </tr>\n",
       "  </tbody>\n",
       "</table>\n",
       "<p>5 rows × 21 columns</p>\n",
       "</div>"
      ],
      "text/plain": [
       "             device_id gender  age   group phone_brand device_model  \\\n",
       "0 -8260683887967679142      M   35  M32-38          小米         MI 2   \n",
       "1 -8260683887967679142      M   35  M32-38          小米         MI 2   \n",
       "2 -8260683887967679142      M   35  M32-38          小米         MI 2   \n",
       "3 -8260683887967679142      M   35  M32-38          小米         MI 2   \n",
       "4 -8260683887967679142      M   35  M32-38          小米         MI 2   \n",
       "\n",
       "  Brand_Model  Adult  Age_30_Split  AgeGroup      ...        label_id  \\\n",
       "0     小米,MI 2  Adult  30 and Above        30      ...             549   \n",
       "1     小米,MI 2  Adult  30 and Above        30      ...             549   \n",
       "2     小米,MI 2  Adult  30 and Above        30      ...             549   \n",
       "3     小米,MI 2  Adult  30 and Above        30      ...             549   \n",
       "4     小米,MI 2  Adult  30 and Above        30      ...             549   \n",
       "\n",
       "                category Meizu_Brand  vivo_Brand  Wealth_Management  P2PLoan  \\\n",
       "0  Property Industry 1.0           0           0                  0        0   \n",
       "1  Property Industry 1.0           0           0                  0        0   \n",
       "2  Property Industry 1.0           0           0                  0        0   \n",
       "3  Property Industry 1.0           0           0                  0        0   \n",
       "4  Property Industry 1.0           0           0                  0        0   \n",
       "\n",
       "   OnlineShopping  Video  Age_30_Cutoff  Liquid_medium  \n",
       "0               0      0              0              0  \n",
       "1               0      0              0              0  \n",
       "2               0      0              0              0  \n",
       "3               0      0              0              0  \n",
       "4               0      0              0              0  \n",
       "\n",
       "[5 rows x 21 columns]"
      ]
     },
     "execution_count": 54,
     "metadata": {},
     "output_type": "execute_result"
    }
   ],
   "source": [
    "df_model_base_data.head()"
   ]
  },
  {
   "cell_type": "code",
   "execution_count": 55,
   "metadata": {
    "collapsed": false
   },
   "outputs": [
    {
     "name": "stderr",
     "output_type": "stream",
     "text": [
      "C:\\Users\\Felix\\Python\\lib\\site-packages\\ipykernel\\__main__.py:5: SettingWithCopyWarning: \n",
      "A value is trying to be set on a copy of a slice from a DataFrame.\n",
      "Try using .loc[row_indexer,col_indexer] = value instead\n",
      "\n",
      "See the caveats in the documentation: http://pandas.pydata.org/pandas-docs/stable/indexing.html#indexing-view-versus-copy\n"
     ]
    }
   ],
   "source": [
    "# Keep all useful columns\n",
    "df_model_base_data_New = df_model_base_data[['Age_30_Cutoff', 'Meizu_Brand', 'vivo_Brand', 'Wealth_Management', 'P2PLoan',\n",
    "                                            'OnlineShopping', 'Liquid_medium']]\n",
    "# manually add the intercept\n",
    "df_model_base_data_New['intercept'] = 1"
   ]
  },
  {
   "cell_type": "code",
   "execution_count": 56,
   "metadata": {
    "collapsed": false
   },
   "outputs": [
    {
     "data": {
      "text/html": [
       "<div>\n",
       "<table border=\"1\" class=\"dataframe\">\n",
       "  <thead>\n",
       "    <tr style=\"text-align: right;\">\n",
       "      <th></th>\n",
       "      <th>Age_30_Cutoff</th>\n",
       "      <th>Meizu_Brand</th>\n",
       "      <th>vivo_Brand</th>\n",
       "      <th>Wealth_Management</th>\n",
       "      <th>P2PLoan</th>\n",
       "      <th>OnlineShopping</th>\n",
       "      <th>Liquid_medium</th>\n",
       "      <th>intercept</th>\n",
       "    </tr>\n",
       "  </thead>\n",
       "  <tbody>\n",
       "    <tr>\n",
       "      <th>0</th>\n",
       "      <td>0</td>\n",
       "      <td>0</td>\n",
       "      <td>0</td>\n",
       "      <td>0</td>\n",
       "      <td>0</td>\n",
       "      <td>0</td>\n",
       "      <td>0</td>\n",
       "      <td>1</td>\n",
       "    </tr>\n",
       "    <tr>\n",
       "      <th>1</th>\n",
       "      <td>0</td>\n",
       "      <td>0</td>\n",
       "      <td>0</td>\n",
       "      <td>0</td>\n",
       "      <td>0</td>\n",
       "      <td>0</td>\n",
       "      <td>0</td>\n",
       "      <td>1</td>\n",
       "    </tr>\n",
       "    <tr>\n",
       "      <th>2</th>\n",
       "      <td>0</td>\n",
       "      <td>0</td>\n",
       "      <td>0</td>\n",
       "      <td>0</td>\n",
       "      <td>0</td>\n",
       "      <td>0</td>\n",
       "      <td>0</td>\n",
       "      <td>1</td>\n",
       "    </tr>\n",
       "    <tr>\n",
       "      <th>3</th>\n",
       "      <td>0</td>\n",
       "      <td>0</td>\n",
       "      <td>0</td>\n",
       "      <td>0</td>\n",
       "      <td>0</td>\n",
       "      <td>0</td>\n",
       "      <td>0</td>\n",
       "      <td>1</td>\n",
       "    </tr>\n",
       "    <tr>\n",
       "      <th>4</th>\n",
       "      <td>0</td>\n",
       "      <td>0</td>\n",
       "      <td>0</td>\n",
       "      <td>0</td>\n",
       "      <td>0</td>\n",
       "      <td>0</td>\n",
       "      <td>0</td>\n",
       "      <td>1</td>\n",
       "    </tr>\n",
       "  </tbody>\n",
       "</table>\n",
       "</div>"
      ],
      "text/plain": [
       "   Age_30_Cutoff  Meizu_Brand  vivo_Brand  Wealth_Management  P2PLoan  \\\n",
       "0              0            0           0                  0        0   \n",
       "1              0            0           0                  0        0   \n",
       "2              0            0           0                  0        0   \n",
       "3              0            0           0                  0        0   \n",
       "4              0            0           0                  0        0   \n",
       "\n",
       "   OnlineShopping  Liquid_medium  intercept  \n",
       "0               0              0          1  \n",
       "1               0              0          1  \n",
       "2               0              0          1  \n",
       "3               0              0          1  \n",
       "4               0              0          1  "
      ]
     },
     "execution_count": 56,
     "metadata": {},
     "output_type": "execute_result"
    }
   ],
   "source": [
    "df_model_base_data_New.head()"
   ]
  },
  {
   "cell_type": "code",
   "execution_count": 57,
   "metadata": {
    "collapsed": false
   },
   "outputs": [],
   "source": [
    "train_cols = df_model_base_data_New.iloc[:,1:7]"
   ]
  },
  {
   "cell_type": "code",
   "execution_count": 58,
   "metadata": {
    "collapsed": false
   },
   "outputs": [
    {
     "data": {
      "text/html": [
       "<div>\n",
       "<table border=\"1\" class=\"dataframe\">\n",
       "  <thead>\n",
       "    <tr style=\"text-align: right;\">\n",
       "      <th></th>\n",
       "      <th>Meizu_Brand</th>\n",
       "      <th>vivo_Brand</th>\n",
       "      <th>Wealth_Management</th>\n",
       "      <th>P2PLoan</th>\n",
       "      <th>OnlineShopping</th>\n",
       "      <th>Liquid_medium</th>\n",
       "    </tr>\n",
       "  </thead>\n",
       "  <tbody>\n",
       "    <tr>\n",
       "      <th>0</th>\n",
       "      <td>0</td>\n",
       "      <td>0</td>\n",
       "      <td>0</td>\n",
       "      <td>0</td>\n",
       "      <td>0</td>\n",
       "      <td>0</td>\n",
       "    </tr>\n",
       "    <tr>\n",
       "      <th>1</th>\n",
       "      <td>0</td>\n",
       "      <td>0</td>\n",
       "      <td>0</td>\n",
       "      <td>0</td>\n",
       "      <td>0</td>\n",
       "      <td>0</td>\n",
       "    </tr>\n",
       "    <tr>\n",
       "      <th>2</th>\n",
       "      <td>0</td>\n",
       "      <td>0</td>\n",
       "      <td>0</td>\n",
       "      <td>0</td>\n",
       "      <td>0</td>\n",
       "      <td>0</td>\n",
       "    </tr>\n",
       "    <tr>\n",
       "      <th>3</th>\n",
       "      <td>0</td>\n",
       "      <td>0</td>\n",
       "      <td>0</td>\n",
       "      <td>0</td>\n",
       "      <td>0</td>\n",
       "      <td>0</td>\n",
       "    </tr>\n",
       "    <tr>\n",
       "      <th>4</th>\n",
       "      <td>0</td>\n",
       "      <td>0</td>\n",
       "      <td>0</td>\n",
       "      <td>0</td>\n",
       "      <td>0</td>\n",
       "      <td>0</td>\n",
       "    </tr>\n",
       "  </tbody>\n",
       "</table>\n",
       "</div>"
      ],
      "text/plain": [
       "   Meizu_Brand  vivo_Brand  Wealth_Management  P2PLoan  OnlineShopping  \\\n",
       "0            0           0                  0        0               0   \n",
       "1            0           0                  0        0               0   \n",
       "2            0           0                  0        0               0   \n",
       "3            0           0                  0        0               0   \n",
       "4            0           0                  0        0               0   \n",
       "\n",
       "   Liquid_medium  \n",
       "0              0  \n",
       "1              0  \n",
       "2              0  \n",
       "3              0  \n",
       "4              0  "
      ]
     },
     "execution_count": 58,
     "metadata": {},
     "output_type": "execute_result"
    }
   ],
   "source": [
    "train_cols.head()"
   ]
  },
  {
   "cell_type": "code",
   "execution_count": 59,
   "metadata": {
    "collapsed": false
   },
   "outputs": [
    {
     "name": "stdout",
     "output_type": "stream",
     "text": [
      "(4315491, 6)\n",
      "(1438497, 6)\n",
      "(4315491,)\n",
      "(1438497,)\n"
     ]
    }
   ],
   "source": [
    "X_train, X_test, Y_train, Y_test = sklearn.model_selection.train_test_split(\n",
    "    train_cols, df_model_base_data_New.Age_30_Cutoff, test_size=0.25, random_state = 5)\n",
    "print (X_train.shape)\n",
    "print (X_test.shape)\n",
    "print (Y_train.shape)\n",
    "print (Y_test.shape)"
   ]
  },
  {
   "cell_type": "code",
   "execution_count": 60,
   "metadata": {
    "collapsed": false
   },
   "outputs": [
    {
     "name": "stdout",
     "output_type": "stream",
     "text": [
      "0.587163546396\n"
     ]
    }
   ],
   "source": [
    "clf = LogisticRegression()\n",
    "# Fit the model on the trainng data.\n",
    "clf.fit(X_train, Y_train)\n",
    "# Print the accuracy from the testing data.\n",
    "print(accuracy_score(clf.predict(X_test), Y_test))"
   ]
  },
  {
   "cell_type": "markdown",
   "metadata": {},
   "source": [
    "### Tuning the Model"
   ]
  },
  {
   "cell_type": "code",
   "execution_count": 61,
   "metadata": {
    "collapsed": true
   },
   "outputs": [],
   "source": [
    "from sklearn.model_selection import KFold\n",
    "from sklearn.metrics import accuracy_score\n",
    "\n",
    "def cv_score(clf, x, y, score_func=accuracy_score):\n",
    "    result = 0\n",
    "    nfold = 5\n",
    "    for train, test in KFold(nfold).split(x): # split data into train/test groups, 5 times\n",
    "        clf.fit(x[train], y[train]) # fit\n",
    "        result += score_func(clf.predict(x[test]), y[test]) # evaluate score function on held-out data\n",
    "    return result / nfold # average"
   ]
  },
  {
   "cell_type": "code",
   "execution_count": 62,
   "metadata": {
    "collapsed": false
   },
   "outputs": [
    {
     "name": "stdout",
     "output_type": "stream",
     "text": [
      "0.587433504212\n"
     ]
    }
   ],
   "source": [
    "clf = LogisticRegression()\n",
    "X_train_array = DataFrame.as_matrix(X_train)\n",
    "Y_train_array = DataFrame.as_matrix(Y_train)\n",
    "score = cv_score(clf, X_train_array, Y_train_array)\n",
    "print(score)"
   ]
  },
  {
   "cell_type": "code",
   "execution_count": 63,
   "metadata": {
    "collapsed": false
   },
   "outputs": [
    {
     "name": "stdout",
     "output_type": "stream",
     "text": [
      "0.587440919345 0.001\n"
     ]
    }
   ],
   "source": [
    "#Find the best C\n",
    "#the grid of parameters to search over\n",
    "Cs = [0.001,0.05,0.01, 0.1,1, 10, 100]\n",
    "\n",
    "max_score = 0\n",
    "\n",
    "for C in Cs:\n",
    "        clf = LogisticRegression(C=C)\n",
    "        score = cv_score(clf, X_train_array, Y_train_array)\n",
    "\n",
    "        if score > max_score:\n",
    "            max_score = score\n",
    "            best_C =C\n",
    "print (max_score, best_C)"
   ]
  },
  {
   "cell_type": "code",
   "execution_count": 64,
   "metadata": {
    "collapsed": false
   },
   "outputs": [
    {
     "name": "stderr",
     "output_type": "stream",
     "text": [
      "C:\\Users\\Felix\\Python\\lib\\site-packages\\sklearn\\cross_validation.py:44: DeprecationWarning: This module was deprecated in version 0.18 in favor of the model_selection module into which all the refactored classes and functions are moved. Also note that the interface of the new CV iterators are different from that of this module. This module will be removed in 0.20.\n",
      "  \"This module will be removed in 0.20.\", DeprecationWarning)\n",
      "C:\\Users\\Felix\\Python\\lib\\site-packages\\sklearn\\grid_search.py:43: DeprecationWarning: This module was deprecated in version 0.18 in favor of the model_selection module into which all the refactored classes and functions are moved. This module will be removed in 0.20.\n",
      "  DeprecationWarning)\n"
     ]
    },
    {
     "data": {
      "text/plain": [
       "(LogisticRegression(C=0.0001, class_weight=None, dual=False,\n",
       "           fit_intercept=True, intercept_scaling=1, max_iter=100,\n",
       "           multi_class='ovr', n_jobs=1, penalty='l2', random_state=None,\n",
       "           solver='liblinear', tol=0.0001, verbose=0, warm_start=False),\n",
       " {'C': 0.0001},\n",
       " 0.5874578350412503,\n",
       " [mean: 0.58746, std: 0.00030, params: {'C': 0.0001},\n",
       "  mean: 0.58744, std: 0.00027, params: {'C': 0.001},\n",
       "  mean: 0.58743, std: 0.00028, params: {'C': 0.1},\n",
       "  mean: 0.58743, std: 0.00029, params: {'C': 1},\n",
       "  mean: 0.58743, std: 0.00029, params: {'C': 10},\n",
       "  mean: 0.58743, std: 0.00029, params: {'C': 100}])"
      ]
     },
     "execution_count": 64,
     "metadata": {},
     "output_type": "execute_result"
    }
   ],
   "source": [
    "from sklearn.grid_search import GridSearchCV\n",
    "clfl2=LogisticRegression()\n",
    "parameters = {\"C\": [0.0001, 0.001, 0.1, 1, 10, 100]}\n",
    "fitmodel = GridSearchCV(clfl2, param_grid=parameters, cv=5, scoring=\"accuracy\")\n",
    "fitmodel.fit(X_train_array, Y_train_array)\n",
    "fitmodel.best_estimator_, fitmodel.best_params_, fitmodel.best_score_, fitmodel.grid_scores_"
   ]
  },
  {
   "cell_type": "code",
   "execution_count": 65,
   "metadata": {
    "collapsed": false
   },
   "outputs": [
    {
     "data": {
      "text/plain": [
       "0.5871781449665866"
      ]
     },
     "execution_count": 65,
     "metadata": {},
     "output_type": "execute_result"
    }
   ],
   "source": [
    "clfl2=LogisticRegression(C=fitmodel.best_params_['C'])\n",
    "clfl2.fit(X_train_array, Y_train_array)\n",
    "ypred2=clfl2.predict(X_test)\n",
    "accuracy_score(ypred2, Y_test)"
   ]
  }
 ],
 "metadata": {
  "kernelspec": {
   "display_name": "Python 3",
   "language": "python",
   "name": "python3"
  },
  "language_info": {
   "codemirror_mode": {
    "name": "ipython",
    "version": 3
   },
   "file_extension": ".py",
   "mimetype": "text/x-python",
   "name": "python",
   "nbconvert_exporter": "python",
   "pygments_lexer": "ipython3",
   "version": "3.6.0"
  }
 },
 "nbformat": 4,
 "nbformat_minor": 0
}
